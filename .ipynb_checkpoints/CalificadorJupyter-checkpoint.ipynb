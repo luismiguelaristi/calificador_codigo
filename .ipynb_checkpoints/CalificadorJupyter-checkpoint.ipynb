{
 "cells": [
  {
   "cell_type": "markdown",
   "metadata": {},
   "source": [
    "# Verificador Entregas\n",
    " \n",
    "1. Abrir carpetas de entrega AulaDigital\n",
    "2. Convertir cuadernos a python con nbconvert\n",
    "3. Comparar para similaridad\n",
    "\n",
    "## Uso\n",
    "\n",
    "Copiar este cuaderno en la raiz de la carpeta donde se descomprimió la entrega en Aula Digital, luego ejecutarlo todo.\n"
   ]
  },
  {
   "cell_type": "code",
   "execution_count": 1,
   "metadata": {},
   "outputs": [
    {
     "data": {
      "text/plain": [
       "''"
      ]
     },
     "execution_count": 1,
     "metadata": {},
     "output_type": "execute_result"
    }
   ],
   "source": [
    "%reset -sf\n",
    "\n",
    "extensions = [\n",
    "    '.py',\n",
    "    'otra_ext'\n",
    "]\n",
    "\n",
    "evaluacion = \"Examen 1\"\n",
    "enunciado = '''\n",
    "Enunciado aquí.\n",
    "'''\n",
    "\n",
    "import os\n",
    "from pathlib import Path\n",
    "\n",
    "import tkinter as tk\n",
    "from  tkinter import filedialog\n",
    "\n",
    "root = tk.Tk()\n",
    "root.withdraw()"
   ]
  },
  {
   "cell_type": "markdown",
   "metadata": {},
   "source": [
    "## Procesar carpeta con archivos comprimidos o con carpetas descomprimidas\n",
    "\n",
    "Requiere: \n",
    "- una carpeta con los .zip generados por Aula Digital\n",
    "    - Con esta opción, descomprime los .zip y genera carpetas con consecutivos\n",
    "o\n",
    "- una carpeta con las subcarpetas de las evaluaciones.\n",
    "    - Con esta opción, solo identifica las subcarpetas\n",
    "    \n",
    "El resultado es la lista ```basepaths```"
   ]
  },
  {
   "cell_type": "code",
   "execution_count": null,
   "metadata": {},
   "outputs": [],
   "source": [
    "rootpath = Path(filedialog.askdirectory())\n",
    "# rootpath = Path(r\"C:\\Users\\000092114\\UPB\\Fundamentos de Computacion 2022-20 - Profesores - Profesores\\_notas\\seg1\\Test\")\n",
    "basepaths = []\n",
    "content = rootpath.glob('*/')\n",
    "contList = [Path(x) for x in content]\n",
    "folders = [x for x in contList if x.is_dir()]\n",
    "files = [x for x in contList if x.is_file() and x.suffix == \".zip\"]\n",
    "# print(folders)\n",
    "# print(files)\n",
    "# generateNB = False\n",
    "if folders == [] and files != []: # si no se ha descomprimido nada y hay .zips por descomprimir\n",
    "    from zipfile import ZipFile\n",
    "    grupo = 1\n",
    "    # ahora se define el nombre de la carpeta con un consecutivo.\n",
    "    for file in files:\n",
    "        # Create a ZipFile Object and load sample.zip in it\n",
    "        with ZipFile(str(file), 'r') as zipObj:\n",
    "           # Extract all the contents of zip file in different directory\n",
    "            zipObj.extractall(file.parent/str(grupo))\n",
    "#             generateNB = True\n",
    "        basepaths.append(file.parent/str(grupo))\n",
    "        grupo += 1\n",
    "elif folders != []:\n",
    "    basepaths = folders"
   ]
  },
  {
   "cell_type": "code",
   "execution_count": 5,
   "metadata": {
    "scrolled": true
   },
   "outputs": [
    {
     "name": "stdout",
     "output_type": "stream",
     "text": [
      "[WindowsPath('C:/Users/LMAG/UPB/Mecanismos - General/2022_20/_notas/Taller4_EcuacionesCierreVectorial/1'), WindowsPath('C:/Users/LMAG/UPB/Mecanismos - General/2022_20/_notas/Taller4_EcuacionesCierreVectorial/2')]\n"
     ]
    }
   ],
   "source": [
    "    \n",
    "print(basepaths)"
   ]
  },
  {
   "cell_type": "markdown",
   "metadata": {},
   "source": [
    "## Procesar los archivos\n",
    "\n",
    "Esta versión es solo para cuadernos de Jupyter."
   ]
  },
  {
   "cell_type": "code",
   "execution_count": 55,
   "metadata": {},
   "outputs": [],
   "source": [
    "pathList,nameList,nbList = list(),list(),list()\n",
    "for basepath in basepaths:\n",
    "    for entry in os.listdir(basepath):\n",
    "        entry = Path(entry)\n",
    "#         if str(entry).endswith(\"_assignsubmission_file_\"): # Descomentar para Tareas\n",
    "        if True:  # Descomentar para Cuestionarios\n",
    "            #recoja todos los archivos de cada entrega\n",
    "            pathList.append(basepath/entry)\n",
    "            p = pathList[-1].glob(\"**/*\")\n",
    "            for i,x in enumerate(p):\n",
    "                #solo guarde los que estén en la lista de extensiones (para evitar que coja los cuadernos)\n",
    "                if x.is_file() and x.suffix == \".ipynb\":\n",
    "                    #agregue el path de la carpeta a la lista de paths\n",
    "                    nbList.append(x)\n",
    "                    #agregue el nombre a la lista de nombres (extraido del nombre de la entrega)\n",
    "                    nameList.append(str(entry).split(\"_\")[0])\n",
    "#             nbList.append([x for x in p if x.is_file() and x.suffix == \".ipynb\"])"
   ]
  },
  {
   "cell_type": "code",
   "execution_count": 58,
   "metadata": {},
   "outputs": [
    {
     "name": "stdout",
     "output_type": "stream",
     "text": [
      "[WindowsPath('C:/Users/LMAG/UPB/Mecanismos - General/2022_20/_notas/Taller4_EcuacionesCierreVectorial/1/AndresZuluaga/Taller 4 Andrés Zuluaga.ipynb'), WindowsPath('C:/Users/LMAG/UPB/Mecanismos - General/2022_20/_notas/Taller4_EcuacionesCierreVectorial/1/DanielGallego/Taller 4 cierre vectorial .ipynb'), WindowsPath('C:/Users/LMAG/UPB/Mecanismos - General/2022_20/_notas/Taller4_EcuacionesCierreVectorial/1/DanielRincon/Taller Ecuaciones De Cierre DRG.ipynb'), WindowsPath('C:/Users/LMAG/UPB/Mecanismos - General/2022_20/_notas/Taller4_EcuacionesCierreVectorial/1/DavidChacon/Taller ecuaciones cierre vectorial.ipynb'), WindowsPath('C:/Users/LMAG/UPB/Mecanismos - General/2022_20/_notas/Taller4_EcuacionesCierreVectorial/1/DavidTamayo/04_taller_David.ipynb'), WindowsPath('C:/Users/LMAG/UPB/Mecanismos - General/2022_20/_notas/Taller4_EcuacionesCierreVectorial/1/JoseFrancisco/ECUACIONES DE CIERRE VECTORIAL (1).ipynb'), WindowsPath('C:/Users/LMAG/UPB/Mecanismos - General/2022_20/_notas/Taller4_EcuacionesCierreVectorial/1/JuanManuelMadrid/tallerMecanismosJuan.ipynb'), WindowsPath('C:/Users/LMAG/UPB/Mecanismos - General/2022_20/_notas/Taller4_EcuacionesCierreVectorial/1/PabloOspina/Taller Ecuaciones Cierre Vectorial Pablo Ospina.ipynb'), WindowsPath('C:/Users/LMAG/UPB/Mecanismos - General/2022_20/_notas/Taller4_EcuacionesCierreVectorial/1/SantiagoVega/Taller_Cierre_Vectorial_SVR.ipynb'), WindowsPath('C:/Users/LMAG/UPB/Mecanismos - General/2022_20/_notas/Taller4_EcuacionesCierreVectorial/1/SebastianOrtega/Taller4_SebastianOrtega (2).ipynb'), WindowsPath('C:/Users/LMAG/UPB/Mecanismos - General/2022_20/_notas/Taller4_EcuacionesCierreVectorial/1/SebastianRegalado/Ecuaciones cierre vectorial.ipynb'), WindowsPath('C:/Users/LMAG/UPB/Mecanismos - General/2022_20/_notas/Taller4_EcuacionesCierreVectorial/1/TomasWhite/Taller 4 - Mecanismos - Tomas White.ipynb'), WindowsPath('C:/Users/LMAG/UPB/Mecanismos - General/2022_20/_notas/Taller4_EcuacionesCierreVectorial/1/ValentinaAgudelo/VAF 000431737 MECANISMO.ipynb'), WindowsPath('C:/Users/LMAG/UPB/Mecanismos - General/2022_20/_notas/Taller4_EcuacionesCierreVectorial/2/LeonardoPerez/TALLER 4 .ipynb'), WindowsPath('C:/Users/LMAG/UPB/Mecanismos - General/2022_20/_notas/Taller4_EcuacionesCierreVectorial/2/SofiaVanegas/Taller 4-SVD.ipynb'), WindowsPath('C:/Users/LMAG/UPB/Mecanismos - General/2022_20/_notas/Taller4_EcuacionesCierreVectorial/2/ValentinaCalao/4 - Ecuaciones de cierre vectorial - Valentina Calao Jiménez (1) (1).ipynb'), WindowsPath('C:/Users/LMAG/UPB/Mecanismos - General/2022_20/_notas/Taller4_EcuacionesCierreVectorial/2/ValeriaSilva/Taller4EcuacionesCierre_ValeriaSilva.ipynb')] ['AndresZuluaga', 'DanielGallego', 'DanielRincon', 'DavidChacon', 'DavidTamayo', 'JoseFrancisco', 'JuanManuelMadrid', 'PabloOspina', 'SantiagoVega', 'SebastianOrtega', 'SebastianRegalado', 'TomasWhite', 'ValentinaAgudelo', 'LeonardoPerez', 'SofiaVanegas', 'ValentinaCalao', 'ValeriaSilva'] 17 17\n"
     ]
    }
   ],
   "source": [
    "print(nbList,nameList,len(nbList),len(nameList))\n",
    "    # leer el contenido del archivo como texto\n",
    "    #print(scriptList[-1][-1].read_text())"
   ]
  },
  {
   "cell_type": "markdown",
   "metadata": {},
   "source": [
    "## Creación de scripts a partir de cuadernos"
   ]
  },
  {
   "cell_type": "code",
   "execution_count": 75,
   "metadata": {},
   "outputs": [],
   "source": [
    "def genScripts(nombres,cuadernos,limpiar):\n",
    "    listaScripts = []\n",
    "    for cuaderno in cuadernos:\n",
    "        try:\n",
    "#             print(cuaderno)\n",
    "#                 codeText = script.read_text(encoding=\"utf8\")\n",
    "            nombre = cuaderno.parts[-2]  #para talleres requiere mod.\n",
    "            fullNombre = nombre + \".py\"\n",
    "            print(fullNombre)\n",
    "            fullNombre = cuaderno.parent/fullNombre\n",
    "            listaScripts.append(fullNombre)\n",
    "            if not fullNombre.exists():\n",
    "                !jupyter nbconvert --to script \"{cuaderno}\" --output \"{nombre}\"\n",
    "            else:\n",
    "                if limpiar:\n",
    "                    fullNombre.unlink()\n",
    "        except:\n",
    "            print(f\"fallo conversion de cuaderno en {cuaderno}\")\n",
    "#             return None\n",
    "        \n",
    "    return listaScripts"
   ]
  },
  {
   "cell_type": "code",
   "execution_count": 89,
   "metadata": {},
   "outputs": [
    {
     "name": "stdout",
     "output_type": "stream",
     "text": [
      "AndresZuluaga.py\n",
      "DanielGallego.py\n"
     ]
    },
    {
     "name": "stderr",
     "output_type": "stream",
     "text": [
      "[NbConvertApp] Converting notebook C:\\Users\\LMAG\\UPB\\Mecanismos - General\\2022_20\\_notas\\Taller4_EcuacionesCierreVectorial\\1\\AndresZuluaga\\Taller 4 Andrés Zuluaga.ipynb to script\n",
      "[NbConvertApp] Writing 2869 bytes to C:\\Users\\LMAG\\UPB\\Mecanismos - General\\2022_20\\_notas\\Taller4_EcuacionesCierreVectorial\\1\\AndresZuluaga\\AndresZuluaga.py\n"
     ]
    },
    {
     "name": "stdout",
     "output_type": "stream",
     "text": [
      "DanielRincon.py\n"
     ]
    },
    {
     "name": "stderr",
     "output_type": "stream",
     "text": [
      "[NbConvertApp] Converting notebook C:\\Users\\LMAG\\UPB\\Mecanismos - General\\2022_20\\_notas\\Taller4_EcuacionesCierreVectorial\\1\\DanielGallego\\Taller 4 cierre vectorial .ipynb to script\n",
      "[NbConvertApp] Writing 1548 bytes to C:\\Users\\LMAG\\UPB\\Mecanismos - General\\2022_20\\_notas\\Taller4_EcuacionesCierreVectorial\\1\\DanielGallego\\DanielGallego.py\n"
     ]
    },
    {
     "name": "stdout",
     "output_type": "stream",
     "text": [
      "DavidChacon.py\n"
     ]
    },
    {
     "name": "stderr",
     "output_type": "stream",
     "text": [
      "[NbConvertApp] Converting notebook C:\\Users\\LMAG\\UPB\\Mecanismos - General\\2022_20\\_notas\\Taller4_EcuacionesCierreVectorial\\1\\DanielRincon\\Taller Ecuaciones De Cierre DRG.ipynb to script\n",
      "[NbConvertApp] Writing 3040 bytes to C:\\Users\\LMAG\\UPB\\Mecanismos - General\\2022_20\\_notas\\Taller4_EcuacionesCierreVectorial\\1\\DanielRincon\\DanielRincon.py\n"
     ]
    },
    {
     "name": "stdout",
     "output_type": "stream",
     "text": [
      "DavidTamayo.py\n"
     ]
    },
    {
     "name": "stderr",
     "output_type": "stream",
     "text": [
      "[NbConvertApp] Converting notebook C:\\Users\\LMAG\\UPB\\Mecanismos - General\\2022_20\\_notas\\Taller4_EcuacionesCierreVectorial\\1\\DavidChacon\\Taller ecuaciones cierre vectorial.ipynb to script\n",
      "[NbConvertApp] Writing 3377 bytes to C:\\Users\\LMAG\\UPB\\Mecanismos - General\\2022_20\\_notas\\Taller4_EcuacionesCierreVectorial\\1\\DavidChacon\\DavidChacon.py\n"
     ]
    },
    {
     "name": "stdout",
     "output_type": "stream",
     "text": [
      "JoseFrancisco.py\n"
     ]
    },
    {
     "name": "stderr",
     "output_type": "stream",
     "text": [
      "[NbConvertApp] Converting notebook C:\\Users\\LMAG\\UPB\\Mecanismos - General\\2022_20\\_notas\\Taller4_EcuacionesCierreVectorial\\1\\DavidTamayo\\04_taller_David.ipynb to script\n",
      "[NbConvertApp] Writing 6279 bytes to C:\\Users\\LMAG\\UPB\\Mecanismos - General\\2022_20\\_notas\\Taller4_EcuacionesCierreVectorial\\1\\DavidTamayo\\DavidTamayo.py\n"
     ]
    },
    {
     "name": "stdout",
     "output_type": "stream",
     "text": [
      "JuanManuelMadrid.py\n"
     ]
    },
    {
     "name": "stderr",
     "output_type": "stream",
     "text": [
      "[NbConvertApp] Converting notebook C:\\Users\\LMAG\\UPB\\Mecanismos - General\\2022_20\\_notas\\Taller4_EcuacionesCierreVectorial\\1\\JoseFrancisco\\ECUACIONES DE CIERRE VECTORIAL (1).ipynb to script\n",
      "[NbConvertApp] Writing 3098 bytes to C:\\Users\\LMAG\\UPB\\Mecanismos - General\\2022_20\\_notas\\Taller4_EcuacionesCierreVectorial\\1\\JoseFrancisco\\JoseFrancisco.py\n"
     ]
    },
    {
     "name": "stdout",
     "output_type": "stream",
     "text": [
      "PabloOspina.py\n"
     ]
    },
    {
     "name": "stderr",
     "output_type": "stream",
     "text": [
      "[NbConvertApp] Converting notebook C:\\Users\\LMAG\\UPB\\Mecanismos - General\\2022_20\\_notas\\Taller4_EcuacionesCierreVectorial\\1\\JuanManuelMadrid\\tallerMecanismosJuan.ipynb to script\n",
      "[NbConvertApp] Writing 2497 bytes to C:\\Users\\LMAG\\UPB\\Mecanismos - General\\2022_20\\_notas\\Taller4_EcuacionesCierreVectorial\\1\\JuanManuelMadrid\\JuanManuelMadrid.py\n"
     ]
    },
    {
     "name": "stdout",
     "output_type": "stream",
     "text": [
      "SantiagoVega.py\n"
     ]
    },
    {
     "name": "stderr",
     "output_type": "stream",
     "text": [
      "[NbConvertApp] Converting notebook C:\\Users\\LMAG\\UPB\\Mecanismos - General\\2022_20\\_notas\\Taller4_EcuacionesCierreVectorial\\1\\PabloOspina\\Taller Ecuaciones Cierre Vectorial Pablo Ospina.ipynb to script\n",
      "[NbConvertApp] Writing 4930 bytes to C:\\Users\\LMAG\\UPB\\Mecanismos - General\\2022_20\\_notas\\Taller4_EcuacionesCierreVectorial\\1\\PabloOspina\\PabloOspina.py\n"
     ]
    },
    {
     "name": "stdout",
     "output_type": "stream",
     "text": [
      "SebastianOrtega.py\n"
     ]
    },
    {
     "name": "stderr",
     "output_type": "stream",
     "text": [
      "[NbConvertApp] Converting notebook C:\\Users\\LMAG\\UPB\\Mecanismos - General\\2022_20\\_notas\\Taller4_EcuacionesCierreVectorial\\1\\SantiagoVega\\Taller_Cierre_Vectorial_SVR.ipynb to script\n",
      "[NbConvertApp] Writing 3595 bytes to C:\\Users\\LMAG\\UPB\\Mecanismos - General\\2022_20\\_notas\\Taller4_EcuacionesCierreVectorial\\1\\SantiagoVega\\SantiagoVega.py\n"
     ]
    },
    {
     "name": "stdout",
     "output_type": "stream",
     "text": [
      "SebastianRegalado.py\n"
     ]
    },
    {
     "name": "stderr",
     "output_type": "stream",
     "text": [
      "[NbConvertApp] Converting notebook C:\\Users\\LMAG\\UPB\\Mecanismos - General\\2022_20\\_notas\\Taller4_EcuacionesCierreVectorial\\1\\SebastianOrtega\\Taller4_SebastianOrtega (2).ipynb to script\n",
      "[NbConvertApp] Writing 3314 bytes to C:\\Users\\LMAG\\UPB\\Mecanismos - General\\2022_20\\_notas\\Taller4_EcuacionesCierreVectorial\\1\\SebastianOrtega\\SebastianOrtega.py\n"
     ]
    },
    {
     "name": "stdout",
     "output_type": "stream",
     "text": [
      "TomasWhite.py\n"
     ]
    },
    {
     "name": "stderr",
     "output_type": "stream",
     "text": [
      "[NbConvertApp] Converting notebook C:\\Users\\LMAG\\UPB\\Mecanismos - General\\2022_20\\_notas\\Taller4_EcuacionesCierreVectorial\\1\\SebastianRegalado\\Ecuaciones cierre vectorial.ipynb to script\n",
      "[NbConvertApp] Writing 5775 bytes to C:\\Users\\LMAG\\UPB\\Mecanismos - General\\2022_20\\_notas\\Taller4_EcuacionesCierreVectorial\\1\\SebastianRegalado\\SebastianRegalado.py\n"
     ]
    },
    {
     "name": "stdout",
     "output_type": "stream",
     "text": [
      "ValentinaAgudelo.py\n",
      "fallo conversion de cuaderno en C:\\Users\\LMAG\\UPB\\Mecanismos - General\\2022_20\\_notas\\Taller4_EcuacionesCierreVectorial\\1\\ValentinaAgudelo\\VAF 000431737 MECANISMO.ipynb\n",
      "LeonardoPerez.py\n"
     ]
    },
    {
     "name": "stderr",
     "output_type": "stream",
     "text": [
      "[NbConvertApp] Converting notebook C:\\Users\\LMAG\\UPB\\Mecanismos - General\\2022_20\\_notas\\Taller4_EcuacionesCierreVectorial\\1\\TomasWhite\\Taller 4 - Mecanismos - Tomas White.ipynb to script\n",
      "[NbConvertApp] Writing 2943 bytes to C:\\Users\\LMAG\\UPB\\Mecanismos - General\\2022_20\\_notas\\Taller4_EcuacionesCierreVectorial\\1\\TomasWhite\\TomasWhite.py\n"
     ]
    },
    {
     "name": "stdout",
     "output_type": "stream",
     "text": [
      "SofiaVanegas.py\n"
     ]
    },
    {
     "name": "stderr",
     "output_type": "stream",
     "text": [
      "[NbConvertApp] Converting notebook C:\\Users\\LMAG\\UPB\\Mecanismos - General\\2022_20\\_notas\\Taller4_EcuacionesCierreVectorial\\2\\LeonardoPerez\\TALLER 4 .ipynb to script\n",
      "[NbConvertApp] Writing 2869 bytes to C:\\Users\\LMAG\\UPB\\Mecanismos - General\\2022_20\\_notas\\Taller4_EcuacionesCierreVectorial\\2\\LeonardoPerez\\LeonardoPerez.py\n"
     ]
    },
    {
     "name": "stdout",
     "output_type": "stream",
     "text": [
      "ValentinaCalao.py\n"
     ]
    },
    {
     "name": "stderr",
     "output_type": "stream",
     "text": [
      "[NbConvertApp] Converting notebook C:\\Users\\LMAG\\UPB\\Mecanismos - General\\2022_20\\_notas\\Taller4_EcuacionesCierreVectorial\\2\\SofiaVanegas\\Taller 4-SVD.ipynb to script\n",
      "[NbConvertApp] Writing 2606 bytes to C:\\Users\\LMAG\\UPB\\Mecanismos - General\\2022_20\\_notas\\Taller4_EcuacionesCierreVectorial\\2\\SofiaVanegas\\SofiaVanegas.py\n"
     ]
    },
    {
     "name": "stdout",
     "output_type": "stream",
     "text": [
      "ValeriaSilva.py\n",
      "fallo conversion de cuaderno en C:\\Users\\LMAG\\UPB\\Mecanismos - General\\2022_20\\_notas\\Taller4_EcuacionesCierreVectorial\\2\\ValeriaSilva\\Taller4EcuacionesCierre_ValeriaSilva.ipynb\n"
     ]
    },
    {
     "name": "stderr",
     "output_type": "stream",
     "text": [
      "[NbConvertApp] Converting notebook C:\\Users\\LMAG\\UPB\\Mecanismos - General\\2022_20\\_notas\\Taller4_EcuacionesCierreVectorial\\2\\ValentinaCalao\\4 - Ecuaciones de cierre vectorial - Valentina Calao Jiménez (1) (1).ipynb to script\n",
      "[NbConvertApp] Writing 3653 bytes to C:\\Users\\LMAG\\UPB\\Mecanismos - General\\2022_20\\_notas\\Taller4_EcuacionesCierreVectorial\\2\\ValentinaCalao\\ValentinaCalao.py\n"
     ]
    }
   ],
   "source": [
    "scriptList = []\n",
    "# print(nbList[0].parts[-2])\n",
    "# for i,(estName,estNbs) in enumerate(zip(nameList,nbList)):\n",
    "scriptPaths = genScripts(nameList,nbList,True)\n",
    "# if scriptPaths != None and nbList != []:\n",
    "#     scriptList.append(scriptPaths)\n",
    "# else:\n",
    "#     nameList.pop(i)"
   ]
  },
  {
   "cell_type": "code",
   "execution_count": 90,
   "metadata": {},
   "outputs": [
    {
     "name": "stdout",
     "output_type": "stream",
     "text": [
      "[WindowsPath('C:/Users/LMAG/UPB/Mecanismos - General/2022_20/_notas/Taller4_EcuacionesCierreVectorial/1/AndresZuluaga/AndresZuluaga.py'), WindowsPath('C:/Users/LMAG/UPB/Mecanismos - General/2022_20/_notas/Taller4_EcuacionesCierreVectorial/1/DanielGallego/DanielGallego.py'), WindowsPath('C:/Users/LMAG/UPB/Mecanismos - General/2022_20/_notas/Taller4_EcuacionesCierreVectorial/1/DanielRincon/DanielRincon.py'), WindowsPath('C:/Users/LMAG/UPB/Mecanismos - General/2022_20/_notas/Taller4_EcuacionesCierreVectorial/1/DavidChacon/DavidChacon.py'), WindowsPath('C:/Users/LMAG/UPB/Mecanismos - General/2022_20/_notas/Taller4_EcuacionesCierreVectorial/1/DavidTamayo/DavidTamayo.py'), WindowsPath('C:/Users/LMAG/UPB/Mecanismos - General/2022_20/_notas/Taller4_EcuacionesCierreVectorial/1/JoseFrancisco/JoseFrancisco.py'), WindowsPath('C:/Users/LMAG/UPB/Mecanismos - General/2022_20/_notas/Taller4_EcuacionesCierreVectorial/1/JuanManuelMadrid/JuanManuelMadrid.py'), WindowsPath('C:/Users/LMAG/UPB/Mecanismos - General/2022_20/_notas/Taller4_EcuacionesCierreVectorial/1/PabloOspina/PabloOspina.py'), WindowsPath('C:/Users/LMAG/UPB/Mecanismos - General/2022_20/_notas/Taller4_EcuacionesCierreVectorial/1/SantiagoVega/SantiagoVega.py'), WindowsPath('C:/Users/LMAG/UPB/Mecanismos - General/2022_20/_notas/Taller4_EcuacionesCierreVectorial/1/SebastianOrtega/SebastianOrtega.py'), WindowsPath('C:/Users/LMAG/UPB/Mecanismos - General/2022_20/_notas/Taller4_EcuacionesCierreVectorial/1/SebastianRegalado/SebastianRegalado.py'), WindowsPath('C:/Users/LMAG/UPB/Mecanismos - General/2022_20/_notas/Taller4_EcuacionesCierreVectorial/1/TomasWhite/TomasWhite.py'), WindowsPath('C:/Users/LMAG/UPB/Mecanismos - General/2022_20/_notas/Taller4_EcuacionesCierreVectorial/1/ValentinaAgudelo/ValentinaAgudelo.py'), WindowsPath('C:/Users/LMAG/UPB/Mecanismos - General/2022_20/_notas/Taller4_EcuacionesCierreVectorial/2/LeonardoPerez/LeonardoPerez.py'), WindowsPath('C:/Users/LMAG/UPB/Mecanismos - General/2022_20/_notas/Taller4_EcuacionesCierreVectorial/2/SofiaVanegas/SofiaVanegas.py'), WindowsPath('C:/Users/LMAG/UPB/Mecanismos - General/2022_20/_notas/Taller4_EcuacionesCierreVectorial/2/ValentinaCalao/ValentinaCalao.py'), WindowsPath('C:/Users/LMAG/UPB/Mecanismos - General/2022_20/_notas/Taller4_EcuacionesCierreVectorial/2/ValeriaSilva/ValeriaSilva.py')]\n"
     ]
    }
   ],
   "source": [
    "print(scriptPaths)"
   ]
  },
  {
   "cell_type": "markdown",
   "metadata": {},
   "source": [
    "### Limpiar códigos de comentarios.\n",
    "\n",
    " "
   ]
  },
  {
   "cell_type": "code",
   "execution_count": 91,
   "metadata": {
    "scrolled": true
   },
   "outputs": [],
   "source": [
    "import re\n",
    "\n",
    "\n",
    "def stripComments(code):\n",
    "    code = str(code)\n",
    "    return re.sub(r'(?m)^ *#.*\\n?', '', code)\n",
    "def stripLines(code,lines):\n",
    "    return ''.join(code.splitlines())[lines:]\n",
    "\n",
    "for i,script_base in enumerate(scriptPaths):\n",
    "    archivo = open(script_base, errors='ignore',encoding='UTF-8')\n",
    "    codigo = archivo.read()\n",
    "    archivo.close()\n",
    "    archivo = open(script_base,'w',encoding='UTF-8')\n",
    "    codigo = stripComments(codigo)\n",
    "    archivo.write(codigo)"
   ]
  },
  {
   "cell_type": "code",
   "execution_count": 95,
   "metadata": {},
   "outputs": [
    {
     "name": "stdout",
     "output_type": "stream",
     "text": [
      "['AndresZuluaga', 'DanielGallego', 'DanielRincon', 'DavidChacon', 'DavidTamayo', 'JoseFrancisco', 'JuanManuelMadrid', 'PabloOspina', 'SantiagoVega', 'SebastianOrtega', 'SebastianRegalado', 'TomasWhite', 'ValentinaAgudelo', 'LeonardoPerez', 'SofiaVanegas', 'ValentinaCalao', 'ValeriaSilva'] [WindowsPath('C:/Users/LMAG/UPB/Mecanismos - General/2022_20/_notas/Taller4_EcuacionesCierreVectorial/1/AndresZuluaga/AndresZuluaga.py'), WindowsPath('C:/Users/LMAG/UPB/Mecanismos - General/2022_20/_notas/Taller4_EcuacionesCierreVectorial/1/DanielGallego/DanielGallego.py'), WindowsPath('C:/Users/LMAG/UPB/Mecanismos - General/2022_20/_notas/Taller4_EcuacionesCierreVectorial/1/DanielRincon/DanielRincon.py'), WindowsPath('C:/Users/LMAG/UPB/Mecanismos - General/2022_20/_notas/Taller4_EcuacionesCierreVectorial/1/DavidChacon/DavidChacon.py'), WindowsPath('C:/Users/LMAG/UPB/Mecanismos - General/2022_20/_notas/Taller4_EcuacionesCierreVectorial/1/DavidTamayo/DavidTamayo.py'), WindowsPath('C:/Users/LMAG/UPB/Mecanismos - General/2022_20/_notas/Taller4_EcuacionesCierreVectorial/1/JoseFrancisco/JoseFrancisco.py'), WindowsPath('C:/Users/LMAG/UPB/Mecanismos - General/2022_20/_notas/Taller4_EcuacionesCierreVectorial/1/JuanManuelMadrid/JuanManuelMadrid.py'), WindowsPath('C:/Users/LMAG/UPB/Mecanismos - General/2022_20/_notas/Taller4_EcuacionesCierreVectorial/1/PabloOspina/PabloOspina.py'), WindowsPath('C:/Users/LMAG/UPB/Mecanismos - General/2022_20/_notas/Taller4_EcuacionesCierreVectorial/1/SantiagoVega/SantiagoVega.py'), WindowsPath('C:/Users/LMAG/UPB/Mecanismos - General/2022_20/_notas/Taller4_EcuacionesCierreVectorial/1/SebastianOrtega/SebastianOrtega.py'), WindowsPath('C:/Users/LMAG/UPB/Mecanismos - General/2022_20/_notas/Taller4_EcuacionesCierreVectorial/1/SebastianRegalado/SebastianRegalado.py'), WindowsPath('C:/Users/LMAG/UPB/Mecanismos - General/2022_20/_notas/Taller4_EcuacionesCierreVectorial/1/TomasWhite/TomasWhite.py'), WindowsPath('C:/Users/LMAG/UPB/Mecanismos - General/2022_20/_notas/Taller4_EcuacionesCierreVectorial/1/ValentinaAgudelo/ValentinaAgudelo.py'), WindowsPath('C:/Users/LMAG/UPB/Mecanismos - General/2022_20/_notas/Taller4_EcuacionesCierreVectorial/2/LeonardoPerez/LeonardoPerez.py'), WindowsPath('C:/Users/LMAG/UPB/Mecanismos - General/2022_20/_notas/Taller4_EcuacionesCierreVectorial/2/SofiaVanegas/SofiaVanegas.py'), WindowsPath('C:/Users/LMAG/UPB/Mecanismos - General/2022_20/_notas/Taller4_EcuacionesCierreVectorial/2/ValentinaCalao/ValentinaCalao.py'), WindowsPath('C:/Users/LMAG/UPB/Mecanismos - General/2022_20/_notas/Taller4_EcuacionesCierreVectorial/2/ValeriaSilva/ValeriaSilva.py')]\n",
      "17 17\n"
     ]
    }
   ],
   "source": [
    "print(nameList,scriptPaths)\n",
    "\n",
    "print(len(nameList),len(scriptPaths))"
   ]
  },
  {
   "cell_type": "markdown",
   "metadata": {},
   "source": [
    "### Verificar similaridad\n",
    "\n",
    "Correr estas celdas individualmente.\n",
    "1. Conformar la lista de scripts y estudiantes consolidada\n",
    "2. correr la celda para generar el mapa de similaridad"
   ]
  },
  {
   "cell_type": "code",
   "execution_count": 93,
   "metadata": {},
   "outputs": [],
   "source": [
    "# generar mapa de similaridad\n",
    "from difflib import SequenceMatcher\n",
    "import numpy as np\n",
    "import pandas as pd\n",
    "import seaborn as sns\n",
    "import matplotlib.pyplot as plt\n",
    "import statistics\n"
   ]
  },
  {
   "cell_type": "code",
   "execution_count": 99,
   "metadata": {},
   "outputs": [
    {
     "name": "stdout",
     "output_type": "stream",
     "text": [
      "28 %\n",
      "10.406749527582928 %\n",
      "AndresZuluaga se asemeja en: 34 % a SebastianOrtega.\n",
      "ValentinaAgudelo se asemeja en: 100 % a ValeriaSilva.\n"
     ]
    }
   ],
   "source": [
    "try:\n",
    "    print(umbral,'%')\n",
    "    print(similarStdev,'%')\n",
    "except:\n",
    "    umbral = 90 #porcentaje de similitud\n",
    "\n",
    "dimension = len(scriptPaths)\n",
    "similarity = np.zeros((dimension,dimension))\n",
    "mostSimilar = []\n",
    "flatSimilar = []\n",
    "for i,script_base in enumerate(scriptPaths):\n",
    "    for j,script_cmp in enumerate(scriptPaths):\n",
    "        with open(script_base, errors='ignore',encoding='UTF-8') as fileA,open(script_cmp, errors='ignore',encoding='UTF-8') as fileB:\n",
    "            fileAData = fileA.read()\n",
    "#             fileAData = stripComments(fileAData)\n",
    "            fileBData = fileB.read()\n",
    "#             fileBData = stripComments(fileBData)\n",
    "            similarity[[i],[j]] = int(SequenceMatcher(None, fileAData,fileBData).ratio()*100)\n",
    "            if similarity[[i],[j]]>umbral and j>i: #solo tomar a la derecha de la diagonal.\n",
    "                mostSimilar.append([script_base,script_cmp,similarity[[i],[j]][0]])\n",
    "                print( f\"{script_base.parts[-2]} se asemeja en: {similarity[i][j]:.0f} % a {script_cmp.parts[-2]}.\")\n",
    "            if j>i:\n",
    "                flatSimilar.append(similarity[[i],[j]][0])\n",
    "\n",
    "similarStdev = statistics.stdev(flatSimilar)\n",
    "similarMean = statistics.mean(flatSimilar)\n",
    "umbral = int(similarMean+(similarStdev))\n",
    "df = pd.DataFrame(similarity, columns = nameList, index = nameList)"
   ]
  },
  {
   "cell_type": "code",
   "execution_count": 9,
   "metadata": {},
   "outputs": [],
   "source": [
    "# percSimilar = dict((i,item) for i,item in enumerate(mostSimilar))\n",
    "# print(percSimilar)    \n",
    "# print(fileAData)"
   ]
  },
  {
   "cell_type": "markdown",
   "metadata": {},
   "source": [
    "## Por hacer\n",
    "\n",
    "Generar una lista de parejas de personas con similaridad mayor a cierto umbral, luego llamar al comparador con interfaz gráfica: https://github.com/yebrahim/pydiff\n",
    "\n",
    "- Generar parejas de similares con mayor a umbral\n",
    "- Verificar uso de la herramienta llamada desde cli.\n",
    "- Sistematizar la revisión de comparación"
   ]
  },
  {
   "cell_type": "code",
   "execution_count": 98,
   "metadata": {
    "scrolled": true
   },
   "outputs": [
    {
     "data": {
      "image/png": "[encoded data removed]",
      "text/plain": [
       "<Figure size 504x432 with 2 Axes>"
      ]
     },
     "metadata": {},
     "output_type": "display_data"
    }
   ],
   "source": [
    "# print(df)\n",
    "sns.set(font_scale=0.5)\n",
    "sns.set_palette(\"coolwarm\")\n",
    "figure = plt.gcf() # get current figure\n",
    "figure.set_size_inches(7, 6)\n",
    "mapa = sns.heatmap(df, annot=True, vmin = similarMean, vmax = max(flatSimilar),cmap = \"Reds\")\n",
    "plt.savefig(rootpath/'mapaSimilaridad.pdf', dpi=300,bbox_inches='tight')"
   ]
  },
  {
   "cell_type": "markdown",
   "metadata": {},
   "source": [
    "### Crear un cuaderno con todos los códigos para comparación y verificación de fraudes"
   ]
  },
  {
   "cell_type": "code",
   "execution_count": 100,
   "metadata": {},
   "outputs": [],
   "source": [
    "import subprocess\n",
    "\n",
    "for similar in mostSimilar:\n",
    "    path1 = str(similar[0])\n",
    "    path2 = str(similar[1])\n",
    "    command = f'python pydiff.py -p \"{path1}\" \"{path2}\"'\n",
    "#     print(command)\n",
    "    try:\n",
    "        subprocess.call(command, timeout = 1, shell=True)\n",
    "    except:\n",
    "        pass\n",
    "#   os.system(command)\n",
    "# nb = nbf.v4.new_notebook()\n",
    "# for (estPath,estName,estScripts) in zip(pathList,nameList,scriptList):\n",
    "#     celdas = conformarCeldas(nb,estName,estScripts)\n",
    "    \n",
    "#     nb['cells'] += celdas\n",
    "# nbf.write(nb, 'RevisionEntregas.ipynb')"
   ]
  },
  {
   "cell_type": "markdown",
   "metadata": {},
   "source": [
    "### Refs\n",
    "\n",
    "https://nbviewer.org/gist/fperez/9716279\n",
    "\n",
    "https://github.com/yebrahim/pydiff"
   ]
  }
 ],
 "metadata": {
  "kernelspec": {
   "display_name": "Python 3",
   "language": "python",
   "name": "python3"
  },
  "language_info": {
   "codemirror_mode": {
    "name": "ipython",
    "version": 3
   },
   "file_extension": ".py",
   "mimetype": "text/x-python",
   "name": "python",
   "nbconvert_exporter": "python",
   "pygments_lexer": "ipython3",
   "version": "3.8.5"
  },
  "toc": {
   "base_numbering": 1,
   "nav_menu": {},
   "number_sections": true,
   "sideBar": true,
   "skip_h1_title": false,
   "title_cell": "Table of Contents",
   "title_sidebar": "Contents",
   "toc_cell": false,
   "toc_position": {},
   "toc_section_display": true,
   "toc_window_display": false
  },
  "varInspector": {
   "cols": {
    "lenName": 16,
    "lenType": 16,
    "lenVar": 40
   },
   "kernels_config": {
    "python": {
     "delete_cmd_postfix": "",
     "delete_cmd_prefix": "del ",
     "library": "var_list.py",
     "varRefreshCmd": "print(var_dic_list())"
    },
    "r": {
     "delete_cmd_postfix": ") ",
     "delete_cmd_prefix": "rm(",
     "library": "var_list.r",
     "varRefreshCmd": "cat(var_dic_list()) "
    }
   },
   "types_to_exclude": [
    "module",
    "function",
    "builtin_function_or_method",
    "instance",
    "_Feature"
   ],
   "window_display": false
  }
 },
 "nbformat": 4,
 "nbformat_minor": 4
}

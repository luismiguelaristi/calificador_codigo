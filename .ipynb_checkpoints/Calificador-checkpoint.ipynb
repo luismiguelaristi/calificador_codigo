{
 "cells": [
  {
   "cell_type": "markdown",
   "metadata": {},
   "source": [
    "# Verificador Entregas\n",
    " \n",
    "1. Poner una celda de markdown por carpeta (extraer nombre)\n",
    "2. Luego copiar contenido de cada archivo .py en una celda de código.\n",
    "3. Crea un cuaderno general con todas las entregas, y uno individual para retroalimentación del estudiante\n",
    "\n",
    "## Uso\n",
    "\n",
    "Copiar este cuaderno en la raiz de la carpeta donde se descomprimió la entrega en Aula Digital, luego ejecutarlo todo.\n"
   ]
  },
  {
   "cell_type": "code",
   "execution_count": 8,
   "metadata": {},
   "outputs": [
    {
     "data": {
      "text/plain": [
       "''"
      ]
     },
     "execution_count": 8,
     "metadata": {},
     "output_type": "execute_result"
    }
   ],
   "source": [
    "%reset -sf\n",
    "\n",
    "extensions = [\n",
    "    '.py',\n",
    "    'otra_ext'\n",
    "]\n",
    "\n",
    "import os\n",
    "from pathlib import Path\n",
    "\n",
    "import tkinter as tk\n",
    "from  tkinter import filedialog\n",
    "\n",
    "root = tk.Tk()\n",
    "root.withdraw()"
   ]
  },
  {
   "cell_type": "markdown",
   "metadata": {},
   "source": [
    "## Procesar carpeta con archivos comprimidos o con carpetas descomprimidas\n",
    "\n",
    "Requiere: \n",
    "- una carpeta con los .zip generados por Aula Digital\n",
    "    - Con esta opción, descomprime los .zip y genera carpetas con consecutivos\n",
    "o\n",
    "- una carpeta con las subcarpetas de las evaluaciones.\n",
    "    - Con esta opción, solo identifica las subcarpetas\n",
    "    \n",
    "El resultado es la lista ```basepaths```"
   ]
  },
  {
   "cell_type": "code",
   "execution_count": 9,
   "metadata": {
    "scrolled": true
   },
   "outputs": [
    {
     "name": "stdout",
     "output_type": "stream",
     "text": [
      "[WindowsPath('C:/Users/LMAG/UPB/Fundamentos de Computacion 2022-20 - Profesores - Profesores/_notas/seg1/S5/1'), WindowsPath('C:/Users/LMAG/UPB/Fundamentos de Computacion 2022-20 - Profesores - Profesores/_notas/seg1/S5/2')]\n"
     ]
    }
   ],
   "source": [
    "rootpath = Path(filedialog.askdirectory())\n",
    "# rootpath = Path(r\"C:\\Users\\000092114\\UPB\\Fundamentos de Computacion 2022-20 - Profesores - Profesores\\_notas\\seg1\\Test\")\n",
    "basepaths = []\n",
    "content = rootpath.glob('*/')\n",
    "contList = [Path(x) for x in content]\n",
    "folders = [x for x in contList if x.is_dir()]\n",
    "files = [x for x in contList if x.is_file() and x.suffix == \".zip\"]\n",
    "# print(folders)\n",
    "# print(files)\n",
    "generateNB = False\n",
    "if folders == [] and files != []: # si no se ha descomprimido nada y hay .zips por descomprimir\n",
    "    from zipfile import ZipFile\n",
    "    grupo = 1\n",
    "    # ahora se define el nombre de la carpeta con un consecutivo.\n",
    "    for file in files:\n",
    "        # Create a ZipFile Object and load sample.zip in it\n",
    "        with ZipFile(str(file), 'r') as zipObj:\n",
    "           # Extract all the contents of zip file in different directory\n",
    "            zipObj.extractall(file.parent/str(grupo))\n",
    "            generateNB = True\n",
    "        basepaths.append(file.parent/str(grupo))\n",
    "        grupo += 1\n",
    "elif folders != []:\n",
    "    basepaths = folders\n",
    "    \n",
    "print(basepaths)"
   ]
  },
  {
   "cell_type": "markdown",
   "metadata": {},
   "source": [
    "## Procesar los archivos"
   ]
  },
  {
   "cell_type": "code",
   "execution_count": 10,
   "metadata": {},
   "outputs": [
    {
     "name": "stdout",
     "output_type": "stream",
     "text": [
      "[[WindowsPath('C:/Users/LMAG/UPB/Fundamentos de Computacion 2022-20 - Profesores - Profesores/_notas/seg1/S5/1/Ayala Garcia Andrea_2708957_assignsubmission_file_/Taller semana 5.py')], [WindowsPath('C:/Users/LMAG/UPB/Fundamentos de Computacion 2022-20 - Profesores - Profesores/_notas/seg1/S5/1/Betancur Zapata Lady Estefany_2708963_assignsubmission_file_/Ejercicios tarea 18 agosto FC.py')], [WindowsPath('C:/Users/LMAG/UPB/Fundamentos de Computacion 2022-20 - Profesores - Profesores/_notas/seg1/S5/1/Echeverry Correa Maria Catalina_2708966_assignsubmission_file_/Tarea clase.py')], [WindowsPath('C:/Users/LMAG/UPB/Fundamentos de Computacion 2022-20 - Profesores - Profesores/_notas/seg1/S5/1/Jaramillo Londoño Andrea_2708958_assignsubmission_file_/EJERCICIO 5.py')], [WindowsPath('C:/Users/LMAG/UPB/Fundamentos de Computacion 2022-20 - Profesores - Profesores/_notas/seg1/S5/1/Lopera Otero David_2708977_assignsubmission_file_/taller 5.py')], [WindowsPath('C:/Users/LMAG/UPB/Fundamentos de Computacion 2022-20 - Profesores - Profesores/_notas/seg1/S5/1/Naranjo Mejia Daniel_2708969_assignsubmission_file_/taller _5.py')], [WindowsPath('C:/Users/LMAG/UPB/Fundamentos de Computacion 2022-20 - Profesores - Profesores/_notas/seg1/S5/1/Otalvaro Saldarriaga Sofia_2708961_assignsubmission_file_/taller semana 5.py')], [WindowsPath('C:/Users/LMAG/UPB/Fundamentos de Computacion 2022-20 - Profesores - Profesores/_notas/seg1/S5/1/Quiceno Cardenas Ana Sofia_2708959_assignsubmission_file_/semana 5.py')], [WindowsPath('C:/Users/LMAG/UPB/Fundamentos de Computacion 2022-20 - Profesores - Profesores/_notas/seg1/S5/1/Ramirez Gonzalez Maria Paulina_2708973_assignsubmission_file_/TALLERSEMANA5.py')], [WindowsPath('C:/Users/LMAG/UPB/Fundamentos de Computacion 2022-20 - Profesores - Profesores/_notas/seg1/S5/1/Revelo Rodriguez Dario_2708980_assignsubmission_file_/Taller Semana 5.py')], [WindowsPath('C:/Users/LMAG/UPB/Fundamentos de Computacion 2022-20 - Profesores - Profesores/_notas/seg1/S5/1/Suarez Moreno Emmanuel_2708962_assignsubmission_file_/TALLER SEMANA 5 - EMMANUEL SUAREZ MORENO.py')], [WindowsPath('C:/Users/LMAG/UPB/Fundamentos de Computacion 2022-20 - Profesores - Profesores/_notas/seg1/S5/1/Uribe Jaramillo Tomas_2708965_assignsubmission_file_/Taller semana 5.py')], [WindowsPath('C:/Users/LMAG/UPB/Fundamentos de Computacion 2022-20 - Profesores - Profesores/_notas/seg1/S5/1/Usuga Gonzalez Luisa Alejandra_2708974_assignsubmission_file_/Taller Semana 5 - Luisa Usuga.py')], [WindowsPath('C:/Users/LMAG/UPB/Fundamentos de Computacion 2022-20 - Profesores - Profesores/_notas/seg1/S5/2/Cardona Zuluaga Angelica_2708834_assignsubmission_file_/Ejercicio Semana 5 - Angelica Cardona.py')], [WindowsPath('C:/Users/LMAG/UPB/Fundamentos de Computacion 2022-20 - Profesores - Profesores/_notas/seg1/S5/2/Cifuentes Madrigal Andrea_2708855_assignsubmission_file_/Taller semana 5.py')], [WindowsPath('C:/Users/LMAG/UPB/Fundamentos de Computacion 2022-20 - Profesores - Profesores/_notas/seg1/S5/2/Correa Giraldo Andres_2708841_assignsubmission_file_/Taller Semana 5 - Andrés Correa Giraldo.py')], [WindowsPath('C:/Users/LMAG/UPB/Fundamentos de Computacion 2022-20 - Profesores - Profesores/_notas/seg1/S5/2/Garcia Arboleda Andres_2708833_assignsubmission_file_/semana5.py')], [WindowsPath('C:/Users/LMAG/UPB/Fundamentos de Computacion 2022-20 - Profesores - Profesores/_notas/seg1/S5/2/Gomez Munera David_2708851_assignsubmission_file_/Taller 5 David Gomez Munera.py')], [WindowsPath('C:/Users/LMAG/UPB/Fundamentos de Computacion 2022-20 - Profesores - Profesores/_notas/seg1/S5/2/Jaramillo Gomez Isabela_2708850_assignsubmission_file_/Taller 4.py')], [WindowsPath('C:/Users/LMAG/UPB/Fundamentos de Computacion 2022-20 - Profesores - Profesores/_notas/seg1/S5/2/Palomino Otero Manuela_2708835_assignsubmission_file_/Ejercicios_Taller 5_Manuela Palomino.py')], [WindowsPath('C:/Users/LMAG/UPB/Fundamentos de Computacion 2022-20 - Profesores - Profesores/_notas/seg1/S5/2/Perez Rojo Felipe_2708848_assignsubmission_file_/Taller Felipe Pérez.py')], [WindowsPath('C:/Users/LMAG/UPB/Fundamentos de Computacion 2022-20 - Profesores - Profesores/_notas/seg1/S5/2/Ramirez Zuluaga Tomas_2708853_assignsubmission_file_/Taller semana 5.py')], [WindowsPath('C:/Users/LMAG/UPB/Fundamentos de Computacion 2022-20 - Profesores - Profesores/_notas/seg1/S5/2/Salinas Bustamante Maria Alejandra_2708844_assignsubmission_file_/taller semana 5 (1).py')], [WindowsPath('C:/Users/LMAG/UPB/Fundamentos de Computacion 2022-20 - Profesores - Profesores/_notas/seg1/S5/2/Taborda Martinez Vanessa Andrea_2708845_assignsubmission_file_/tallervanessa.py')], [WindowsPath('C:/Users/LMAG/UPB/Fundamentos de Computacion 2022-20 - Profesores - Profesores/_notas/seg1/S5/2/Vertel Vasco Nicol Dahiana_2708837_assignsubmission_file_/Taller semana 5 - Nicol Vertel .py')], [WindowsPath('C:/Users/LMAG/UPB/Fundamentos de Computacion 2022-20 - Profesores - Profesores/_notas/seg1/S5/2/Yepes Restrepo Simon_2708832_assignsubmission_file_/S5__E (1).py')]]\n"
     ]
    }
   ],
   "source": [
    "pathList,nameList,scriptList = list(),list(),list()\n",
    "for basepath in basepaths:\n",
    "    for entry in os.listdir(basepath):\n",
    "        entry = Path(entry)\n",
    "        if str(entry).endswith(\"_assignsubmission_file_\"):\n",
    "            #agregue el path de la carpeta a la lista de paths\n",
    "            pathList.append(basepath/entry)\n",
    "            #agregue el nombre a la lista de nombres (extraido del nombre de la entrega)\n",
    "            nameList.append(str(entry).split(\"_\")[0])\n",
    "            #recoja todos los archivos de cada entrega\n",
    "            p = pathList[-1].glob(\"**/*\")\n",
    "            #solo guarde los que estén en la lista de extensiones (para evitar que coja los cuadernos)\n",
    "            scriptList.append([x for x in p if x.is_file() and x.suffix in extensions])\n",
    "    \n",
    "print(scriptList)\n",
    "    # leer el contenido del archivo como texto\n",
    "    #print(scriptList[-1][-1].read_text())"
   ]
  },
  {
   "cell_type": "markdown",
   "metadata": {},
   "source": [
    "## Creación de cuadernos individuales por estudiante con el reporte\n",
    "\n",
    "### Importar módulos y definición de funciones\n",
    "\n",
    "**Atención**: solo correr si se requiere generar los cuadernos de retroalimentación."
   ]
  },
  {
   "cell_type": "code",
   "execution_count": 11,
   "metadata": {},
   "outputs": [],
   "source": [
    "if generateNB:\n",
    "\n",
    "    import nbformat as nbf\n",
    "    import itertools \n",
    "\n",
    "    def conformarCeldas(cuaderno,nombre,scripts):\n",
    "        cellsList = list()\n",
    "        text = f\"\"\"\\\n",
    "    # {nombre}\n",
    "    \"\"\"\n",
    "        cellsList.append(nbf.v4.new_markdown_cell(text))\n",
    "        code = f\"\"\"\\\n",
    "    %%javascript\n",
    "    IPython.notebook.events.off('checkpoint_created.Notebook');\n",
    "    IPython.notebook.events.off('notebook_saved.Notebook');\n",
    "    \"\"\"\n",
    "        cellsList.append(nbf.v4.new_code_cell(code))\n",
    "\n",
    "        for script in scripts:\n",
    "            try:\n",
    "                codeText = script.read_text(encoding=\"utf8\")\n",
    "            except:\n",
    "                print(f\"fallo lectura de codigo en {script}\")\n",
    "                return cellsList\n",
    "            code = f\"\"\"\\\n",
    "    # {script.stem}\\n\n",
    "    %reset -sf\\n#para correr el script desde cero, esta linea no afectara la ejecución de su codigo.\\n\n",
    "    {codeText}\"\"\"\n",
    "            cellsList.append(nbf.v4.new_code_cell(code))\n",
    "        return cellsList"
   ]
  },
  {
   "cell_type": "markdown",
   "metadata": {},
   "source": [
    "### Crear cuadernos con script por celda de código\n",
    "\n",
    "Se pone el nombre del estudiante en una celda de markdown\n",
    "Luego se crea una celda de código por programa, con un comentario con el nombre del archivo."
   ]
  },
  {
   "cell_type": "code",
   "execution_count": 12,
   "metadata": {
    "scrolled": true
   },
   "outputs": [],
   "source": [
    "if generateNB:\n",
    "\n",
    "    for (estPath,estName,estScripts) in zip(pathList,nameList,scriptList):\n",
    "\n",
    "        nb = nbf.v4.new_notebook()\n",
    "\n",
    "        celdas = conformarCeldas(nb,estName,estScripts)\n",
    "\n",
    "        nb['cells'] = celdas\n",
    "        nbf.write(nb, estPath/f'{estName}.ipynb')"
   ]
  },
  {
   "cell_type": "markdown",
   "metadata": {},
   "source": [
    "### Verificar similaridad\n",
    "\n",
    "Correr estas celdas individualmente.\n",
    "1. Conformar la lista de scripts y estudiantes consolidada\n",
    "2. correr la celda para generar el mapa de similaridad"
   ]
  },
  {
   "cell_type": "code",
   "execution_count": 58,
   "metadata": {},
   "outputs": [],
   "source": [
    "# generar mapa de similaridad\n",
    "from difflib import SequenceMatcher\n",
    "import numpy as np\n",
    "import pandas as pd\n",
    "import seaborn as sns\n",
    "import matplotlib.pyplot as plt\n",
    "\n",
    "import re\n",
    "def stripComments(code):\n",
    "    code = str(code)\n",
    "    return re.sub(r'(?m)^ *#.*\\n?', '', code)"
   ]
  },
  {
   "cell_type": "code",
   "execution_count": 61,
   "metadata": {},
   "outputs": [
    {
     "name": "stdout",
     "output_type": "stream",
     "text": [
      "Ayala Garcia Andrea se asemeja en: 57 % a Uribe Jaramillo Tomas.\n",
      "Cardona Zuluaga Angelica se asemeja en: 60 % a Correa Giraldo Andres.\n",
      "Cardona Zuluaga Angelica se asemeja en: 52 % a Jaramillo Gomez Isabela.\n",
      "Ramirez Zuluaga Tomas se asemeja en: 90 % a Yepes Restrepo Simon.\n",
      "\n",
      "def funcion_1(horas_trabajadas,valor_pagado):\n",
      "    error=0\n",
      "    try:\n",
      "         horas_trabajadas=float(horas_trabajadas)\n",
      "    except:\n",
      "        error=1\n",
      "    try:\n",
      "        valor_pagado=float(valor_pagado)\n",
      "    except:\n",
      "        error=2\n",
      "    if error==0:\n",
      "        if horas_trabajadas>40: \n",
      "            extra=horas_trabajadas-40\n",
      "            valor_pagado_extra=valor_pagado*1.5\n",
      "            salario=(40*valor_pagado)+(extra*valor_pagado_extra)\n",
      "            return salario\n",
      "        else :\n",
      "            wff=(horas_trabajadas*valor_pagado)\n",
      "            return salario\n",
      "    else:\n",
      "        print(-1)\n",
      "\n",
      "salario_empleado=funcion_1(60,1000)\n",
      "print (f\"su salario es {salario_empleado}\")\n",
      "\n",
      "def funcion_2(peso):\n",
      "    error=0\n",
      "    try:\n",
      "        peso=float(peso)\n",
      "    except:\n",
      "        error=1\n",
      "    if error==0:\n",
      "        if peso<=48:\n",
      "            categoria=(\"minimosca\")\n",
      "            return categoria\n",
      "        elif peso<=51:\n",
      "            categoria=(\"peso mosca\")\n",
      "            return categoria\n",
      "        elif peso<=54 :\n",
      "            categoria=(\"gallo\")\n",
      "            return categoria\n",
      "        elif peso<=57:\n",
      "            categoria=(\"pluma\")\n",
      "            return categoria\n",
      "        elif peso<=60 :\n",
      "            categoria=(\"ligero\")\n",
      "            return categoria\n",
      "        elif peso<=64 :\n",
      "            categoria=(\"superligero\")\n",
      "            return categoria\n",
      "        elif peso<=69 :\n",
      "            categoria=(\"welter\")\n",
      "            return categoria\n",
      "        elif peso<=75 :\n",
      "            categoria=(\"mediano\")\n",
      "            return categoria\n",
      "        elif peso<=81 :\n",
      "            categoria=(\"mediopesado\")\n",
      "            return categoria\n",
      "        elif peso<=91:\n",
      "            categoria=(\"pesado\")\n",
      "            return categoria\n",
      "        elif peso >91:\n",
      "            categoria=(\"superpesado\")\n",
      "            return categoria\n",
      "    else :\n",
      "        print(\"ERROR\")\n",
      "pesobox=funcion_2(78)\n",
      "print(f\"su peso es {pesobox}\")\n",
      "\n",
      "def funcion_3(num1,num2,num3):\n",
      "    error=0\n",
      "    try:\n",
      "        num1=float(num1)\n",
      "    except:\n",
      "     error=1\n",
      "    try:\n",
      "        num2=float(num2)\n",
      "    except:\n",
      "        error=2\n",
      "    try:\n",
      "        num3=float(num3)\n",
      "    except:\n",
      "        error=3\n",
      "    if error==0:\n",
      "        if num1<num2 and num1<num3:\n",
      "            respuesta=(num1)\n",
      "            return respuesta\n",
      "        elif num2<num1 and num2<num3:\n",
      "            respuesta=(num2)\n",
      "            return respuesta\n",
      "        elif num3<num1 and num3<num2:\n",
      "            respuesta=(num3)\n",
      "            return respuesta\n",
      "        elif num1==num2 and num2==num3:\n",
      "            respuesta=(\"los numeros son iguales\")\n",
      "            return respuesta\n",
      "    else:\n",
      "        respuesta=(\"NONE\")\n",
      "        return respuesta \n",
      "numero_menor=funcion_3(3,23,1)\n",
      "print(numero_menor)\n",
      "\n",
      "\n",
      "\n",
      "\n",
      "\n",
      "\n"
     ]
    }
   ],
   "source": [
    "umbral = 50 #porcentaje de similitud\n",
    "\n",
    "dimension = len(scriptList)\n",
    "similarity = np.zeros((dimension,dimension))\n",
    "mostSimilar = []\n",
    "for i,script_base in enumerate(scriptList):\n",
    "    for j,script_cmp in enumerate(scriptList):\n",
    "        with open(script_base[0], errors='ignore') as fileA,open(script_cmp[0], errors='ignore') as fileB:\n",
    "            fileAData = fileA.read()\n",
    "            fileAData = stripComments(fileAData)\n",
    "            fileBData = fileB.read()\n",
    "            fileBData = stripComments(fileBData)\n",
    "            similarity[[i],[j]] = int(SequenceMatcher(None, fileAData,fileBData).ratio()*100)\n",
    "            if similarity[[i],[j]]>umbral and j>i: #solo tomar a la derecha de la diagonal.\n",
    "                print( f\"{nameList[i]} se asemeja en: {similarity[i][j]:.0f} % a {nameList[j]}.\")\n",
    "                mostSimilar.append((script_base[0],script_cmp[0]))\n",
    "\n",
    "df = pd.DataFrame(similarity, columns = nameList, index = nameList)\n",
    "# print(fileAData)"
   ]
  },
  {
   "cell_type": "markdown",
   "metadata": {},
   "source": [
    "## Por hacer\n",
    "\n",
    "Generar una lista de parejas de personas con similaridad mayor a cierto umbral, luego llamar al comparador con interfaz gráfica: https://github.com/yebrahim/pydiff\n",
    "\n",
    "- Generar parejas de similares con mayor a umbral\n",
    "- Verificar uso de la herramienta llamada desde cli.\n",
    "- Sistematizar la revisión de comparación"
   ]
  },
  {
   "cell_type": "code",
   "execution_count": 60,
   "metadata": {
    "scrolled": true
   },
   "outputs": [
    {
     "data": {
      "image/png": "[encoded data removed]",
      "text/plain": [
       "<Figure size 432x432 with 2 Axes>"
      ]
     },
     "metadata": {},
     "output_type": "display_data"
    }
   ],
   "source": [
    "# print(df)\n",
    "sns.set(font_scale=0.5)\n",
    "figure = plt.gcf() # get current figure\n",
    "figure.set_size_inches(6, 6)\n",
    "mapa = sns.heatmap(df, annot=True, vmin = 10, vmax = 80)\n",
    "plt.savefig(rootpath/'mapaSimilaridad.pdf', dpi=300,bbox_inches='tight')"
   ]
  },
  {
   "cell_type": "markdown",
   "metadata": {},
   "source": [
    "### Crear un cuaderno con todos los códigos para comparación y verificación de fraudes"
   ]
  },
  {
   "cell_type": "code",
   "execution_count": 62,
   "metadata": {},
   "outputs": [
    {
     "name": "stdout",
     "output_type": "stream",
     "text": [
      "python pydiff.py -p \"C:\\Users\\LMAG\\UPB\\Fundamentos de Computacion 2022-20 - Profesores - Profesores\\_notas\\seg1\\S5\\1\\Ayala Garcia Andrea_2708957_assignsubmission_file_\\Taller semana 5.py\" \"C:\\Users\\LMAG\\UPB\\Fundamentos de Computacion 2022-20 - Profesores - Profesores\\_notas\\seg1\\S5\\1\\Uribe Jaramillo Tomas_2708965_assignsubmission_file_\\Taller semana 5.py\"\n",
      "python pydiff.py -p \"C:\\Users\\LMAG\\UPB\\Fundamentos de Computacion 2022-20 - Profesores - Profesores\\_notas\\seg1\\S5\\2\\Cardona Zuluaga Angelica_2708834_assignsubmission_file_\\Ejercicio Semana 5 - Angelica Cardona.py\" \"C:\\Users\\LMAG\\UPB\\Fundamentos de Computacion 2022-20 - Profesores - Profesores\\_notas\\seg1\\S5\\2\\Correa Giraldo Andres_2708841_assignsubmission_file_\\Taller Semana 5 - Andrés Correa Giraldo.py\"\n",
      "python pydiff.py -p \"C:\\Users\\LMAG\\UPB\\Fundamentos de Computacion 2022-20 - Profesores - Profesores\\_notas\\seg1\\S5\\2\\Cardona Zuluaga Angelica_2708834_assignsubmission_file_\\Ejercicio Semana 5 - Angelica Cardona.py\" \"C:\\Users\\LMAG\\UPB\\Fundamentos de Computacion 2022-20 - Profesores - Profesores\\_notas\\seg1\\S5\\2\\Jaramillo Gomez Isabela_2708850_assignsubmission_file_\\Taller 4.py\"\n",
      "python pydiff.py -p \"C:\\Users\\LMAG\\UPB\\Fundamentos de Computacion 2022-20 - Profesores - Profesores\\_notas\\seg1\\S5\\2\\Ramirez Zuluaga Tomas_2708853_assignsubmission_file_\\Taller semana 5.py\" \"C:\\Users\\LMAG\\UPB\\Fundamentos de Computacion 2022-20 - Profesores - Profesores\\_notas\\seg1\\S5\\2\\Yepes Restrepo Simon_2708832_assignsubmission_file_\\S5__E (1).py\"\n"
     ]
    }
   ],
   "source": [
    "import os\n",
    "for similar in mostSimilar:\n",
    "    path1 = str(similar[0])\n",
    "    path2 = str(similar[1])\n",
    "    command = f'python pydiff.py -p \"{path1}\" \"{path2}\"'\n",
    "    print(command)\n",
    "    os.system(command)\n",
    "# nb = nbf.v4.new_notebook()\n",
    "# for (estPath,estName,estScripts) in zip(pathList,nameList,scriptList):\n",
    "#     celdas = conformarCeldas(nb,estName,estScripts)\n",
    "    \n",
    "#     nb['cells'] += celdas\n",
    "# nbf.write(nb, 'RevisionEntregas.ipynb')"
   ]
  },
  {
   "cell_type": "markdown",
   "metadata": {},
   "source": [
    "### Refs\n",
    "\n",
    "https://nbviewer.org/gist/fperez/9716279\n",
    "\n",
    "https://github.com/yebrahim/pydiff"
   ]
  }
 ],
 "metadata": {
  "kernelspec": {
   "display_name": "Python 3",
   "language": "python",
   "name": "python3"
  },
  "language_info": {
   "codemirror_mode": {
    "name": "ipython",
    "version": 3
   },
   "file_extension": ".py",
   "mimetype": "text/x-python",
   "name": "python",
   "nbconvert_exporter": "python",
   "pygments_lexer": "ipython3",
   "version": "3.8.5"
  },
  "toc": {
   "base_numbering": 1,
   "nav_menu": {},
   "number_sections": true,
   "sideBar": true,
   "skip_h1_title": false,
   "title_cell": "Table of Contents",
   "title_sidebar": "Contents",
   "toc_cell": false,
   "toc_position": {},
   "toc_section_display": true,
   "toc_window_display": false
  },
  "varInspector": {
   "cols": {
    "lenName": 16,
    "lenType": 16,
    "lenVar": 40
   },
   "kernels_config": {
    "python": {
     "delete_cmd_postfix": "",
     "delete_cmd_prefix": "del ",
     "library": "var_list.py",
     "varRefreshCmd": "print(var_dic_list())"
    },
    "r": {
     "delete_cmd_postfix": ") ",
     "delete_cmd_prefix": "rm(",
     "library": "var_list.r",
     "varRefreshCmd": "cat(var_dic_list()) "
    }
   },
   "types_to_exclude": [
    "module",
    "function",
    "builtin_function_or_method",
    "instance",
    "_Feature"
   ],
   "window_display": false
  }
 },
 "nbformat": 4,
 "nbformat_minor": 4
}

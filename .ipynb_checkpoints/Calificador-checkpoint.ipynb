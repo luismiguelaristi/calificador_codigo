{
 "cells": [
  {
   "cell_type": "markdown",
   "metadata": {},
   "source": [
    "# Verificador Entregas\n",
    " \n",
    "1. Poner una celda de markdown por carpeta (extraer nombre)\n",
    "2. Luego copiar contenido de cada archivo .py en una celda de código.\n",
    "3. Crea un cuaderno general con todas las entregas, y uno individual para retroalimentación del estudiante\n",
    "\n",
    "## Uso\n",
    "\n",
    "Copiar este cuaderno en la raiz de la carpeta donde se descomprimió la entrega en Aula Digital, luego ejecutarlo todo.\n"
   ]
  },
  {
   "cell_type": "code",
   "execution_count": 1,
   "metadata": {},
   "outputs": [
    {
     "data": {
      "text/plain": [
       "''"
      ]
     },
     "execution_count": 1,
     "metadata": {},
     "output_type": "execute_result"
    }
   ],
   "source": [
    "%reset -sf\n",
    "\n",
    "extensions = [\n",
    "    '.py',\n",
    "    'otra_ext'\n",
    "]\n",
    "\n",
    "evaluacion = \"Taller Condicionales\"\n",
    "enunciado = '''\n",
    "Deberá escribir un programa (archivo) por cada item solicitado a continuación:\n",
    "\n",
    "1. Escriba un programa que reciba un número entero de 2 dígitos, y un operador (+, -, *, /).\n",
    "\n",
    "- El programa debe entregar la operación seleccionada entre el primer y segundo dígito.\n",
    "\n",
    "- Debe evitar errores de entrada de usuario y división por cero.\n",
    "\n",
    "2. Escriba un programa que reciba la edad de una persona, y entregue su clasificación según el ciclo de vida definido por MinSalud:\n",
    "\n",
    "Primera Infancia (0-5 años)\n",
    "Infancia (6 - 11 años)\n",
    "Adolescencia (12 - 18 años)\n",
    "Juventud (19 - 26 años)\n",
    "Adultez (27- 59 años)\n",
    "Persona Mayor (60 años o mas) envejecimiento y vejez\n",
    "\n",
    "- Use estructuras try/except para evitar que el programa arroje errores por mal entrada de usuario.\n",
    "\n",
    "3. Escriba un programa que reciba tres números e indique cuál es el mayor\n",
    "\n",
    "- Use estructuras try/except para evitar que el programa arroje errores por mal entrada de usuario.\n",
    "\n",
    "\n",
    "'''\n",
    "\n",
    "import os\n",
    "from pathlib import Path\n",
    "\n",
    "import tkinter as tk\n",
    "from  tkinter import filedialog\n",
    "\n",
    "root = tk.Tk()\n",
    "root.withdraw()"
   ]
  },
  {
   "cell_type": "markdown",
   "metadata": {},
   "source": [
    "## Procesar carpeta con archivos comprimidos o con carpetas descomprimidas\n",
    "\n",
    "Requiere: \n",
    "- una carpeta con los .zip generados por Aula Digital\n",
    "    - Con esta opción, descomprime los .zip y genera carpetas con consecutivos\n",
    "o\n",
    "- una carpeta con las subcarpetas de las evaluaciones.\n",
    "    - Con esta opción, solo identifica las subcarpetas\n",
    "    \n",
    "El resultado es la lista ```basepaths```"
   ]
  },
  {
   "cell_type": "code",
   "execution_count": 4,
   "metadata": {
    "scrolled": true
   },
   "outputs": [
    {
     "name": "stdout",
     "output_type": "stream",
     "text": [
      "[WindowsPath('C:/Users/LMAG/UPB/Fundamentos de Computacion 2022-20 - Profesores - Profesores/_notas/seg1/S03_condicionales/1')]\n"
     ]
    }
   ],
   "source": [
    "rootpath = Path(filedialog.askdirectory())\n",
    "# rootpath = Path(r\"C:\\Users\\000092114\\UPB\\Fundamentos de Computacion 2022-20 - Profesores - Profesores\\_notas\\seg1\\Test\")\n",
    "basepaths = []\n",
    "content = rootpath.glob('*/')\n",
    "contList = [Path(x) for x in content]\n",
    "folders = [x for x in contList if x.is_dir()]\n",
    "files = [x for x in contList if x.is_file() and x.suffix == \".zip\"]\n",
    "# print(folders)\n",
    "# print(files)\n",
    "generateNB = False\n",
    "if folders == [] and files != []: # si no se ha descomprimido nada y hay .zips por descomprimir\n",
    "    from zipfile import ZipFile\n",
    "    grupo = 1\n",
    "    # ahora se define el nombre de la carpeta con un consecutivo.\n",
    "    for file in files:\n",
    "        # Create a ZipFile Object and load sample.zip in it\n",
    "        with ZipFile(str(file), 'r') as zipObj:\n",
    "           # Extract all the contents of zip file in different directory\n",
    "            zipObj.extractall(file.parent/str(grupo))\n",
    "            generateNB = True\n",
    "        basepaths.append(file.parent/str(grupo))\n",
    "        grupo += 1\n",
    "elif folders != []:\n",
    "    basepaths = folders\n",
    "    \n",
    "print(basepaths)"
   ]
  },
  {
   "cell_type": "markdown",
   "metadata": {},
   "source": [
    "## Procesar los archivos"
   ]
  },
  {
   "cell_type": "code",
   "execution_count": 7,
   "metadata": {},
   "outputs": [],
   "source": [
    "pathList,nameList,scriptList = list(),list(),list()\n",
    "for basepath in basepaths:\n",
    "    for entry in os.listdir(basepath):\n",
    "        entry = Path(entry)\n",
    "        if str(entry).endswith(\"_assignsubmission_file_\"):\n",
    "            #agregue el path de la carpeta a la lista de paths\n",
    "            pathList.append(basepath/entry)\n",
    "            #agregue el nombre a la lista de nombres (extraido del nombre de la entrega)\n",
    "            nameList.append(str(entry).split(\"_\")[0])\n",
    "            #recoja todos los archivos de cada entrega\n",
    "            p = pathList[-1].glob(\"**/*\")\n",
    "            #solo guarde los que estén en la lista de extensiones (para evitar que coja los cuadernos)\n",
    "            scriptList.append([x for x in p if x.is_file() and x.suffix in extensions])\n",
    "    "
   ]
  },
  {
   "cell_type": "code",
   "execution_count": 8,
   "metadata": {},
   "outputs": [
    {
     "name": "stdout",
     "output_type": "stream",
     "text": [
      "Cañizares Garces Paola Andrea\n",
      "[WindowsPath('C:/Users/LMAG/UPB/Fundamentos de Computacion 2022-20 - Profesores - Profesores/_notas/seg1/S03_condicionales/1/Cañizares Garces Paola Andrea_2890790_assignsubmission_file_/Codigo_1.py'), WindowsPath('C:/Users/LMAG/UPB/Fundamentos de Computacion 2022-20 - Profesores - Profesores/_notas/seg1/S03_condicionales/1/Cañizares Garces Paola Andrea_2890790_assignsubmission_file_/Codigo_2.py'), WindowsPath('C:/Users/LMAG/UPB/Fundamentos de Computacion 2022-20 - Profesores - Profesores/_notas/seg1/S03_condicionales/1/Cañizares Garces Paola Andrea_2890790_assignsubmission_file_/Codigo_3.py')]\n",
      "C:\\Users\\LMAG\\UPB\\Fundamentos de Computacion 2022-20 - Profesores - Profesores\\_notas\\seg1\\S03_condicionales\\1\\Cañizares Garces Paola Andrea_2890790_assignsubmission_file_\n",
      "Gaviria Usuga Maria Clara\n",
      "[WindowsPath('C:/Users/LMAG/UPB/Fundamentos de Computacion 2022-20 - Profesores - Profesores/_notas/seg1/S03_condicionales/1/Gaviria Usuga Maria Clara_2890787_assignsubmission_file_/clasificaedades.py'), WindowsPath('C:/Users/LMAG/UPB/Fundamentos de Computacion 2022-20 - Profesores - Profesores/_notas/seg1/S03_condicionales/1/Gaviria Usuga Maria Clara_2890787_assignsubmission_file_/cualeselmayor.py'), WindowsPath('C:/Users/LMAG/UPB/Fundamentos de Computacion 2022-20 - Profesores - Profesores/_notas/seg1/S03_condicionales/1/Gaviria Usuga Maria Clara_2890787_assignsubmission_file_/dosdigitos.py')]\n",
      "C:\\Users\\LMAG\\UPB\\Fundamentos de Computacion 2022-20 - Profesores - Profesores\\_notas\\seg1\\S03_condicionales\\1\\Gaviria Usuga Maria Clara_2890787_assignsubmission_file_\n",
      "Hoyos Carmona Santiago\n",
      "[WindowsPath('C:/Users/LMAG/UPB/Fundamentos de Computacion 2022-20 - Profesores - Profesores/_notas/seg1/S03_condicionales/1/Hoyos Carmona Santiago_2890788_assignsubmission_file_/Primer Punto Taller 3.py'), WindowsPath('C:/Users/LMAG/UPB/Fundamentos de Computacion 2022-20 - Profesores - Profesores/_notas/seg1/S03_condicionales/1/Hoyos Carmona Santiago_2890788_assignsubmission_file_/Punto 2 Taller 3.py'), WindowsPath('C:/Users/LMAG/UPB/Fundamentos de Computacion 2022-20 - Profesores - Profesores/_notas/seg1/S03_condicionales/1/Hoyos Carmona Santiago_2890788_assignsubmission_file_/Punto 3 Taller 3.py')]\n",
      "C:\\Users\\LMAG\\UPB\\Fundamentos de Computacion 2022-20 - Profesores - Profesores\\_notas\\seg1\\S03_condicionales\\1\\Hoyos Carmona Santiago_2890788_assignsubmission_file_\n",
      "Juris Durango Federico\n",
      "[WindowsPath('C:/Users/LMAG/UPB/Fundamentos de Computacion 2022-20 - Profesores - Profesores/_notas/seg1/S03_condicionales/1/Juris Durango Federico_2890786_assignsubmission_file_/Mayor.py'), WindowsPath('C:/Users/LMAG/UPB/Fundamentos de Computacion 2022-20 - Profesores - Profesores/_notas/seg1/S03_condicionales/1/Juris Durango Federico_2890786_assignsubmission_file_/Salud.py')]\n",
      "C:\\Users\\LMAG\\UPB\\Fundamentos de Computacion 2022-20 - Profesores - Profesores\\_notas\\seg1\\S03_condicionales\\1\\Juris Durango Federico_2890786_assignsubmission_file_\n",
      "Neira Romero Natalia\n",
      "[WindowsPath('C:/Users/LMAG/UPB/Fundamentos de Computacion 2022-20 - Profesores - Profesores/_notas/seg1/S03_condicionales/1/Neira Romero Natalia_2890784_assignsubmission_file_/taller2pregunta1.py'), WindowsPath('C:/Users/LMAG/UPB/Fundamentos de Computacion 2022-20 - Profesores - Profesores/_notas/seg1/S03_condicionales/1/Neira Romero Natalia_2890784_assignsubmission_file_/taller2pregunta2.py'), WindowsPath('C:/Users/LMAG/UPB/Fundamentos de Computacion 2022-20 - Profesores - Profesores/_notas/seg1/S03_condicionales/1/Neira Romero Natalia_2890784_assignsubmission_file_/taller2pregunta3.py')]\n",
      "C:\\Users\\LMAG\\UPB\\Fundamentos de Computacion 2022-20 - Profesores - Profesores\\_notas\\seg1\\S03_condicionales\\1\\Neira Romero Natalia_2890784_assignsubmission_file_\n",
      "Ossa Garcia Juan Felipe\n",
      "[WindowsPath('C:/Users/LMAG/UPB/Fundamentos de Computacion 2022-20 - Profesores - Profesores/_notas/seg1/S03_condicionales/1/Ossa Garcia Juan Felipe_2890785_assignsubmission_file_/punto1taller3.py'), WindowsPath('C:/Users/LMAG/UPB/Fundamentos de Computacion 2022-20 - Profesores - Profesores/_notas/seg1/S03_condicionales/1/Ossa Garcia Juan Felipe_2890785_assignsubmission_file_/punto2taller3.py'), WindowsPath('C:/Users/LMAG/UPB/Fundamentos de Computacion 2022-20 - Profesores - Profesores/_notas/seg1/S03_condicionales/1/Ossa Garcia Juan Felipe_2890785_assignsubmission_file_/punto3taller3.py')]\n",
      "C:\\Users\\LMAG\\UPB\\Fundamentos de Computacion 2022-20 - Profesores - Profesores\\_notas\\seg1\\S03_condicionales\\1\\Ossa Garcia Juan Felipe_2890785_assignsubmission_file_\n",
      "Ramirez Zuluaga Tomas\n",
      "[WindowsPath('C:/Users/LMAG/UPB/Fundamentos de Computacion 2022-20 - Profesores - Profesores/_notas/seg1/S03_condicionales/1/Ramirez Zuluaga Tomas_2890794_assignsubmission_file_/Punto1_S3.py'), WindowsPath('C:/Users/LMAG/UPB/Fundamentos de Computacion 2022-20 - Profesores - Profesores/_notas/seg1/S03_condicionales/1/Ramirez Zuluaga Tomas_2890794_assignsubmission_file_/Punto2_S3.py'), WindowsPath('C:/Users/LMAG/UPB/Fundamentos de Computacion 2022-20 - Profesores - Profesores/_notas/seg1/S03_condicionales/1/Ramirez Zuluaga Tomas_2890794_assignsubmission_file_/Punto3_S3.py')]\n",
      "C:\\Users\\LMAG\\UPB\\Fundamentos de Computacion 2022-20 - Profesores - Profesores\\_notas\\seg1\\S03_condicionales\\1\\Ramirez Zuluaga Tomas_2890794_assignsubmission_file_\n",
      "Rivera Escobar Juan\n",
      "[WindowsPath('C:/Users/LMAG/UPB/Fundamentos de Computacion 2022-20 - Profesores - Profesores/_notas/seg1/S03_condicionales/1/Rivera Escobar Juan_2890795_assignsubmission_file_/Punto1Taller2.py'), WindowsPath('C:/Users/LMAG/UPB/Fundamentos de Computacion 2022-20 - Profesores - Profesores/_notas/seg1/S03_condicionales/1/Rivera Escobar Juan_2890795_assignsubmission_file_/Punto2Taller2.py'), WindowsPath('C:/Users/LMAG/UPB/Fundamentos de Computacion 2022-20 - Profesores - Profesores/_notas/seg1/S03_condicionales/1/Rivera Escobar Juan_2890795_assignsubmission_file_/Punto3Taller2.py')]\n",
      "C:\\Users\\LMAG\\UPB\\Fundamentos de Computacion 2022-20 - Profesores - Profesores\\_notas\\seg1\\S03_condicionales\\1\\Rivera Escobar Juan_2890795_assignsubmission_file_\n",
      "Salinas Bustamante Maria Alejandra\n",
      "[WindowsPath('C:/Users/LMAG/UPB/Fundamentos de Computacion 2022-20 - Profesores - Profesores/_notas/seg1/S03_condicionales/1/Salinas Bustamante Maria Alejandra_2890789_assignsubmission_file_/taller3.py')]\n",
      "C:\\Users\\LMAG\\UPB\\Fundamentos de Computacion 2022-20 - Profesores - Profesores\\_notas\\seg1\\S03_condicionales\\1\\Salinas Bustamante Maria Alejandra_2890789_assignsubmission_file_\n",
      "Sanchez Murillo Ana Maria\n",
      "[WindowsPath('C:/Users/LMAG/UPB/Fundamentos de Computacion 2022-20 - Profesores - Profesores/_notas/seg1/S03_condicionales/1/Sanchez Murillo Ana Maria_2890791_assignsubmission_file_/Ejercicio 3.py'), WindowsPath('C:/Users/LMAG/UPB/Fundamentos de Computacion 2022-20 - Profesores - Profesores/_notas/seg1/S03_condicionales/1/Sanchez Murillo Ana Maria_2890791_assignsubmission_file_/ejercicio1.py'), WindowsPath('C:/Users/LMAG/UPB/Fundamentos de Computacion 2022-20 - Profesores - Profesores/_notas/seg1/S03_condicionales/1/Sanchez Murillo Ana Maria_2890791_assignsubmission_file_/ejercico2.py')]\n",
      "C:\\Users\\LMAG\\UPB\\Fundamentos de Computacion 2022-20 - Profesores - Profesores\\_notas\\seg1\\S03_condicionales\\1\\Sanchez Murillo Ana Maria_2890791_assignsubmission_file_\n",
      "Sibaja Lopez Leandra Maria\n",
      "[WindowsPath('C:/Users/LMAG/UPB/Fundamentos de Computacion 2022-20 - Profesores - Profesores/_notas/seg1/S03_condicionales/1/Sibaja Lopez Leandra Maria_2890793_assignsubmission_file_/taller2p1.py'), WindowsPath('C:/Users/LMAG/UPB/Fundamentos de Computacion 2022-20 - Profesores - Profesores/_notas/seg1/S03_condicionales/1/Sibaja Lopez Leandra Maria_2890793_assignsubmission_file_/taller2p2.py'), WindowsPath('C:/Users/LMAG/UPB/Fundamentos de Computacion 2022-20 - Profesores - Profesores/_notas/seg1/S03_condicionales/1/Sibaja Lopez Leandra Maria_2890793_assignsubmission_file_/taller2p3.py')]\n",
      "C:\\Users\\LMAG\\UPB\\Fundamentos de Computacion 2022-20 - Profesores - Profesores\\_notas\\seg1\\S03_condicionales\\1\\Sibaja Lopez Leandra Maria_2890793_assignsubmission_file_\n",
      "Taborda Martinez Vanessa Andrea\n",
      "[WindowsPath('C:/Users/LMAG/UPB/Fundamentos de Computacion 2022-20 - Profesores - Profesores/_notas/seg1/S03_condicionales/1/Taborda Martinez Vanessa Andrea_2890781_assignsubmission_file_/main.py'), WindowsPath('C:/Users/LMAG/UPB/Fundamentos de Computacion 2022-20 - Profesores - Profesores/_notas/seg1/S03_condicionales/1/Taborda Martinez Vanessa Andrea_2890781_assignsubmission_file_/tallersemana3.py')]\n",
      "C:\\Users\\LMAG\\UPB\\Fundamentos de Computacion 2022-20 - Profesores - Profesores\\_notas\\seg1\\S03_condicionales\\1\\Taborda Martinez Vanessa Andrea_2890781_assignsubmission_file_\n",
      "Tellez Soleiman Said Karam\n",
      "[WindowsPath('C:/Users/LMAG/UPB/Fundamentos de Computacion 2022-20 - Profesores - Profesores/_notas/seg1/S03_condicionales/1/Tellez Soleiman Said Karam_2890797_assignsubmission_file_/TALLER 2 PUNTO 1 - SAID TELLEZ.py'), WindowsPath('C:/Users/LMAG/UPB/Fundamentos de Computacion 2022-20 - Profesores - Profesores/_notas/seg1/S03_condicionales/1/Tellez Soleiman Said Karam_2890797_assignsubmission_file_/TALLER 2 PUNTO 2 - SAID TELLEZ.py'), WindowsPath('C:/Users/LMAG/UPB/Fundamentos de Computacion 2022-20 - Profesores - Profesores/_notas/seg1/S03_condicionales/1/Tellez Soleiman Said Karam_2890797_assignsubmission_file_/TALLER 2 PUNTO 3 - SAID TELLEZ.py')]\n",
      "C:\\Users\\LMAG\\UPB\\Fundamentos de Computacion 2022-20 - Profesores - Profesores\\_notas\\seg1\\S03_condicionales\\1\\Tellez Soleiman Said Karam_2890797_assignsubmission_file_\n",
      "Uribe Sara Valentina\n",
      "[WindowsPath('C:/Users/LMAG/UPB/Fundamentos de Computacion 2022-20 - Profesores - Profesores/_notas/seg1/S03_condicionales/1/Uribe Sara Valentina_2890783_assignsubmission_file_/Punto 1.py'), WindowsPath('C:/Users/LMAG/UPB/Fundamentos de Computacion 2022-20 - Profesores - Profesores/_notas/seg1/S03_condicionales/1/Uribe Sara Valentina_2890783_assignsubmission_file_/Punto 2.py'), WindowsPath('C:/Users/LMAG/UPB/Fundamentos de Computacion 2022-20 - Profesores - Profesores/_notas/seg1/S03_condicionales/1/Uribe Sara Valentina_2890783_assignsubmission_file_/Punto 3.py')]\n",
      "C:\\Users\\LMAG\\UPB\\Fundamentos de Computacion 2022-20 - Profesores - Profesores\\_notas\\seg1\\S03_condicionales\\1\\Uribe Sara Valentina_2890783_assignsubmission_file_\n",
      "Vallejo Zapata Valeria\n",
      "[WindowsPath('C:/Users/LMAG/UPB/Fundamentos de Computacion 2022-20 - Profesores - Profesores/_notas/seg1/S03_condicionales/1/Vallejo Zapata Valeria_2890782_assignsubmission_file_/digitos.py'), WindowsPath('C:/Users/LMAG/UPB/Fundamentos de Computacion 2022-20 - Profesores - Profesores/_notas/seg1/S03_condicionales/1/Vallejo Zapata Valeria_2890782_assignsubmission_file_/edad.py'), WindowsPath('C:/Users/LMAG/UPB/Fundamentos de Computacion 2022-20 - Profesores - Profesores/_notas/seg1/S03_condicionales/1/Vallejo Zapata Valeria_2890782_assignsubmission_file_/mayorque.py')]\n",
      "C:\\Users\\LMAG\\UPB\\Fundamentos de Computacion 2022-20 - Profesores - Profesores\\_notas\\seg1\\S03_condicionales\\1\\Vallejo Zapata Valeria_2890782_assignsubmission_file_\n",
      "Zapata Betancur Valentina\n",
      "[WindowsPath('C:/Users/LMAG/UPB/Fundamentos de Computacion 2022-20 - Profesores - Profesores/_notas/seg1/S03_condicionales/1/Zapata Betancur Valentina_2890796_assignsubmission_file_/punto1.py'), WindowsPath('C:/Users/LMAG/UPB/Fundamentos de Computacion 2022-20 - Profesores - Profesores/_notas/seg1/S03_condicionales/1/Zapata Betancur Valentina_2890796_assignsubmission_file_/punto2.py'), WindowsPath('C:/Users/LMAG/UPB/Fundamentos de Computacion 2022-20 - Profesores - Profesores/_notas/seg1/S03_condicionales/1/Zapata Betancur Valentina_2890796_assignsubmission_file_/punto3.py')]\n",
      "C:\\Users\\LMAG\\UPB\\Fundamentos de Computacion 2022-20 - Profesores - Profesores\\_notas\\seg1\\S03_condicionales\\1\\Zapata Betancur Valentina_2890796_assignsubmission_file_\n"
     ]
    }
   ],
   "source": [
    "for pat,nam,scr in zip(pathList,nameList,scriptList):\n",
    "    print(nam)\n",
    "    print(scr)\n",
    "    print(pat)\n",
    "    if scr == []:\n",
    "        print(f\"Error de archivos con {nam}, no se encontraron archivos para revisar en {pat}\")\n",
    "    # leer el contenido del archivo como texto\n",
    "    #print(scriptList[-1][-1].read_text())"
   ]
  },
  {
   "cell_type": "markdown",
   "metadata": {},
   "source": [
    "## Creación de cuadernos individuales por estudiante con el reporte\n",
    "\n",
    "### Importar módulos y definición de funciones\n",
    "\n",
    "**Atención**: solo correr si se requiere generar los cuadernos de retroalimentación."
   ]
  },
  {
   "cell_type": "code",
   "execution_count": 9,
   "metadata": {},
   "outputs": [],
   "source": [
    "if generateNB:\n",
    "\n",
    "    import nbformat as nbf\n",
    "    import itertools \n",
    "\n",
    "    def conformarCeldas(cuaderno,nombre,scripts):\n",
    "        cellsList = list()\n",
    "        text = f\"\"\"\\\n",
    "# {nombre}\n",
    "# {evaluacion}\n",
    "# {enunciado}\n",
    "\"\"\"\n",
    "        cellsList.append(nbf.v4.new_markdown_cell(text))\n",
    "        code = f\"\"\"\\\n",
    "%%javascript\n",
    "IPython.notebook.events.off('checkpoint_created.Notebook');\n",
    "IPython.notebook.events.off('notebook_saved.Notebook');\n",
    "\"\"\"\n",
    "        cellsList.append(nbf.v4.new_code_cell(code))\n",
    "\n",
    "        for script in scripts:\n",
    "            try:\n",
    "                codeText = script.read_text(encoding=\"utf8\")\n",
    "            except:\n",
    "                print(f\"fallo lectura de codigo en {script}\")\n",
    "                return cellsList\n",
    "            code = f\"\"\"\\\n",
    "# {script.stem}\\n\n",
    "%reset -sf\\n#para correr el script desde cero, esta linea no afectara la ejecución de su codigo.\\n\n",
    "{codeText}\"\"\"\n",
    "            cellsList.append(nbf.v4.new_code_cell(code))\n",
    "        return cellsList"
   ]
  },
  {
   "cell_type": "markdown",
   "metadata": {},
   "source": [
    "### Crear cuadernos con script por celda de código\n",
    "\n",
    "Se pone el nombre del estudiante en una celda de markdown\n",
    "Luego se crea una celda de código por programa, con un comentario con el nombre del archivo."
   ]
  },
  {
   "cell_type": "code",
   "execution_count": 10,
   "metadata": {
    "scrolled": true
   },
   "outputs": [],
   "source": [
    "if generateNB:\n",
    "\n",
    "    for (estPath,estName,estScripts) in zip(pathList,nameList,scriptList):\n",
    "\n",
    "        nb = nbf.v4.new_notebook()\n",
    "\n",
    "        celdas = conformarCeldas(nb,estName,estScripts)\n",
    "\n",
    "        nb['cells'] = celdas\n",
    "        nbf.write(nb, estPath/f'{estName}.ipynb')"
   ]
  },
  {
   "cell_type": "markdown",
   "metadata": {},
   "source": [
    "### Verificar similaridad\n",
    "\n",
    "Correr estas celdas individualmente.\n",
    "1. Conformar la lista de scripts y estudiantes consolidada\n",
    "2. correr la celda para generar el mapa de similaridad"
   ]
  },
  {
   "cell_type": "code",
   "execution_count": 11,
   "metadata": {},
   "outputs": [],
   "source": [
    "# generar mapa de similaridad\n",
    "from difflib import SequenceMatcher\n",
    "import numpy as np\n",
    "import pandas as pd\n",
    "import seaborn as sns\n",
    "import matplotlib.pyplot as plt\n",
    "import statistics\n",
    "import re\n",
    "\n",
    "\n",
    "def stripComments(code):\n",
    "    code = str(code)\n",
    "    return re.sub(r'(?m)^ *#.*\\n?', '', code)\n",
    "def stripLines(code,lines):\n",
    "    return ''.join(code.splitlines())[lines:]"
   ]
  },
  {
   "cell_type": "code",
   "execution_count": 13,
   "metadata": {},
   "outputs": [
    {
     "name": "stdout",
     "output_type": "stream",
     "text": [
      "22 %\n",
      "9.121768066612109 %\n",
      "Hoyos Carmona Santiago se asemeja en: 26 % a Ramirez Zuluaga Tomas.\n",
      "Salinas Bustamante Maria Alejandra se asemeja en: 86 % a Taborda Martinez Vanessa Andrea.\n",
      "Tellez Soleiman Said Karam se asemeja en: 39 % a Vallejo Zapata Valeria.\n"
     ]
    }
   ],
   "source": [
    "try:\n",
    "    print(umbral,'%')\n",
    "    print(similarStdev,'%')\n",
    "except:\n",
    "    umbral = 90 #porcentaje de similitud\n",
    "\n",
    "dimension = len(scriptList)\n",
    "similarity = np.zeros((dimension,dimension))\n",
    "mostSimilar = []\n",
    "flatSimilar = []\n",
    "for i,script_base in enumerate(scriptList):\n",
    "    for j,script_cmp in enumerate(scriptList):\n",
    "        with open(script_base[0], errors='ignore',encoding='UTF-8') as fileA,open(script_cmp[0], errors='ignore',encoding='UTF-8') as fileB:\n",
    "            fileAData = fileA.read()\n",
    "            fileAData = stripComments(fileAData)\n",
    "            fileBData = fileB.read()\n",
    "            fileBData = stripComments(fileBData)\n",
    "            similarity[[i],[j]] = int(SequenceMatcher(None, fileAData,fileBData).ratio()*100)\n",
    "            if similarity[[i],[j]]>umbral and j>i: #solo tomar a la derecha de la diagonal.\n",
    "                mostSimilar.append([script_base[0],script_cmp[0],similarity[[i],[j]][0]])\n",
    "                print( f\"{nameList[i]} se asemeja en: {similarity[i][j]:.0f} % a {nameList[j]}.\")\n",
    "            if j>i:\n",
    "                flatSimilar.append(similarity[[i],[j]][0])\n",
    "\n",
    "similarStdev = statistics.stdev(flatSimilar)\n",
    "similarMean = statistics.mean(flatSimilar)\n",
    "umbral = int(similarMean+(similarStdev*2))\n",
    "df = pd.DataFrame(similarity, columns = nameList, index = nameList)"
   ]
  },
  {
   "cell_type": "code",
   "execution_count": 9,
   "metadata": {},
   "outputs": [],
   "source": [
    "# percSimilar = dict((i,item) for i,item in enumerate(mostSimilar))\n",
    "# print(percSimilar)    \n",
    "# print(fileAData)"
   ]
  },
  {
   "cell_type": "markdown",
   "metadata": {},
   "source": [
    "## Por hacer\n",
    "\n",
    "Generar una lista de parejas de personas con similaridad mayor a cierto umbral, luego llamar al comparador con interfaz gráfica: https://github.com/yebrahim/pydiff\n",
    "\n",
    "- Generar parejas de similares con mayor a umbral\n",
    "- Verificar uso de la herramienta llamada desde cli.\n",
    "- Sistematizar la revisión de comparación"
   ]
  },
  {
   "cell_type": "code",
   "execution_count": 14,
   "metadata": {
    "scrolled": false
   },
   "outputs": [
    {
     "data": {
      "image/png": "[encoded data removed]",
      "text/plain": [
       "<Figure size 504x432 with 2 Axes>"
      ]
     },
     "metadata": {},
     "output_type": "display_data"
    }
   ],
   "source": [
    "# print(df)\n",
    "sns.set(font_scale=0.5)\n",
    "sns.set_palette(\"coolwarm\")\n",
    "figure = plt.gcf() # get current figure\n",
    "figure.set_size_inches(7, 6)\n",
    "mapa = sns.heatmap(df, annot=True, vmin = similarMean, vmax = max(flatSimilar),cmap = \"Reds\")\n",
    "plt.savefig(rootpath/'mapaSimilaridad.pdf', dpi=300,bbox_inches='tight')"
   ]
  },
  {
   "cell_type": "markdown",
   "metadata": {},
   "source": [
    "#### Pendientes mapa de calor\n",
    "\n",
    "convertir en mapa de calor diagonal, seleccionar el máximo y hacer la gráfica como se indica aquí:\n",
    "https://seaborn.pydata.org/examples/many_pairwise_correlations.html"
   ]
  },
  {
   "cell_type": "markdown",
   "metadata": {},
   "source": [
    "### Crear un cuaderno con todos los códigos para comparación y verificación de fraudes"
   ]
  },
  {
   "cell_type": "code",
   "execution_count": 15,
   "metadata": {},
   "outputs": [],
   "source": [
    "import subprocess\n",
    "\n",
    "for similar in mostSimilar:\n",
    "    path1 = str(similar[0])\n",
    "    path2 = str(similar[1])\n",
    "    command = f'python pydiff.py -p \"{path1}\" \"{path2}\"'\n",
    "#     print(command)\n",
    "    try:\n",
    "        subprocess.call(command, timeout = 1, shell=True)\n",
    "    except:\n",
    "        pass\n",
    "#   os.system(command)\n",
    "# nb = nbf.v4.new_notebook()\n",
    "# for (estPath,estName,estScripts) in zip(pathList,nameList,scriptList):\n",
    "#     celdas = conformarCeldas(nb,estName,estScripts)\n",
    "    \n",
    "#     nb['cells'] += celdas\n",
    "# nbf.write(nb, 'RevisionEntregas.ipynb')"
   ]
  },
  {
   "cell_type": "markdown",
   "metadata": {},
   "source": [
    "### Refs\n",
    "\n",
    "https://nbviewer.org/gist/fperez/9716279\n",
    "\n",
    "https://github.com/yebrahim/pydiff"
   ]
  }
 ],
 "metadata": {
  "kernelspec": {
   "display_name": "Python 3",
   "language": "python",
   "name": "python3"
  },
  "language_info": {
   "codemirror_mode": {
    "name": "ipython",
    "version": 3
   },
   "file_extension": ".py",
   "mimetype": "text/x-python",
   "name": "python",
   "nbconvert_exporter": "python",
   "pygments_lexer": "ipython3",
   "version": "3.8.5"
  },
  "toc": {
   "base_numbering": 1,
   "nav_menu": {},
   "number_sections": true,
   "sideBar": true,
   "skip_h1_title": false,
   "title_cell": "Table of Contents",
   "title_sidebar": "Contents",
   "toc_cell": false,
   "toc_position": {},
   "toc_section_display": true,
   "toc_window_display": false
  },
  "varInspector": {
   "cols": {
    "lenName": 16,
    "lenType": 16,
    "lenVar": 40
   },
   "kernels_config": {
    "python": {
     "delete_cmd_postfix": "",
     "delete_cmd_prefix": "del ",
     "library": "var_list.py",
     "varRefreshCmd": "print(var_dic_list())"
    },
    "r": {
     "delete_cmd_postfix": ") ",
     "delete_cmd_prefix": "rm(",
     "library": "var_list.r",
     "varRefreshCmd": "cat(var_dic_list()) "
    }
   },
   "types_to_exclude": [
    "module",
    "function",
    "builtin_function_or_method",
    "instance",
    "_Feature"
   ],
   "window_display": false
  }
 },
 "nbformat": 4,
 "nbformat_minor": 4
}

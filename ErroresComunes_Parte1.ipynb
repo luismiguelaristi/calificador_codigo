{
 "cells": [
  {
   "cell_type": "markdown",
   "metadata": {},
   "source": [
    "# Errores comunes en programación y recomendaciones\n",
    "Por Luis Miguel Aristizábal Gómez\n",
    "\n",
    "Esta lista se irá construyendo con el tiempo, con base en los errores más comunes que observe durante la evaluación de entregas de diversos cursos.\n",
    "\n",
    "## Recomendación 1 - primer paso cuando se enfrente a un problema que requiera código: ESCRIBA LO QUE TIENE QUE HACER EL PROGRAMA EN SU IDIOMA\n",
    "\n",
    "Un caso como el del examen 01 de Fundamentos de Computación se debe partir en pequeños problemas y tareas, la mejor forma de hacerlo es primero en el lenguaje que mejor domine, por ejemplo, el español.\n",
    "\n",
    "- Si le gustan los diagramas de flujo, puede ser incluso más efectivo que el código explicado en texto.\n",
    "\n",
    "## 1. Captura de errores:\n",
    "Las funciones de conversión de tipo de dato (por ejemplo int() y float()) generan error cuando tratan de convertir algo incompatible.\n",
    "- Un string 'abc' no se puede convertir a número\n",
    "- Recuerde capturar el error en las conversiones o de sentencias que puedan generar error de Python, usando try:  except:\n",
    "\n",
    "### Ejemplo que GENERA ERRROR que hace que python muera:"
   ]
  },
  {
   "cell_type": "code",
   "execution_count": 4,
   "metadata": {
    "scrolled": true
   },
   "outputs": [
    {
     "ename": "ValueError",
     "evalue": "invalid literal for int() with base 10: 'abc'",
     "output_type": "error",
     "traceback": [
      "\u001b[1;31m---------------------------------------------------------------------------\u001b[0m",
      "\u001b[1;31mValueError\u001b[0m                                Traceback (most recent call last)",
      "\u001b[1;32m<ipython-input-4-f31daf94e196>\u001b[0m in \u001b[0;36m<module>\u001b[1;34m\u001b[0m\n\u001b[0;32m      3\u001b[0m     \u001b[1;32mreturn\u001b[0m \u001b[0mnum\u001b[0m\u001b[1;33m\u001b[0m\u001b[1;33m\u001b[0m\u001b[0m\n\u001b[0;32m      4\u001b[0m \u001b[1;33m\u001b[0m\u001b[0m\n\u001b[1;32m----> 5\u001b[1;33m \u001b[0mmi_valor\u001b[0m \u001b[1;33m=\u001b[0m \u001b[0mmi_funcion\u001b[0m\u001b[1;33m(\u001b[0m\u001b[1;34m'abc'\u001b[0m\u001b[1;33m)\u001b[0m\u001b[1;33m\u001b[0m\u001b[1;33m\u001b[0m\u001b[0m\n\u001b[0m\u001b[0;32m      6\u001b[0m \u001b[0mmi_otro_valor\u001b[0m \u001b[1;33m=\u001b[0m \u001b[0mmi_funcion\u001b[0m\u001b[1;33m(\u001b[0m\u001b[1;36m123\u001b[0m\u001b[1;33m)\u001b[0m\u001b[1;33m\u001b[0m\u001b[1;33m\u001b[0m\u001b[0m\n\u001b[0;32m      7\u001b[0m \u001b[1;33m\u001b[0m\u001b[0m\n",
      "\u001b[1;32m<ipython-input-4-f31daf94e196>\u001b[0m in \u001b[0;36mmi_funcion\u001b[1;34m(valor)\u001b[0m\n\u001b[0;32m      1\u001b[0m \u001b[1;32mdef\u001b[0m \u001b[0mmi_funcion\u001b[0m\u001b[1;33m(\u001b[0m\u001b[0mvalor\u001b[0m\u001b[1;33m)\u001b[0m\u001b[1;33m:\u001b[0m\u001b[1;33m\u001b[0m\u001b[1;33m\u001b[0m\u001b[0m\n\u001b[1;32m----> 2\u001b[1;33m     \u001b[0mnum\u001b[0m \u001b[1;33m=\u001b[0m \u001b[0mint\u001b[0m\u001b[1;33m(\u001b[0m\u001b[0mvalor\u001b[0m\u001b[1;33m)\u001b[0m\u001b[1;33m\u001b[0m\u001b[1;33m\u001b[0m\u001b[0m\n\u001b[0m\u001b[0;32m      3\u001b[0m     \u001b[1;32mreturn\u001b[0m \u001b[0mnum\u001b[0m\u001b[1;33m\u001b[0m\u001b[1;33m\u001b[0m\u001b[0m\n\u001b[0;32m      4\u001b[0m \u001b[1;33m\u001b[0m\u001b[0m\n\u001b[0;32m      5\u001b[0m \u001b[0mmi_valor\u001b[0m \u001b[1;33m=\u001b[0m \u001b[0mmi_funcion\u001b[0m\u001b[1;33m(\u001b[0m\u001b[1;34m'abc'\u001b[0m\u001b[1;33m)\u001b[0m\u001b[1;33m\u001b[0m\u001b[1;33m\u001b[0m\u001b[0m\n",
      "\u001b[1;31mValueError\u001b[0m: invalid literal for int() with base 10: 'abc'"
     ]
    }
   ],
   "source": [
    "def mi_funcion(valor):\n",
    "    num = int(valor)\n",
    "    return num\n",
    "\n",
    "mi_valor = mi_funcion('abc')\n",
    "mi_otro_valor = mi_funcion(123)    \n",
    "\n",
    "print(mi_valor)\n",
    "print(mi_otro_valor)"
   ]
  },
  {
   "cell_type": "markdown",
   "metadata": {},
   "source": [
    "### Ejemplo que NO mata a Python"
   ]
  },
  {
   "cell_type": "code",
   "execution_count": 5,
   "metadata": {},
   "outputs": [
    {
     "name": "stdout",
     "output_type": "stream",
     "text": [
      "None\n",
      "123\n"
     ]
    }
   ],
   "source": [
    "def mi_funcion(valor):\n",
    "    try:\n",
    "        num = int(valor)\n",
    "        return valor\n",
    "    except:\n",
    "        return None\n",
    "\n",
    "mi_valor = mi_funcion('abc')\n",
    "mi_otro_valor = mi_funcion(123)    \n",
    "\n",
    "print(mi_valor)\n",
    "print(mi_otro_valor)"
   ]
  },
  {
   "cell_type": "markdown",
   "metadata": {},
   "source": [
    "##  2. Funciones que retornan None:\n",
    "- Normalmente desarrollamos nuestras funciones para que retornen None cuando ocurre algo mal. \n",
    "  - Cuando probemos nuestras funciones, verifiquemos que el valor retornado sea DIFERENTE de None."
   ]
  },
  {
   "cell_type": "code",
   "execution_count": 33,
   "metadata": {},
   "outputs": [
    {
     "name": "stdout",
     "output_type": "stream",
     "text": [
      "hubo un error en la función\n"
     ]
    }
   ],
   "source": [
    "argumento = 'abc'\n",
    "resultado = mi_funcion(argumento)\n",
    "if resultado is None:\n",
    "    print('hubo un error en la función')\n",
    "else:\n",
    "    print(resultado)"
   ]
  },
  {
   "cell_type": "code",
   "execution_count": 34,
   "metadata": {},
   "outputs": [
    {
     "name": "stdout",
     "output_type": "stream",
     "text": [
      "123\n"
     ]
    }
   ],
   "source": [
    "argumento = '123'\n",
    "resultado = mi_funcion(argumento)\n",
    "if resultado is None:\n",
    "    print('hubo un error en la función')\n",
    "else:\n",
    "    print(resultado)"
   ]
  },
  {
   "cell_type": "markdown",
   "metadata": {},
   "source": [
    "## 3. El operador = para ASIGNAR vs. COMPARAR (==) :\n",
    "- x = 1   guarda el número 1 en la variable x\n",
    "- x == 1  es una COMPARACIÓN, Python pregunta si la variable x está guardando el valor 1.\n",
    "  - Esta es una sentencia que resulta en True o False"
   ]
  },
  {
   "cell_type": "code",
   "execution_count": 9,
   "metadata": {},
   "outputs": [],
   "source": [
    "x = 1"
   ]
  },
  {
   "cell_type": "markdown",
   "metadata": {},
   "source": [
    "Esto solo guardó el número entero 1 en la variable x"
   ]
  },
  {
   "cell_type": "code",
   "execution_count": 10,
   "metadata": {},
   "outputs": [
    {
     "data": {
      "text/plain": [
       "True"
      ]
     },
     "execution_count": 10,
     "metadata": {},
     "output_type": "execute_result"
    }
   ],
   "source": [
    "x == 1"
   ]
  },
  {
   "cell_type": "markdown",
   "metadata": {},
   "source": [
    "Esto es una sentencia que básicamente hace la comparación, como x es igual a 1, la respuesta es True"
   ]
  },
  {
   "cell_type": "code",
   "execution_count": 12,
   "metadata": {
    "scrolled": true
   },
   "outputs": [
    {
     "data": {
      "text/plain": [
       "False"
      ]
     },
     "execution_count": 12,
     "metadata": {},
     "output_type": "execute_result"
    }
   ],
   "source": [
    "x = 2\n",
    "x == 1"
   ]
  },
  {
   "cell_type": "markdown",
   "metadata": {},
   "source": [
    "Como x cambió a 2, ya la misma sentencia resulta ser False"
   ]
  },
  {
   "cell_type": "markdown",
   "metadata": {},
   "source": [
    "- Lecturas recomendadas:\n",
    "  - Presentación y clase de Variables + Condicionales.\n",
    "  - https://www.freecodecamp.org/espanol/news/operadores-basicos-en-python-con-ejemplos/\n",
    "  \n",
    "## 4. print(hola) vs print('hola') vs print(\"hola\"):\n",
    "- ¿qué pasa con cada print?"
   ]
  },
  {
   "cell_type": "code",
   "execution_count": 13,
   "metadata": {},
   "outputs": [
    {
     "ename": "NameError",
     "evalue": "name 'hola' is not defined",
     "output_type": "error",
     "traceback": [
      "\u001b[1;31m---------------------------------------------------------------------------\u001b[0m",
      "\u001b[1;31mNameError\u001b[0m                                 Traceback (most recent call last)",
      "\u001b[1;32m<ipython-input-13-49f51bbac2f0>\u001b[0m in \u001b[0;36m<module>\u001b[1;34m\u001b[0m\n\u001b[1;32m----> 1\u001b[1;33m \u001b[0mprint\u001b[0m\u001b[1;33m(\u001b[0m\u001b[0mhola\u001b[0m\u001b[1;33m)\u001b[0m\u001b[1;33m\u001b[0m\u001b[1;33m\u001b[0m\u001b[0m\n\u001b[0m",
      "\u001b[1;31mNameError\u001b[0m: name 'hola' is not defined"
     ]
    }
   ],
   "source": [
    "print(hola)"
   ]
  },
  {
   "cell_type": "code",
   "execution_count": 14,
   "metadata": {},
   "outputs": [
    {
     "name": "stdout",
     "output_type": "stream",
     "text": [
      "hola\n"
     ]
    }
   ],
   "source": [
    "print('hola')"
   ]
  },
  {
   "cell_type": "code",
   "execution_count": 35,
   "metadata": {},
   "outputs": [
    {
     "name": "stdout",
     "output_type": "stream",
     "text": [
      "hola\n"
     ]
    }
   ],
   "source": [
    "print(\"hola\")"
   ]
  },
  {
   "cell_type": "markdown",
   "metadata": {},
   "source": [
    "- texto sin comillas indicaría en el código que HAY UNA VARIABLE QUE SE LLAMA hola.\n",
    "  - si es así, se imprime el contenido de la variable hola\n",
    "  - sino, genera error, porque hola no existe.\n",
    "- texto con comillas simples indica un STRING (cadena de caracteres de texto), por lo cual imprime \"hola\" en la consola\n",
    "- texto con comillas dobles hace lo mismo que simples.\n",
    "\n",
    "## 5. Si la función necesita recibir información, ¿debo ingresarla usando input?\n",
    "- OJO: recuerde que la función recibe información por los ARGUMENTOS, y RETORNA algo con return\n",
    "```python\n",
    "def funcion(ARGUMENTO1,ARGUMENTO2,...,ARGUMENTO_N):\n",
    "    ... #aquí va lo que hace la función\n",
    "    return VALOR_A_RETORNAR\n",
    "```\n",
    "- Para usar la función, se debe LLAMAR, en la parte de abajo del programa:\n",
    "```python\n",
    "variable_cualquiera = funcion(123,'abc',...,otra_variable_de_ejemplo)\n",
    "\n",
    "```\n",
    "- Explicación gráfica:"
   ]
  },
  {
   "attachments": {
    "image.png": {
     "image/png": "[encoded data removed]"
    }
   },
   "cell_type": "markdown",
   "metadata": {},
   "source": [
    "![image.png](attachment:image.png)\n",
    "\t\t\t\n",
    "- En este caso, INPUT es un argumento, llamado x, OUTPUT es lo que va después de return"
   ]
  },
  {
   "cell_type": "code",
   "execution_count": 18,
   "metadata": {},
   "outputs": [],
   "source": [
    "def f(x):\n",
    "    f_x = x**2\n",
    "    return f_x"
   ]
  },
  {
   "cell_type": "markdown",
   "metadata": {},
   "source": [
    "Para probar esta función, el programa quedaría:"
   ]
  },
  {
   "cell_type": "code",
   "execution_count": 20,
   "metadata": {},
   "outputs": [
    {
     "name": "stdout",
     "output_type": "stream",
     "text": [
      "9\n"
     ]
    }
   ],
   "source": [
    "mi_num = 3\n",
    "mi_num_ala2 = f(mi_num)\n",
    "print(mi_num_ala2)"
   ]
  },
  {
   "cell_type": "markdown",
   "metadata": {},
   "source": [
    "- Fuente y lectura adicional: https://learnbatta.com/blog/python-working-with-functions-57/\n",
    "\n",
    "##  6. Las variables que existen DENTRO de una función, no se pueden usar POR FUERA de la función\n",
    "\n",
    "pensemos en una función que recibe como argumento un string y lo convierte a número entero, y retorna ese número al cuadrado:"
   ]
  },
  {
   "cell_type": "code",
   "execution_count": 22,
   "metadata": {},
   "outputs": [],
   "source": [
    "def f(x):\n",
    "    x = int(x) # convierto x a entero y lo guardo en la misma variable\n",
    "    f_x = x**2 # ejecuto la función\n",
    "    return f_x # retorno el valor calculado"
   ]
  },
  {
   "cell_type": "markdown",
   "metadata": {},
   "source": [
    "luego voy a probar mi función en el código principal así:"
   ]
  },
  {
   "cell_type": "code",
   "execution_count": 24,
   "metadata": {},
   "outputs": [
    {
     "name": "stdout",
     "output_type": "stream",
     "text": [
      "4\n"
     ]
    }
   ],
   "source": [
    "mi_x = 2\n",
    "x_a_la_2 = f(mi_x)\n",
    "print(x_a_la_2)"
   ]
  },
  {
   "cell_type": "markdown",
   "metadata": {},
   "source": [
    "ahora miremos casos problemáticos\n",
    "\n",
    "1. usar una variable declarada dentro de la función, POR FUERA de esta.\n",
    "\n",
    "este es fácil de ejemplificar. Si trato de imprimir"
   ]
  },
  {
   "cell_type": "code",
   "execution_count": 26,
   "metadata": {},
   "outputs": [
    {
     "ename": "NameError",
     "evalue": "name 'f_x' is not defined",
     "output_type": "error",
     "traceback": [
      "\u001b[1;31m---------------------------------------------------------------------------\u001b[0m",
      "\u001b[1;31mNameError\u001b[0m                                 Traceback (most recent call last)",
      "\u001b[1;32m<ipython-input-26-79ffcb4cf60e>\u001b[0m in \u001b[0;36m<module>\u001b[1;34m\u001b[0m\n\u001b[1;32m----> 1\u001b[1;33m \u001b[0mprint\u001b[0m\u001b[1;33m(\u001b[0m\u001b[0mf_x\u001b[0m\u001b[1;33m)\u001b[0m\u001b[1;33m\u001b[0m\u001b[1;33m\u001b[0m\u001b[0m\n\u001b[0m",
      "\u001b[1;31mNameError\u001b[0m: name 'f_x' is not defined"
     ]
    }
   ],
   "source": [
    "print(f_x)"
   ]
  },
  {
   "cell_type": "markdown",
   "metadata": {},
   "source": [
    "obtuve un error, porque **f_x solo existe dentro de la función.**\n",
    "\n",
    "## 7. Las variables que se crean POR FUERA de una función, no se deben usar DENTRO de una función\n",
    "\n",
    "usar una variable declarada en el código principal, DENTRO DE la función"
   ]
  },
  {
   "cell_type": "code",
   "execution_count": 27,
   "metadata": {},
   "outputs": [],
   "source": [
    "def f(x):\n",
    "    x = int(mi_x) # mire bien qué variable estoy tratando de convertir a entero\n",
    "    f_x = x**2 # ejecuto la función\n",
    "    return f_x # retorno el valor calculado"
   ]
  },
  {
   "cell_type": "markdown",
   "metadata": {},
   "source": [
    "La función se deja declarar sin problemas, y si la trato de probar... "
   ]
  },
  {
   "cell_type": "code",
   "execution_count": 37,
   "metadata": {},
   "outputs": [
    {
     "name": "stdout",
     "output_type": "stream",
     "text": [
      "4\n"
     ]
    }
   ],
   "source": [
    "# prueba de la función\n",
    "mi_x = 2\n",
    "x_a_la_2 = function(mi_x)\n",
    "print(x_a_la_2)  "
   ]
  },
  {
   "cell_type": "markdown",
   "metadata": {},
   "source": [
    "¡¡FUNCIONA!!\n",
    "\n",
    "¿cuál es el problema entonces?\n",
    "\n",
    "si trato de usar esta función en otro entorno, donde **mi_x NO haya sido declarada**, la función **NO va a funcionar.**\n",
    "\n",
    "vamos a ejemplificar esto **borrando la variable *mi_x* y volviendo a probar la función.**"
   ]
  },
  {
   "cell_type": "code",
   "execution_count": 38,
   "metadata": {},
   "outputs": [],
   "source": [
    "del mi_x # esto borra la variable mi_x"
   ]
  },
  {
   "cell_type": "code",
   "execution_count": 39,
   "metadata": {},
   "outputs": [
    {
     "ename": "NameError",
     "evalue": "name 'mi_x' is not defined",
     "output_type": "error",
     "traceback": [
      "\u001b[1;31m---------------------------------------------------------------------------\u001b[0m",
      "\u001b[1;31mNameError\u001b[0m                                 Traceback (most recent call last)",
      "\u001b[1;32m<ipython-input-39-0b6ca086165c>\u001b[0m in \u001b[0;36m<module>\u001b[1;34m\u001b[0m\n\u001b[0;32m      1\u001b[0m \u001b[1;31m# prueba de la función\u001b[0m\u001b[1;33m\u001b[0m\u001b[1;33m\u001b[0m\u001b[1;33m\u001b[0m\u001b[0m\n\u001b[0;32m      2\u001b[0m \u001b[0mmi_otra_x\u001b[0m \u001b[1;33m=\u001b[0m \u001b[1;36m2\u001b[0m\u001b[1;33m\u001b[0m\u001b[1;33m\u001b[0m\u001b[0m\n\u001b[1;32m----> 3\u001b[1;33m \u001b[0mx_a_la_2\u001b[0m \u001b[1;33m=\u001b[0m \u001b[0mf\u001b[0m\u001b[1;33m(\u001b[0m\u001b[0mmi_otra_x\u001b[0m\u001b[1;33m)\u001b[0m\u001b[1;33m\u001b[0m\u001b[1;33m\u001b[0m\u001b[0m\n\u001b[0m\u001b[0;32m      4\u001b[0m \u001b[0mprint\u001b[0m\u001b[1;33m(\u001b[0m\u001b[0mx_a_la_2\u001b[0m\u001b[1;33m)\u001b[0m\u001b[1;33m\u001b[0m\u001b[1;33m\u001b[0m\u001b[0m\n",
      "\u001b[1;32m<ipython-input-27-d29c5c8ac011>\u001b[0m in \u001b[0;36mf\u001b[1;34m(x)\u001b[0m\n\u001b[0;32m      1\u001b[0m \u001b[1;32mdef\u001b[0m \u001b[0mf\u001b[0m\u001b[1;33m(\u001b[0m\u001b[0mx\u001b[0m\u001b[1;33m)\u001b[0m\u001b[1;33m:\u001b[0m\u001b[1;33m\u001b[0m\u001b[1;33m\u001b[0m\u001b[0m\n\u001b[1;32m----> 2\u001b[1;33m     \u001b[0mx\u001b[0m \u001b[1;33m=\u001b[0m \u001b[0mint\u001b[0m\u001b[1;33m(\u001b[0m\u001b[0mmi_x\u001b[0m\u001b[1;33m)\u001b[0m \u001b[1;31m# mire bien qué variable estoy tratando de convertir a entero\u001b[0m\u001b[1;33m\u001b[0m\u001b[1;33m\u001b[0m\u001b[0m\n\u001b[0m\u001b[0;32m      3\u001b[0m     \u001b[0mf_x\u001b[0m \u001b[1;33m=\u001b[0m \u001b[0mx\u001b[0m\u001b[1;33m**\u001b[0m\u001b[1;36m2\u001b[0m \u001b[1;31m# ejecuto la función\u001b[0m\u001b[1;33m\u001b[0m\u001b[1;33m\u001b[0m\u001b[0m\n\u001b[0;32m      4\u001b[0m     \u001b[1;32mreturn\u001b[0m \u001b[0mf_x\u001b[0m \u001b[1;31m# retorno el valor calculado\u001b[0m\u001b[1;33m\u001b[0m\u001b[1;33m\u001b[0m\u001b[0m\n",
      "\u001b[1;31mNameError\u001b[0m: name 'mi_x' is not defined"
     ]
    }
   ],
   "source": [
    "# prueba de la función\n",
    "mi_otra_x = 2\n",
    "x_a_la_2 = f(mi_otra_x)\n",
    "print(x_a_la_2)  "
   ]
  },
  {
   "attachments": {},
   "cell_type": "markdown",
   "metadata": {},
   "source": [
    "El problema entonces es cuando OTRO PROGRAMA (como las pruebas automatizadas) tratan de usar la función. En ese caso, mi_x no existe, y va a generar un error como el que acabamos de ver."
   ]
  },
  {
   "cell_type": "markdown",
   "metadata": {},
   "source": [
    "## Próximamente más errores de otros temas..."
   ]
  }
 ],
 "metadata": {
  "kernelspec": {
   "display_name": "Python 3",
   "language": "python",
   "name": "python3"
  },
  "language_info": {
   "codemirror_mode": {
    "name": "ipython",
    "version": 3
   },
   "file_extension": ".py",
   "mimetype": "text/x-python",
   "name": "python",
   "nbconvert_exporter": "python",
   "pygments_lexer": "ipython3",
   "version": "3.8.5"
  },
  "toc": {
   "base_numbering": 1,
   "nav_menu": {},
   "number_sections": false,
   "sideBar": true,
   "skip_h1_title": false,
   "title_cell": "Table of Contents",
   "title_sidebar": "Contents",
   "toc_cell": false,
   "toc_position": {},
   "toc_section_display": true,
   "toc_window_display": false
  },
  "varInspector": {
   "cols": {
    "lenName": 16,
    "lenType": 16,
    "lenVar": 40
   },
   "kernels_config": {
    "python": {
     "delete_cmd_postfix": "",
     "delete_cmd_prefix": "del ",
     "library": "var_list.py",
     "varRefreshCmd": "print(var_dic_list())"
    },
    "r": {
     "delete_cmd_postfix": ") ",
     "delete_cmd_prefix": "rm(",
     "library": "var_list.r",
     "varRefreshCmd": "cat(var_dic_list()) "
    }
   },
   "types_to_exclude": [
    "module",
    "function",
    "builtin_function_or_method",
    "instance",
    "_Feature"
   ],
   "window_display": false
  }
 },
 "nbformat": 4,
 "nbformat_minor": 4
}

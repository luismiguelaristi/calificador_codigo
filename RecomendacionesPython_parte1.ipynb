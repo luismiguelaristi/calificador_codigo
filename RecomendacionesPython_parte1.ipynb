{
 "cells": [
  {
   "cell_type": "markdown",
   "id": "83e4e709",
   "metadata": {},
   "source": [
    "# Recomendaciones Python - parte 1\n",
    "Por Luis Miguel Aristizábal Gómez\n",
    "\n",
    "Esta lista se irá construyendo con el tiempo, con base en las recomendaciones más pertinentes que observe durante la evaluación de entregas de diversos cursos."
   ]
  },
  {
   "cell_type": "markdown",
   "id": "76f2f45b",
   "metadata": {},
   "source": [
    "## 0. Cuando se enfrente a un problema que requiera código: ESCRIBA LO QUE TIENE QUE HACER EL PROGRAMA EN SU IDIOMA\n",
    "\n",
    "Un caso como el del examen 01 de Fundamentos de Computación se debe partir en pequeños problemas y tareas, la mejor forma de hacerlo es primero en el lenguaje que mejor domine, por ejemplo, el español.\n",
    "\n",
    "- Si le gustan los diagramas de flujo, puede ser incluso más efectivo que el código explicado en texto.\n",
    "\n",
    "### CUIDADO \n",
    "si abordar el problema completo está muy complicado, empiece por una parte del problema, por ejemplo, extraer cada caracter del texto recibido.\n",
    "\n",
    "### Mirémoslo con un ejemplo: "
   ]
  },
  {
   "cell_type": "markdown",
   "id": "71feaa1a",
   "metadata": {},
   "source": [
    "#### función que reemplaza caracteres propios del español\n",
    "\n",
    "Escriba una **Función** llamada *caracteres_esp* que reciba como argumentos:\n",
    "\n",
    "- un *string* cualquiera\n",
    "\n",
    "La función debe buscar en el string, los caracteres especiales más comunes en el idioma español, y deberá reemplazarlos por el caracter sugerido según la tabla:\n",
    "\n",
    "caracter especial|caracter de reemplazo\n",
    "-|-\n",
    "ñ|n\n",
    "á|a\n",
    "é|e\n",
    "í|i\n",
    "ó|o\n",
    "ú|u\n",
    "ü|u\n",
    "\n",
    "La función debe retornar el string completo que se recibió, pero con los caracteres especiales reemplazados."
   ]
  },
  {
   "cell_type": "markdown",
   "id": "109570e4",
   "metadata": {},
   "source": [
    "### ¿Por donde empiezo?\n",
    "\n",
    "*defina con más detalles lo que le entra y lo que le sale a su programa*\n",
    "\n",
    "Normalmente los problemas de programación se pueden ver como funciones: la función <span class=\"burk\">recibe información</span>, <span class=\"mark\">la procesa</span>, y <span class=\"girk\">entrega un resultado</span>.\n",
    "\n",
    "Empecemos por definir qué recibe la función y qué resultado va a entregar, pero con mayor detalle:\n",
    "\n",
    "- argumento 1: un string compuesto por cualquier cantidad de caracteres, en el cual **debo revisar cada uno de los caracteres a ver si es especial (está en la tabla) o no**.\n",
    "\n",
    "- retorna: otro string, que sería el mismo string que entro, pero con los caracteres especiales **reemplazados**.\n",
    "\n",
    "Al hacer esto POR ESCRITO, empiezo a ver que mi problema involucra hacer algo con el string que ingresa a la función... **REVISAR CADA CARACTER**, y también debo **REEMPLAZARLOS**.\n",
    "\n",
    "Las acciones resaltadas serán las más importantes a resolver.\n",
    "\n",
    "### ¿cómo hago que mi programa haga esas acciones?\n",
    "\n",
    "Esta es la parte en la que usted conecta el conocimiento adquirido en clase con el problema a resolver. No hay una fórmula mágica que diga cómo se hace esta conexión, pero hay factores que ayudan:\n",
    "\n",
    "- revise con atención la teoría y los ejemplos realizados en clase\n",
    "- entienda qué hace cada línea de código de los ejemplos de clase\n",
    "- busque más ejemplos en internet sobre el tema.\n",
    "    - en este caso, conviene entender qué es un string, cómo puedo leer cada caracter, y cómo intervienen los ciclos en ello.\n",
    "\n",
    "Otra forma es haciéndose preguntas sobre cada acción específica que quiero realizar. Hágase este tipo de preguntas, y trate de responderlas con la lógica que emplearía la máquina. No lo tiene que hacer con código de primerazo.\n",
    "\n",
    "### Ahora aplicado al ejemplo\n",
    "\n",
    "En este caso: *¿qué necesito para extraer cada caracter de un string que puede llegar de cualquier tamaño?*\n",
    "\n",
    "- En clase aprendimos que un string es una secuencia de caracteres, donde cada caracter se puede ubicar con un **índice**.\n",
    "- Vimos que un string es una secuencia FINITA, por lo que tiene un número de caracteres específico, mejor conocido como tamaño o longitud del string, y que lo puedo obtener con una función de Python.\n",
    "- También aprendimos que un ciclo me permite realizar tareas repetitivas, esto incluye hacer que un **número, que podría ser un índice** incremente automáticamente hasta cierto valor.\n",
    "\n",
    "Con esta información, podríamos inferir que *puedo usar un ciclo para incrementar un índice, ese índice podría usarlo para sacar cada caracter del string. Para saber cuantos caracteres debo extraer, debo obtener el tamaño o longitud del string.*\n",
    "\n",
    "### ¿Resuelvo la lógica del problema completo o empiezo a implementar la acción que ya resolví?\n",
    "\n",
    "El enfoque a tomar es decisión de cada uno, y depende del estilo de trabajo y personalidad del desarrollador.\n",
    "\n",
    "Para este ejemplo, voy a asumir el rol de un desarrollador que quiere implementar código y ver cosas funcionar lo más pronto posible.\n",
    "- Este enfoque tiene la ventaja de que se van probando funciones del código poco a poco, de manera que, cuando se quiera implementar la funcionalidad completa, ya se tengan las partes probadas.\n",
    "- Como desventaja, puede incurrir en retrasos por ver la función específica de forma aislada. A veces no es posible desacoplar los problemas, y es tarea del desarrollador determinar cuando tomar un enfoque u otro.\n",
    "\n",
    "Vamos a implementar entonces, una función que reciba un string, y obtenga cada caracte de este. Todavía no vamos a hacer la parte de reemplazar.\n"
   ]
  },
  {
   "cell_type": "markdown",
   "id": "40c92bb7",
   "metadata": {},
   "source": [
    "### Paso intermedio: pseudocódigo\n",
    "\n",
    "Tomemos la lógica en español:\n",
    "\n",
    "para *revisar cada uno de los caracteres a ver si es especial (está en la tabla) o no*\n",
    "\n",
    "puedo *usar un ciclo para incrementar un índice, ese índice podría usarlo para sacar cada caracter del string. Para saber cuantos caracteres debo extraer, debo obtener el tamaño o longitud del string.*\n",
    "\n",
    "y llevémoslo a pseudocódigo\n",
    "\n",
    "- recibir string\n",
    "- tamaño = obtener tamaño de string\n",
    "- definir índice = 0\n",
    "- mientras que indice < tamaño:\n",
    "  - digito = string en la posición *indice*\n",
    "  - imprimir digito\n",
    "  - incrementar el índice en 1\n",
    "  \n",
    "Luego lo llevamos a código:"
   ]
  },
  {
   "cell_type": "code",
   "execution_count": 4,
   "id": "a8dd3c2d",
   "metadata": {},
   "outputs": [
    {
     "name": "stdout",
     "output_type": "stream",
     "text": [
      "H\n",
      "o\n",
      "l\n",
      "a\n"
     ]
    }
   ],
   "source": [
    "def caracteres_esp(texto):\n",
    "    # recibí el string y se llama texto\n",
    "    # encuentro el tamaño de texto\n",
    "    tam = len(texto)\n",
    "    # defino el índice en cero para iniciar\n",
    "    indice = 0\n",
    "    while indice < tam:\n",
    "        digito = texto[indice]\n",
    "        print(digito)\n",
    "        indice = indice + 1\n",
    "        \n",
    "        \n",
    "caracteres_esp(\"Hola\")"
   ]
  },
  {
   "cell_type": "markdown",
   "id": "9d5f5fc9",
   "metadata": {},
   "source": [
    "Hasta el momento, la función solo imprime los dígitos, me faltaría entonces comparar con los elementos de la tabla para ver si hay que cambiar el dígito o no. ¿cómo hacemos eso?"
   ]
  }
 ],
 "metadata": {
  "kernelspec": {
   "display_name": "Python 3 (ipykernel)",
   "language": "python",
   "name": "python3"
  },
  "language_info": {
   "codemirror_mode": {
    "name": "ipython",
    "version": 3
   },
   "file_extension": ".py",
   "mimetype": "text/x-python",
   "name": "python",
   "nbconvert_exporter": "python",
   "pygments_lexer": "ipython3",
   "version": "3.9.12"
  }
 },
 "nbformat": 4,
 "nbformat_minor": 5
}

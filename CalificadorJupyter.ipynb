{
 "cells": [
  {
   "cell_type": "markdown",
   "metadata": {},
   "source": [
    "# Verificador Entregas\n",
    " \n",
    "1. Abrir carpetas de entrega AulaDigital\n",
    "2. Convertir cuadernos a python con nbconvert\n",
    "3. Comparar para similaridad\n",
    "\n",
    "## Uso\n",
    "\n",
    "Copiar este cuaderno en la raiz de la carpeta donde se descomprimió la entrega en Aula Digital, luego ejecutarlo todo.\n"
   ]
  },
  {
   "cell_type": "code",
   "execution_count": 1,
   "metadata": {},
   "outputs": [
    {
     "data": {
      "text/plain": [
       "''"
      ]
     },
     "execution_count": 1,
     "metadata": {},
     "output_type": "execute_result"
    }
   ],
   "source": [
    "%reset -sf\n",
    "\n",
    "extensions = [\n",
    "    '.py',\n",
    "    'otra_ext'\n",
    "]\n",
    "\n",
    "evaluacion = \"Examen 1\"\n",
    "enunciado = '''\n",
    "Enunciado aquí.\n",
    "'''\n",
    "\n",
    "import os\n",
    "from pathlib import Path\n",
    "\n",
    "import tkinter as tk\n",
    "from  tkinter import filedialog\n",
    "\n",
    "root = tk.Tk()\n",
    "root.withdraw()"
   ]
  },
  {
   "cell_type": "markdown",
   "metadata": {},
   "source": [
    "## Procesar carpeta con archivos comprimidos o con carpetas descomprimidas\n",
    "\n",
    "Requiere: \n",
    "- una carpeta con los .zip generados por Aula Digital\n",
    "    - Con esta opción, descomprime los .zip y genera carpetas con consecutivos\n",
    "o\n",
    "- una carpeta con las subcarpetas de las evaluaciones.\n",
    "    - Con esta opción, solo identifica las subcarpetas\n",
    "    \n",
    "El resultado es la lista ```basepaths```"
   ]
  },
  {
   "cell_type": "code",
   "execution_count": 2,
   "metadata": {},
   "outputs": [],
   "source": [
    "rootpath = Path(filedialog.askdirectory())\n",
    "# rootpath = Path(r\"C:\\Users\\000092114\\UPB\\Fundamentos de Computacion 2022-20 - Profesores - Profesores\\_notas\\seg1\\Test\")\n",
    "basepaths = []\n",
    "content = rootpath.glob('*/')\n",
    "contList = [Path(x) for x in content]\n",
    "folders = [x for x in contList if x.is_dir()]\n",
    "files = [x for x in contList if x.is_file() and x.suffix == \".zip\"]\n",
    "# print(folders)\n",
    "# print(files)\n",
    "# generateNB = False\n",
    "if folders == [] and files != []: # si no se ha descomprimido nada y hay .zips por descomprimir\n",
    "    from zipfile import ZipFile\n",
    "    grupo = 1\n",
    "    # ahora se define el nombre de la carpeta con un consecutivo.\n",
    "    for file in files:\n",
    "        # Create a ZipFile Object and load sample.zip in it\n",
    "        with ZipFile(str(file), 'r') as zipObj:\n",
    "           # Extract all the contents of zip file in different directory\n",
    "            zipObj.extractall(file.parent/str(grupo))\n",
    "#             generateNB = True\n",
    "        basepaths.append(file.parent/str(grupo))\n",
    "        grupo += 1\n",
    "elif folders != []:\n",
    "    basepaths = folders"
   ]
  },
  {
   "cell_type": "code",
   "execution_count": 3,
   "metadata": {
    "scrolled": true
   },
   "outputs": [
    {
     "name": "stdout",
     "output_type": "stream",
     "text": [
      "C:\\Users\\LMAG\\UPB\\Mecanismos - General\\2022_20\\_notas\\Taller Ecuaciones de cierre vectorial-866496\n",
      "[WindowsPath('C:/Users/LMAG/UPB/Mecanismos - General/2022_20/_notas/Taller Ecuaciones de cierre vectorial-866496/Agudelo Feriz Valentina_2771429_assignsubmission_file_'), WindowsPath('C:/Users/LMAG/UPB/Mecanismos - General/2022_20/_notas/Taller Ecuaciones de cierre vectorial-866496/Calao Jimenez Valentina_2771428_assignsubmission_file_'), WindowsPath('C:/Users/LMAG/UPB/Mecanismos - General/2022_20/_notas/Taller Ecuaciones de cierre vectorial-866496/Chacon Gallego David_2771431_assignsubmission_file_'), WindowsPath('C:/Users/LMAG/UPB/Mecanismos - General/2022_20/_notas/Taller Ecuaciones de cierre vectorial-866496/Gallego Alzate Daniel_2771433_assignsubmission_file_'), WindowsPath('C:/Users/LMAG/UPB/Mecanismos - General/2022_20/_notas/Taller Ecuaciones de cierre vectorial-866496/Madrid Rangel Juan Manuel_2771434_assignsubmission_file_'), WindowsPath('C:/Users/LMAG/UPB/Mecanismos - General/2022_20/_notas/Taller Ecuaciones de cierre vectorial-866496/Ortega Castaño Sebastian_2771421_assignsubmission_file_'), WindowsPath('C:/Users/LMAG/UPB/Mecanismos - General/2022_20/_notas/Taller Ecuaciones de cierre vectorial-866496/Ospina Jaramillo Pablo_2771435_assignsubmission_file_'), WindowsPath('C:/Users/LMAG/UPB/Mecanismos - General/2022_20/_notas/Taller Ecuaciones de cierre vectorial-866496/Perez De Los Rios Leonardo_2771422_assignsubmission_file_'), WindowsPath('C:/Users/LMAG/UPB/Mecanismos - General/2022_20/_notas/Taller Ecuaciones de cierre vectorial-866496/Regalado Chicaiza Sebastian Mauricio_2771425_assignsubmission_file_'), WindowsPath('C:/Users/LMAG/UPB/Mecanismos - General/2022_20/_notas/Taller Ecuaciones de cierre vectorial-866496/Rincon Gutierrez Daniel_2771420_assignsubmission_file_'), WindowsPath('C:/Users/LMAG/UPB/Mecanismos - General/2022_20/_notas/Taller Ecuaciones de cierre vectorial-866496/Romero Castillo Sara Catalina_2771419_assignsubmission_file_'), WindowsPath('C:/Users/LMAG/UPB/Mecanismos - General/2022_20/_notas/Taller Ecuaciones de cierre vectorial-866496/Sierra Guerrero Jose Francisco_2771437_assignsubmission_file_'), WindowsPath('C:/Users/LMAG/UPB/Mecanismos - General/2022_20/_notas/Taller Ecuaciones de cierre vectorial-866496/Silva Rios Valeria_2771427_assignsubmission_file_'), WindowsPath('C:/Users/LMAG/UPB/Mecanismos - General/2022_20/_notas/Taller Ecuaciones de cierre vectorial-866496/Tamayo Agudelo David_2771426_assignsubmission_file_'), WindowsPath('C:/Users/LMAG/UPB/Mecanismos - General/2022_20/_notas/Taller Ecuaciones de cierre vectorial-866496/Vanegas Diaz Sofia_2771423_assignsubmission_file_'), WindowsPath('C:/Users/LMAG/UPB/Mecanismos - General/2022_20/_notas/Taller Ecuaciones de cierre vectorial-866496/Vega Rodriguez Santiago_2771436_assignsubmission_file_'), WindowsPath('C:/Users/LMAG/UPB/Mecanismos - General/2022_20/_notas/Taller Ecuaciones de cierre vectorial-866496/White Restrepo Tomas_2771418_assignsubmission_file_'), WindowsPath('C:/Users/LMAG/UPB/Mecanismos - General/2022_20/_notas/Taller Ecuaciones de cierre vectorial-866496/Zuluaga Aristizabal Andres_2771430_assignsubmission_file_')]\n"
     ]
    }
   ],
   "source": [
    "print(rootpath)\n",
    "print(basepaths)"
   ]
  },
  {
   "cell_type": "markdown",
   "metadata": {},
   "source": [
    "## Procesar los archivos\n",
    "\n",
    "Esta versión es solo para cuadernos de Jupyter."
   ]
  },
  {
   "cell_type": "code",
   "execution_count": 4,
   "metadata": {},
   "outputs": [
    {
     "name": "stdout",
     "output_type": "stream",
     "text": [
      "Agudelo Feriz Valentina_2771429_assignsubmission_file_\n",
      "Calao Jimenez Valentina_2771428_assignsubmission_file_\n",
      "Chacon Gallego David_2771431_assignsubmission_file_\n",
      "Gallego Alzate Daniel_2771433_assignsubmission_file_\n",
      "Madrid Rangel Juan Manuel_2771434_assignsubmission_file_\n",
      "mapaSimilaridad.pdf\n",
      "Ortega Castaño Sebastian_2771421_assignsubmission_file_\n",
      "Ospina Jaramillo Pablo_2771435_assignsubmission_file_\n",
      "Perez De Los Rios Leonardo_2771422_assignsubmission_file_\n",
      "Regalado Chicaiza Sebastian Mauricio_2771425_assignsubmission_file_\n",
      "Rincon Gutierrez Daniel_2771420_assignsubmission_file_\n",
      "Romero Castillo Sara Catalina_2771419_assignsubmission_file_\n",
      "Sierra Guerrero Jose Francisco_2771437_assignsubmission_file_\n",
      "Silva Rios Valeria_2771427_assignsubmission_file_\n",
      "Tamayo Agudelo David_2771426_assignsubmission_file_\n",
      "Vanegas Diaz Sofia_2771423_assignsubmission_file_\n",
      "Vega Rodriguez Santiago_2771436_assignsubmission_file_\n",
      "White Restrepo Tomas_2771418_assignsubmission_file_\n",
      "Zuluaga Aristizabal Andres_2771430_assignsubmission_file_\n"
     ]
    }
   ],
   "source": [
    "pathList,nameList,nbList = list(),list(),list()\n",
    "basepath = rootpath\n",
    "# for basepath in basepaths:\n",
    "for entry in os.listdir(basepath):\n",
    "    entry = Path(entry)\n",
    "    print(entry)\n",
    "    if str(entry).endswith(\"_assignsubmission_file_\"): # Descomentar para Tareas\n",
    "#     if True:  # Descomentar para Cuestionarios\n",
    "        #recoja todos los archivos de cada entrega\n",
    "        pathList.append(basepath/entry)\n",
    "        p = pathList[-1].glob(\"**/*\")\n",
    "        for i,x in enumerate(p):\n",
    "            #solo guarde los que estén en la lista de extensiones (para evitar que coja los cuadernos)\n",
    "            if x.is_file() and x.suffix == \".ipynb\":\n",
    "                #agregue el path de la carpeta a la lista de paths\n",
    "                nbList.append(x)\n",
    "                #agregue el nombre a la lista de nombres (extraido del nombre de la entrega)\n",
    "                nameList.append(str(entry).split(\"_\")[0])\n",
    "#             nbList.append([x for x in p if x.is_file() and x.suffix == \".ipynb\"])"
   ]
  },
  {
   "cell_type": "code",
   "execution_count": 5,
   "metadata": {},
   "outputs": [
    {
     "name": "stdout",
     "output_type": "stream",
     "text": [
      "[WindowsPath('C:/Users/LMAG/UPB/Mecanismos - General/2022_20/_notas/Taller Ecuaciones de cierre vectorial-866496/Agudelo Feriz Valentina_2771429_assignsubmission_file_/VAF 000431737 MECANISMO.ipynb'), WindowsPath('C:/Users/LMAG/UPB/Mecanismos - General/2022_20/_notas/Taller Ecuaciones de cierre vectorial-866496/Calao Jimenez Valentina_2771428_assignsubmission_file_/4 - Ecuaciones de cierre vectorial - Valentina Calao Jiménez (1) (1).ipynb'), WindowsPath('C:/Users/LMAG/UPB/Mecanismos - General/2022_20/_notas/Taller Ecuaciones de cierre vectorial-866496/Chacon Gallego David_2771431_assignsubmission_file_/Taller ecuaciones cierre vectorial.ipynb'), WindowsPath('C:/Users/LMAG/UPB/Mecanismos - General/2022_20/_notas/Taller Ecuaciones de cierre vectorial-866496/Gallego Alzate Daniel_2771433_assignsubmission_file_/Taller 4 cierre vectorial .ipynb'), WindowsPath('C:/Users/LMAG/UPB/Mecanismos - General/2022_20/_notas/Taller Ecuaciones de cierre vectorial-866496/Madrid Rangel Juan Manuel_2771434_assignsubmission_file_/tallerMecanismosJuan.ipynb'), WindowsPath('C:/Users/LMAG/UPB/Mecanismos - General/2022_20/_notas/Taller Ecuaciones de cierre vectorial-866496/Ortega Castaño Sebastian_2771421_assignsubmission_file_/Taller4_SebastianOrtega (2).ipynb'), WindowsPath('C:/Users/LMAG/UPB/Mecanismos - General/2022_20/_notas/Taller Ecuaciones de cierre vectorial-866496/Ospina Jaramillo Pablo_2771435_assignsubmission_file_/Taller Ecuaciones Cierre Vectorial Pablo Ospina.ipynb'), WindowsPath('C:/Users/LMAG/UPB/Mecanismos - General/2022_20/_notas/Taller Ecuaciones de cierre vectorial-866496/Perez De Los Rios Leonardo_2771422_assignsubmission_file_/TALLER 4 .ipynb'), WindowsPath('C:/Users/LMAG/UPB/Mecanismos - General/2022_20/_notas/Taller Ecuaciones de cierre vectorial-866496/Regalado Chicaiza Sebastian Mauricio_2771425_assignsubmission_file_/Ecuaciones cierre vectorial.ipynb'), WindowsPath('C:/Users/LMAG/UPB/Mecanismos - General/2022_20/_notas/Taller Ecuaciones de cierre vectorial-866496/Rincon Gutierrez Daniel_2771420_assignsubmission_file_/Taller Ecuaciones De Cierre DRG.ipynb'), WindowsPath('C:/Users/LMAG/UPB/Mecanismos - General/2022_20/_notas/Taller Ecuaciones de cierre vectorial-866496/Sierra Guerrero Jose Francisco_2771437_assignsubmission_file_/ECUACIONES DE CIERRE VECTORIAL (1).ipynb'), WindowsPath('C:/Users/LMAG/UPB/Mecanismos - General/2022_20/_notas/Taller Ecuaciones de cierre vectorial-866496/Silva Rios Valeria_2771427_assignsubmission_file_/Taller4EcuacionesCierre_ValeriaSilva.ipynb'), WindowsPath('C:/Users/LMAG/UPB/Mecanismos - General/2022_20/_notas/Taller Ecuaciones de cierre vectorial-866496/Tamayo Agudelo David_2771426_assignsubmission_file_/04_taller_David.ipynb'), WindowsPath('C:/Users/LMAG/UPB/Mecanismos - General/2022_20/_notas/Taller Ecuaciones de cierre vectorial-866496/Vanegas Diaz Sofia_2771423_assignsubmission_file_/Taller 4-SVD.ipynb'), WindowsPath('C:/Users/LMAG/UPB/Mecanismos - General/2022_20/_notas/Taller Ecuaciones de cierre vectorial-866496/Vega Rodriguez Santiago_2771436_assignsubmission_file_/Taller_Cierre_Vectorial_SVR.ipynb'), WindowsPath('C:/Users/LMAG/UPB/Mecanismos - General/2022_20/_notas/Taller Ecuaciones de cierre vectorial-866496/White Restrepo Tomas_2771418_assignsubmission_file_/Taller 4 - Mecanismos - Tomas White.ipynb'), WindowsPath('C:/Users/LMAG/UPB/Mecanismos - General/2022_20/_notas/Taller Ecuaciones de cierre vectorial-866496/Zuluaga Aristizabal Andres_2771430_assignsubmission_file_/Taller 4 Andrés Zuluaga.ipynb')] ['Agudelo Feriz Valentina', 'Calao Jimenez Valentina', 'Chacon Gallego David', 'Gallego Alzate Daniel', 'Madrid Rangel Juan Manuel', 'Ortega Castaño Sebastian', 'Ospina Jaramillo Pablo', 'Perez De Los Rios Leonardo', 'Regalado Chicaiza Sebastian Mauricio', 'Rincon Gutierrez Daniel', 'Sierra Guerrero Jose Francisco', 'Silva Rios Valeria', 'Tamayo Agudelo David', 'Vanegas Diaz Sofia', 'Vega Rodriguez Santiago', 'White Restrepo Tomas', 'Zuluaga Aristizabal Andres'] 17 17\n"
     ]
    }
   ],
   "source": [
    "print(nbList,nameList,len(nbList),len(nameList))\n",
    "    # leer el contenido del archivo como texto\n",
    "    #print(scriptList[-1][-1].read_text())"
   ]
  },
  {
   "cell_type": "markdown",
   "metadata": {},
   "source": [
    "## Creación de scripts a partir de cuadernos"
   ]
  },
  {
   "cell_type": "code",
   "execution_count": 27,
   "metadata": {},
   "outputs": [],
   "source": [
    "from unidecode import unidecode\n",
    "\n",
    "def remover_caracteres_esp(nomArchivo):\n",
    "    '''\n",
    "    reemplaza caracteres especiales por ascii, tanto del nombre como del interior. \n",
    "    Usar con cuidado.\n",
    "    '''\n",
    "    archivo =  open(nomArchivo,encoding=\"UTF-8\")\n",
    "    texto = archivo.read()\n",
    "    texto = unidecode(texto)\n",
    "    archivo.close()\n",
    "    nomArchivo.unlink()\n",
    "    nomArchivo = Path(remove_non_ascii(str(nomArchivo)))\n",
    "    archivo = open(nomArchivo,'w',encoding=\"UTF-8\")\n",
    "    archivo.write(texto)\n",
    "    archivo.close()\n",
    "    return nomArchivo\n",
    "\n",
    "def genScripts(nombres,cuadernos,limpiar):\n",
    "    listaScripts = []\n",
    "    for cuaderno in cuadernos:\n",
    "        try:\n",
    "#             print(cuaderno)\n",
    "#                 codeText = script.read_text(encoding=\"utf8\")\n",
    "            nombre = cuaderno.parts[-2].split('_')[0]\n",
    "            fullNombre = nombre + \".py\"\n",
    "            print(fullNombre)\n",
    "            fullNombre = cuaderno.parent/fullNombre\n",
    "            listaScripts.append(fullNombre)\n",
    "            if not fullNombre.exists():\n",
    "                cuaderno = remover_caracteres_esp(cuaderno)\n",
    "                !jupyter nbconvert --to script \"{cuaderno}\" --output \"{nombre}\"\n",
    "            else:\n",
    "                if limpiar:\n",
    "                    fullNombre.unlink()\n",
    "        except:\n",
    "            print(f\"fallo conversion de cuaderno en {cuaderno}\")\n",
    "#             return None\n",
    "        \n",
    "    return listaScripts"
   ]
  },
  {
   "cell_type": "code",
   "execution_count": 28,
   "metadata": {},
   "outputs": [],
   "source": [
    "# testPath = Path(r\"C:\\Users\\LMAG\\UPB\\Mecanismos - General\\2022_20\\_notas\\_old\\Taller 4 Andréçs Zuluaga - copia.ipynb\")\n",
    "# testPath = remover_caracteres_esp(testPath)"
   ]
  },
  {
   "cell_type": "code",
   "execution_count": 50,
   "metadata": {},
   "outputs": [
    {
     "name": "stdout",
     "output_type": "stream",
     "text": [
      "Agudelo Feriz Valentina\n",
      "C:\\Users\\000092114\\UPB\\Mecanismos - General\\2022_20\\_notas\\Taller Ecuaciones de cierre vectorial-866496\\Agudelo Feriz Valentina_2771429_assignsubmission_file_\\VAF 000431737 MECANISMO.ipynb\n",
      "Agudelo Feriz Valentina.py\n",
      "Calao Jimenez Valentina.py\n"
     ]
    },
    {
     "name": "stderr",
     "output_type": "stream",
     "text": [
      "[NbConvertApp] Converting notebook C:\\Users\\000092114\\UPB\\Mecanismos - General\\2022_20\\_notas\\Taller Ecuaciones de cierre vectorial-866496\\Agudelo Feriz Valentina_2771429_assignsubmission_file_\\VAF 000431737 MECANISMO.ipynb to script\n",
      "[NbConvertApp] Writing 4109 bytes to C:\\Users\\000092114\\UPB\\Mecanismos - General\\2022_20\\_notas\\Taller Ecuaciones de cierre vectorial-866496\\Agudelo Feriz Valentina_2771429_assignsubmission_file_\\Agudelo Feriz Valentina.py\n"
     ]
    },
    {
     "name": "stdout",
     "output_type": "stream",
     "text": [
      "Chacon Gallego David.py\n"
     ]
    },
    {
     "name": "stderr",
     "output_type": "stream",
     "text": [
      "[NbConvertApp] Converting notebook C:\\Users\\000092114\\UPB\\Mecanismos - General\\2022_20\\_notas\\Taller Ecuaciones de cierre vectorial-866496\\Calao Jimenez Valentina_2771428_assignsubmission_file_\\4 - Ecuaciones de cierre vectorial - Valentina Calao Jiménez (1) (1).ipynb to script\n",
      "[NbConvertApp] Writing 3653 bytes to C:\\Users\\000092114\\UPB\\Mecanismos - General\\2022_20\\_notas\\Taller Ecuaciones de cierre vectorial-866496\\Calao Jimenez Valentina_2771428_assignsubmission_file_\\Calao Jimenez Valentina.py\n"
     ]
    },
    {
     "name": "stdout",
     "output_type": "stream",
     "text": [
      "Gallego Alzate Daniel.py\n"
     ]
    },
    {
     "name": "stderr",
     "output_type": "stream",
     "text": [
      "[NbConvertApp] Converting notebook C:\\Users\\000092114\\UPB\\Mecanismos - General\\2022_20\\_notas\\Taller Ecuaciones de cierre vectorial-866496\\Chacon Gallego David_2771431_assignsubmission_file_\\Taller ecuaciones cierre vectorial.ipynb to script\n",
      "[NbConvertApp] Writing 3377 bytes to C:\\Users\\000092114\\UPB\\Mecanismos - General\\2022_20\\_notas\\Taller Ecuaciones de cierre vectorial-866496\\Chacon Gallego David_2771431_assignsubmission_file_\\Chacon Gallego David.py\n"
     ]
    },
    {
     "name": "stdout",
     "output_type": "stream",
     "text": [
      "Madrid Rangel Juan Manuel.py\n"
     ]
    },
    {
     "name": "stderr",
     "output_type": "stream",
     "text": [
      "[NbConvertApp] Converting notebook C:\\Users\\000092114\\UPB\\Mecanismos - General\\2022_20\\_notas\\Taller Ecuaciones de cierre vectorial-866496\\Gallego Alzate Daniel_2771433_assignsubmission_file_\\Taller 4 cierre vectorial .ipynb to script\n",
      "[NbConvertApp] Writing 1548 bytes to C:\\Users\\000092114\\UPB\\Mecanismos - General\\2022_20\\_notas\\Taller Ecuaciones de cierre vectorial-866496\\Gallego Alzate Daniel_2771433_assignsubmission_file_\\Gallego Alzate Daniel.py\n"
     ]
    },
    {
     "name": "stdout",
     "output_type": "stream",
     "text": [
      "Ortega Castaño Sebastian.py\n"
     ]
    },
    {
     "name": "stderr",
     "output_type": "stream",
     "text": [
      "[NbConvertApp] Converting notebook C:\\Users\\000092114\\UPB\\Mecanismos - General\\2022_20\\_notas\\Taller Ecuaciones de cierre vectorial-866496\\Madrid Rangel Juan Manuel_2771434_assignsubmission_file_\\tallerMecanismosJuan.ipynb to script\n",
      "[NbConvertApp] Writing 2497 bytes to C:\\Users\\000092114\\UPB\\Mecanismos - General\\2022_20\\_notas\\Taller Ecuaciones de cierre vectorial-866496\\Madrid Rangel Juan Manuel_2771434_assignsubmission_file_\\Madrid Rangel Juan Manuel.py\n"
     ]
    },
    {
     "name": "stdout",
     "output_type": "stream",
     "text": [
      "Ospina Jaramillo Pablo.py\n"
     ]
    },
    {
     "name": "stderr",
     "output_type": "stream",
     "text": [
      "[NbConvertApp] Converting notebook C:\\Users\\000092114\\UPB\\Mecanismos - General\\2022_20\\_notas\\Taller Ecuaciones de cierre vectorial-866496\\Ortega Castaño Sebastian_2771421_assignsubmission_file_\\Taller4_SebastianOrtega (2).ipynb to script\n",
      "[NbConvertApp] Writing 3314 bytes to C:\\Users\\000092114\\UPB\\Mecanismos - General\\2022_20\\_notas\\Taller Ecuaciones de cierre vectorial-866496\\Ortega Castaño Sebastian_2771421_assignsubmission_file_\\Ortega Castaño Sebastian.py\n"
     ]
    },
    {
     "name": "stdout",
     "output_type": "stream",
     "text": [
      "Perez De Los Rios Leonardo.py\n"
     ]
    },
    {
     "name": "stderr",
     "output_type": "stream",
     "text": [
      "[NbConvertApp] Converting notebook C:\\Users\\000092114\\UPB\\Mecanismos - General\\2022_20\\_notas\\Taller Ecuaciones de cierre vectorial-866496\\Ospina Jaramillo Pablo_2771435_assignsubmission_file_\\Taller Ecuaciones Cierre Vectorial Pablo Ospina.ipynb to script\n",
      "[NbConvertApp] Writing 4930 bytes to C:\\Users\\000092114\\UPB\\Mecanismos - General\\2022_20\\_notas\\Taller Ecuaciones de cierre vectorial-866496\\Ospina Jaramillo Pablo_2771435_assignsubmission_file_\\Ospina Jaramillo Pablo.py\n"
     ]
    },
    {
     "name": "stdout",
     "output_type": "stream",
     "text": [
      "Regalado Chicaiza Sebastian Mauricio.py\n"
     ]
    },
    {
     "name": "stderr",
     "output_type": "stream",
     "text": [
      "[NbConvertApp] Converting notebook C:\\Users\\000092114\\UPB\\Mecanismos - General\\2022_20\\_notas\\Taller Ecuaciones de cierre vectorial-866496\\Perez De Los Rios Leonardo_2771422_assignsubmission_file_\\TALLER 4 .ipynb to script\n",
      "[NbConvertApp] Writing 2869 bytes to C:\\Users\\000092114\\UPB\\Mecanismos - General\\2022_20\\_notas\\Taller Ecuaciones de cierre vectorial-866496\\Perez De Los Rios Leonardo_2771422_assignsubmission_file_\\Perez De Los Rios Leonardo.py\n"
     ]
    },
    {
     "name": "stdout",
     "output_type": "stream",
     "text": [
      "Rincon Gutierrez Daniel.py\n"
     ]
    },
    {
     "name": "stderr",
     "output_type": "stream",
     "text": [
      "[NbConvertApp] Converting notebook C:\\Users\\000092114\\UPB\\Mecanismos - General\\2022_20\\_notas\\Taller Ecuaciones de cierre vectorial-866496\\Regalado Chicaiza Sebastian Mauricio_2771425_assignsubmission_file_\\Ecuaciones cierre vectorial.ipynb to script\n",
      "[NbConvertApp] Writing 6136 bytes to C:\\Users\\000092114\\UPB\\Mecanismos - General\\2022_20\\_notas\\Taller Ecuaciones de cierre vectorial-866496\\Regalado Chicaiza Sebastian Mauricio_2771425_assignsubmission_file_\\Regalado Chicaiza Sebastian Mauricio.py\n"
     ]
    },
    {
     "name": "stdout",
     "output_type": "stream",
     "text": [
      "Sierra Guerrero Jose Francisco.py\n"
     ]
    },
    {
     "name": "stderr",
     "output_type": "stream",
     "text": [
      "[NbConvertApp] Converting notebook C:\\Users\\000092114\\UPB\\Mecanismos - General\\2022_20\\_notas\\Taller Ecuaciones de cierre vectorial-866496\\Rincon Gutierrez Daniel_2771420_assignsubmission_file_\\Taller Ecuaciones De Cierre DRG.ipynb to script\n",
      "[NbConvertApp] Writing 3040 bytes to C:\\Users\\000092114\\UPB\\Mecanismos - General\\2022_20\\_notas\\Taller Ecuaciones de cierre vectorial-866496\\Rincon Gutierrez Daniel_2771420_assignsubmission_file_\\Rincon Gutierrez Daniel.py\n"
     ]
    },
    {
     "name": "stdout",
     "output_type": "stream",
     "text": [
      "Silva Rios Valeria.py\n"
     ]
    },
    {
     "name": "stderr",
     "output_type": "stream",
     "text": [
      "[NbConvertApp] Converting notebook C:\\Users\\000092114\\UPB\\Mecanismos - General\\2022_20\\_notas\\Taller Ecuaciones de cierre vectorial-866496\\Sierra Guerrero Jose Francisco_2771437_assignsubmission_file_\\ECUACIONES DE CIERRE VECTORIAL (1).ipynb to script\n",
      "[NbConvertApp] Writing 3098 bytes to C:\\Users\\000092114\\UPB\\Mecanismos - General\\2022_20\\_notas\\Taller Ecuaciones de cierre vectorial-866496\\Sierra Guerrero Jose Francisco_2771437_assignsubmission_file_\\Sierra Guerrero Jose Francisco.py\n"
     ]
    },
    {
     "name": "stdout",
     "output_type": "stream",
     "text": [
      "Tamayo Agudelo David.py\n"
     ]
    },
    {
     "name": "stderr",
     "output_type": "stream",
     "text": [
      "[NbConvertApp] Converting notebook C:\\Users\\000092114\\UPB\\Mecanismos - General\\2022_20\\_notas\\Taller Ecuaciones de cierre vectorial-866496\\Silva Rios Valeria_2771427_assignsubmission_file_\\Taller4EcuacionesCierre_ValeriaSilva.ipynb to script\n",
      "[NbConvertApp] Writing 2666 bytes to C:\\Users\\000092114\\UPB\\Mecanismos - General\\2022_20\\_notas\\Taller Ecuaciones de cierre vectorial-866496\\Silva Rios Valeria_2771427_assignsubmission_file_\\Silva Rios Valeria.py\n"
     ]
    },
    {
     "name": "stdout",
     "output_type": "stream",
     "text": [
      "Vanegas Diaz Sofia.py\n"
     ]
    },
    {
     "name": "stderr",
     "output_type": "stream",
     "text": [
      "[NbConvertApp] Converting notebook C:\\Users\\000092114\\UPB\\Mecanismos - General\\2022_20\\_notas\\Taller Ecuaciones de cierre vectorial-866496\\Tamayo Agudelo David_2771426_assignsubmission_file_\\04_taller_David.ipynb to script\n",
      "[NbConvertApp] Writing 6279 bytes to C:\\Users\\000092114\\UPB\\Mecanismos - General\\2022_20\\_notas\\Taller Ecuaciones de cierre vectorial-866496\\Tamayo Agudelo David_2771426_assignsubmission_file_\\Tamayo Agudelo David.py\n"
     ]
    },
    {
     "name": "stdout",
     "output_type": "stream",
     "text": [
      "Vega Rodriguez Santiago.py\n"
     ]
    },
    {
     "name": "stderr",
     "output_type": "stream",
     "text": [
      "[NbConvertApp] Converting notebook C:\\Users\\000092114\\UPB\\Mecanismos - General\\2022_20\\_notas\\Taller Ecuaciones de cierre vectorial-866496\\Vanegas Diaz Sofia_2771423_assignsubmission_file_\\Taller 4-SVD.ipynb to script\n",
      "[NbConvertApp] Writing 2606 bytes to C:\\Users\\000092114\\UPB\\Mecanismos - General\\2022_20\\_notas\\Taller Ecuaciones de cierre vectorial-866496\\Vanegas Diaz Sofia_2771423_assignsubmission_file_\\Vanegas Diaz Sofia.py\n"
     ]
    },
    {
     "name": "stdout",
     "output_type": "stream",
     "text": [
      "White Restrepo Tomas.py\n"
     ]
    },
    {
     "name": "stderr",
     "output_type": "stream",
     "text": [
      "[NbConvertApp] Converting notebook C:\\Users\\000092114\\UPB\\Mecanismos - General\\2022_20\\_notas\\Taller Ecuaciones de cierre vectorial-866496\\Vega Rodriguez Santiago_2771436_assignsubmission_file_\\Taller_Cierre_Vectorial_SVR.ipynb to script\n",
      "[NbConvertApp] Writing 3595 bytes to C:\\Users\\000092114\\UPB\\Mecanismos - General\\2022_20\\_notas\\Taller Ecuaciones de cierre vectorial-866496\\Vega Rodriguez Santiago_2771436_assignsubmission_file_\\Vega Rodriguez Santiago.py\n"
     ]
    },
    {
     "name": "stdout",
     "output_type": "stream",
     "text": [
      "Zuluaga Aristizabal Andres.py\n"
     ]
    },
    {
     "name": "stderr",
     "output_type": "stream",
     "text": [
      "[NbConvertApp] Converting notebook C:\\Users\\000092114\\UPB\\Mecanismos - General\\2022_20\\_notas\\Taller Ecuaciones de cierre vectorial-866496\\White Restrepo Tomas_2771418_assignsubmission_file_\\Taller 4 - Mecanismos - Tomas White.ipynb to script\n",
      "[NbConvertApp] Writing 2943 bytes to C:\\Users\\000092114\\UPB\\Mecanismos - General\\2022_20\\_notas\\Taller Ecuaciones de cierre vectorial-866496\\White Restrepo Tomas_2771418_assignsubmission_file_\\White Restrepo Tomas.py\n",
      "[NbConvertApp] Converting notebook C:\\Users\\000092114\\UPB\\Mecanismos - General\\2022_20\\_notas\\Taller Ecuaciones de cierre vectorial-866496\\Zuluaga Aristizabal Andres_2771430_assignsubmission_file_\\Taller 4 Andrés Zuluaga.ipynb to script\n",
      "[NbConvertApp] Writing 2869 bytes to C:\\Users\\000092114\\UPB\\Mecanismos - General\\2022_20\\_notas\\Taller Ecuaciones de cierre vectorial-866496\\Zuluaga Aristizabal Andres_2771430_assignsubmission_file_\\Zuluaga Aristizabal Andres.py\n"
     ]
    }
   ],
   "source": [
    "scriptList = []\n",
    "print(nbList[0].parts[-2].split('_')[0])\n",
    "print(str(nbList[0]))\n",
    "\n",
    "scriptPaths = genScripts(nameList,nbList,True)\n"
   ]
  },
  {
   "cell_type": "code",
   "execution_count": 68,
   "metadata": {},
   "outputs": [
    {
     "name": "stdout",
     "output_type": "stream",
     "text": [
      "[WindowsPath('C:/Users/000092114/UPB/Mecanismos - General/2022_20/_notas/Taller Ecuaciones de cierre vectorial-866496/Agudelo Feriz Valentina_2771429_assignsubmission_file_/Agudelo Feriz Valentina.py'), WindowsPath('C:/Users/000092114/UPB/Mecanismos - General/2022_20/_notas/Taller Ecuaciones de cierre vectorial-866496/Calao Jimenez Valentina_2771428_assignsubmission_file_/Calao Jimenez Valentina.py'), WindowsPath('C:/Users/000092114/UPB/Mecanismos - General/2022_20/_notas/Taller Ecuaciones de cierre vectorial-866496/Chacon Gallego David_2771431_assignsubmission_file_/Chacon Gallego David.py'), WindowsPath('C:/Users/000092114/UPB/Mecanismos - General/2022_20/_notas/Taller Ecuaciones de cierre vectorial-866496/Gallego Alzate Daniel_2771433_assignsubmission_file_/Gallego Alzate Daniel.py'), WindowsPath('C:/Users/000092114/UPB/Mecanismos - General/2022_20/_notas/Taller Ecuaciones de cierre vectorial-866496/Madrid Rangel Juan Manuel_2771434_assignsubmission_file_/Madrid Rangel Juan Manuel.py'), WindowsPath('C:/Users/000092114/UPB/Mecanismos - General/2022_20/_notas/Taller Ecuaciones de cierre vectorial-866496/Ortega Castaño Sebastian_2771421_assignsubmission_file_/Ortega Castaño Sebastian.py'), WindowsPath('C:/Users/000092114/UPB/Mecanismos - General/2022_20/_notas/Taller Ecuaciones de cierre vectorial-866496/Ospina Jaramillo Pablo_2771435_assignsubmission_file_/Ospina Jaramillo Pablo.py'), WindowsPath('C:/Users/000092114/UPB/Mecanismos - General/2022_20/_notas/Taller Ecuaciones de cierre vectorial-866496/Perez De Los Rios Leonardo_2771422_assignsubmission_file_/Perez De Los Rios Leonardo.py'), WindowsPath('C:/Users/000092114/UPB/Mecanismos - General/2022_20/_notas/Taller Ecuaciones de cierre vectorial-866496/Regalado Chicaiza Sebastian Mauricio_2771425_assignsubmission_file_/Regalado Chicaiza Sebastian Mauricio.py'), WindowsPath('C:/Users/000092114/UPB/Mecanismos - General/2022_20/_notas/Taller Ecuaciones de cierre vectorial-866496/Rincon Gutierrez Daniel_2771420_assignsubmission_file_/Rincon Gutierrez Daniel.py'), WindowsPath('C:/Users/000092114/UPB/Mecanismos - General/2022_20/_notas/Taller Ecuaciones de cierre vectorial-866496/Sierra Guerrero Jose Francisco_2771437_assignsubmission_file_/Sierra Guerrero Jose Francisco.py'), WindowsPath('C:/Users/000092114/UPB/Mecanismos - General/2022_20/_notas/Taller Ecuaciones de cierre vectorial-866496/Silva Rios Valeria_2771427_assignsubmission_file_/Silva Rios Valeria.py'), WindowsPath('C:/Users/000092114/UPB/Mecanismos - General/2022_20/_notas/Taller Ecuaciones de cierre vectorial-866496/Tamayo Agudelo David_2771426_assignsubmission_file_/Tamayo Agudelo David.py'), WindowsPath('C:/Users/000092114/UPB/Mecanismos - General/2022_20/_notas/Taller Ecuaciones de cierre vectorial-866496/Vanegas Diaz Sofia_2771423_assignsubmission_file_/Vanegas Diaz Sofia.py'), WindowsPath('C:/Users/000092114/UPB/Mecanismos - General/2022_20/_notas/Taller Ecuaciones de cierre vectorial-866496/Vega Rodriguez Santiago_2771436_assignsubmission_file_/Vega Rodriguez Santiago.py'), WindowsPath('C:/Users/000092114/UPB/Mecanismos - General/2022_20/_notas/Taller Ecuaciones de cierre vectorial-866496/White Restrepo Tomas_2771418_assignsubmission_file_/White Restrepo Tomas.py'), WindowsPath('C:/Users/000092114/UPB/Mecanismos - General/2022_20/_notas/Taller Ecuaciones de cierre vectorial-866496/Zuluaga Aristizabal Andres_2771430_assignsubmission_file_/Zuluaga Aristizabal Andres.py')]\n"
     ]
    },
    {
     "name": "stderr",
     "output_type": "stream",
     "text": [
      "[NbConvertApp] Converting notebook C:/Users/000092114/UPB/Mecanismos - General/2022_20/_notas/Taller Ecuaciones de cierre vectorial-866496/Zuluaga Aristizabal Andres_2771430_assignsubmission_file_/Zuluaga Aristizabal Andres.py to script\n",
      "Traceback (most recent call last):\n",
      "  File \"C:\\ProgramData\\Anaconda3\\lib\\site-packages\\nbformat\\reader.py\", line 18, in parse_json\n",
      "    nb_dict = json.loads(s, **kwargs)\n",
      "  File \"C:\\ProgramData\\Anaconda3\\lib\\json\\__init__.py\", line 346, in loads\n",
      "    return _default_decoder.decode(s)\n",
      "  File \"C:\\ProgramData\\Anaconda3\\lib\\json\\decoder.py\", line 337, in decode\n",
      "    obj, end = self.raw_decode(s, idx=_w(s, 0).end())\n",
      "  File \"C:\\ProgramData\\Anaconda3\\lib\\json\\decoder.py\", line 355, in raw_decode\n",
      "    raise JSONDecodeError(\"Expecting value\", s, err.value) from None\n",
      "json.decoder.JSONDecodeError: Expecting value: line 1 column 1 (char 0)\n",
      "\n",
      "The above exception was the direct cause of the following exception:\n",
      "\n",
      "Traceback (most recent call last):\n",
      "  File \"C:\\ProgramData\\Anaconda3\\Scripts\\jupyter-nbconvert-script.py\", line 10, in <module>\n",
      "    sys.exit(main())\n",
      "  File \"C:\\ProgramData\\Anaconda3\\lib\\site-packages\\jupyter_core\\application.py\", line 264, in launch_instance\n",
      "    return super(JupyterApp, cls).launch_instance(argv=argv, **kwargs)\n",
      "  File \"C:\\ProgramData\\Anaconda3\\lib\\site-packages\\traitlets\\config\\application.py\", line 846, in launch_instance\n",
      "    app.start()\n",
      "  File \"C:\\ProgramData\\Anaconda3\\lib\\site-packages\\nbconvert\\nbconvertapp.py\", line 369, in start\n",
      "    self.convert_notebooks()\n",
      "  File \"C:\\ProgramData\\Anaconda3\\lib\\site-packages\\nbconvert\\nbconvertapp.py\", line 541, in convert_notebooks\n",
      "    self.convert_single_notebook(notebook_filename)\n",
      "  File \"C:\\ProgramData\\Anaconda3\\lib\\site-packages\\nbconvert\\nbconvertapp.py\", line 506, in convert_single_notebook\n",
      "    output, resources = self.export_single_notebook(notebook_filename, resources, input_buffer=input_buffer)\n",
      "  File \"C:\\ProgramData\\Anaconda3\\lib\\site-packages\\nbconvert\\nbconvertapp.py\", line 435, in export_single_notebook\n",
      "    output, resources = self.exporter.from_filename(notebook_filename, resources=resources)\n",
      "  File \"C:\\ProgramData\\Anaconda3\\lib\\site-packages\\nbconvert\\exporters\\exporter.py\", line 190, in from_filename\n",
      "    return self.from_file(f, resources=resources, **kw)\n",
      "  File \"C:\\ProgramData\\Anaconda3\\lib\\site-packages\\nbconvert\\exporters\\exporter.py\", line 208, in from_file\n",
      "    return self.from_notebook_node(nbformat.read(file_stream, as_version=4), resources=resources, **kw)\n",
      "  File \"C:\\ProgramData\\Anaconda3\\lib\\site-packages\\nbformat\\__init__.py\", line 170, in read\n",
      "    return reads(buf, as_version, capture_validation_error, **kwargs)\n",
      "  File \"C:\\ProgramData\\Anaconda3\\lib\\site-packages\\nbformat\\__init__.py\", line 88, in reads\n",
      "    nb = reader.reads(s, **kwargs)\n",
      "  File \"C:\\ProgramData\\Anaconda3\\lib\\site-packages\\nbformat\\reader.py\", line 72, in reads\n",
      "    nb_dict = parse_json(s, **kwargs)\n",
      "  File \"C:\\ProgramData\\Anaconda3\\lib\\site-packages\\nbformat\\reader.py\", line 21, in parse_json\n",
      "    raise NotJSONError((\"Notebook does not appear to be JSON: %r\" % s)[:77] + \"...\") from e\n",
      "nbformat.reader.NotJSONError: Notebook does not appear to be JSON: ''...\n"
     ]
    }
   ],
   "source": [
    "!jupyter nbconvert --to script \"C:/Users/000092114/UPB/Mecanismos - General/2022_20/_notas/Taller Ecuaciones de cierre vectorial-866496/Zuluaga Aristizabal Andres_2771430_assignsubmission_file_/Zuluaga Aristizabal Andres.py\"\n",
    "print(scriptPaths)"
   ]
  },
  {
   "cell_type": "markdown",
   "metadata": {},
   "source": [
    "### Limpiar códigos de comentarios.\n",
    "\n",
    " "
   ]
  },
  {
   "cell_type": "code",
   "execution_count": 52,
   "metadata": {
    "scrolled": true
   },
   "outputs": [],
   "source": [
    "import re\n",
    "\n",
    "\n",
    "def stripComments(code):\n",
    "    code = str(code)\n",
    "    return re.sub(r'(?m)^ *#.*\\n?', '', code)\n",
    "def stripLines(code,lines):\n",
    "    return ''.join(code.splitlines())[lines:]\n",
    "\n",
    "for i,script_base in enumerate(scriptPaths):\n",
    "    archivo = open(script_base, errors='ignore',encoding='UTF-8')\n",
    "    codigo = archivo.read()\n",
    "    archivo.close()\n",
    "    archivo = open(script_base,'w',encoding='UTF-8')\n",
    "    codigo = stripComments(codigo)\n",
    "    archivo.write(codigo)"
   ]
  },
  {
   "cell_type": "code",
   "execution_count": 53,
   "metadata": {},
   "outputs": [
    {
     "name": "stdout",
     "output_type": "stream",
     "text": [
      "['Agudelo Feriz Valentina', 'Calao Jimenez Valentina', 'Chacon Gallego David', 'Gallego Alzate Daniel', 'Madrid Rangel Juan Manuel', 'Ortega Castaño Sebastian', 'Ospina Jaramillo Pablo', 'Perez De Los Rios Leonardo', 'Regalado Chicaiza Sebastian Mauricio', 'Rincon Gutierrez Daniel', 'Sierra Guerrero Jose Francisco', 'Silva Rios Valeria', 'Tamayo Agudelo David', 'Vanegas Diaz Sofia', 'Vega Rodriguez Santiago', 'White Restrepo Tomas', 'Zuluaga Aristizabal Andres'] [WindowsPath('C:/Users/000092114/UPB/Mecanismos - General/2022_20/_notas/Taller Ecuaciones de cierre vectorial-866496/Agudelo Feriz Valentina_2771429_assignsubmission_file_/Agudelo Feriz Valentina.py'), WindowsPath('C:/Users/000092114/UPB/Mecanismos - General/2022_20/_notas/Taller Ecuaciones de cierre vectorial-866496/Calao Jimenez Valentina_2771428_assignsubmission_file_/Calao Jimenez Valentina.py'), WindowsPath('C:/Users/000092114/UPB/Mecanismos - General/2022_20/_notas/Taller Ecuaciones de cierre vectorial-866496/Chacon Gallego David_2771431_assignsubmission_file_/Chacon Gallego David.py'), WindowsPath('C:/Users/000092114/UPB/Mecanismos - General/2022_20/_notas/Taller Ecuaciones de cierre vectorial-866496/Gallego Alzate Daniel_2771433_assignsubmission_file_/Gallego Alzate Daniel.py'), WindowsPath('C:/Users/000092114/UPB/Mecanismos - General/2022_20/_notas/Taller Ecuaciones de cierre vectorial-866496/Madrid Rangel Juan Manuel_2771434_assignsubmission_file_/Madrid Rangel Juan Manuel.py'), WindowsPath('C:/Users/000092114/UPB/Mecanismos - General/2022_20/_notas/Taller Ecuaciones de cierre vectorial-866496/Ortega Castaño Sebastian_2771421_assignsubmission_file_/Ortega Castaño Sebastian.py'), WindowsPath('C:/Users/000092114/UPB/Mecanismos - General/2022_20/_notas/Taller Ecuaciones de cierre vectorial-866496/Ospina Jaramillo Pablo_2771435_assignsubmission_file_/Ospina Jaramillo Pablo.py'), WindowsPath('C:/Users/000092114/UPB/Mecanismos - General/2022_20/_notas/Taller Ecuaciones de cierre vectorial-866496/Perez De Los Rios Leonardo_2771422_assignsubmission_file_/Perez De Los Rios Leonardo.py'), WindowsPath('C:/Users/000092114/UPB/Mecanismos - General/2022_20/_notas/Taller Ecuaciones de cierre vectorial-866496/Regalado Chicaiza Sebastian Mauricio_2771425_assignsubmission_file_/Regalado Chicaiza Sebastian Mauricio.py'), WindowsPath('C:/Users/000092114/UPB/Mecanismos - General/2022_20/_notas/Taller Ecuaciones de cierre vectorial-866496/Rincon Gutierrez Daniel_2771420_assignsubmission_file_/Rincon Gutierrez Daniel.py'), WindowsPath('C:/Users/000092114/UPB/Mecanismos - General/2022_20/_notas/Taller Ecuaciones de cierre vectorial-866496/Sierra Guerrero Jose Francisco_2771437_assignsubmission_file_/Sierra Guerrero Jose Francisco.py'), WindowsPath('C:/Users/000092114/UPB/Mecanismos - General/2022_20/_notas/Taller Ecuaciones de cierre vectorial-866496/Silva Rios Valeria_2771427_assignsubmission_file_/Silva Rios Valeria.py'), WindowsPath('C:/Users/000092114/UPB/Mecanismos - General/2022_20/_notas/Taller Ecuaciones de cierre vectorial-866496/Tamayo Agudelo David_2771426_assignsubmission_file_/Tamayo Agudelo David.py'), WindowsPath('C:/Users/000092114/UPB/Mecanismos - General/2022_20/_notas/Taller Ecuaciones de cierre vectorial-866496/Vanegas Diaz Sofia_2771423_assignsubmission_file_/Vanegas Diaz Sofia.py'), WindowsPath('C:/Users/000092114/UPB/Mecanismos - General/2022_20/_notas/Taller Ecuaciones de cierre vectorial-866496/Vega Rodriguez Santiago_2771436_assignsubmission_file_/Vega Rodriguez Santiago.py'), WindowsPath('C:/Users/000092114/UPB/Mecanismos - General/2022_20/_notas/Taller Ecuaciones de cierre vectorial-866496/White Restrepo Tomas_2771418_assignsubmission_file_/White Restrepo Tomas.py'), WindowsPath('C:/Users/000092114/UPB/Mecanismos - General/2022_20/_notas/Taller Ecuaciones de cierre vectorial-866496/Zuluaga Aristizabal Andres_2771430_assignsubmission_file_/Zuluaga Aristizabal Andres.py')]\n",
      "17 17\n"
     ]
    }
   ],
   "source": [
    "print(nameList,scriptPaths)\n",
    "\n",
    "print(len(nameList),len(scriptPaths))"
   ]
  },
  {
   "cell_type": "markdown",
   "metadata": {},
   "source": [
    "### Verificar similaridad\n",
    "\n",
    "Correr estas celdas individualmente.\n",
    "1. Conformar la lista de scripts y estudiantes consolidada\n",
    "2. correr la celda para generar el mapa de similaridad"
   ]
  },
  {
   "cell_type": "code",
   "execution_count": 54,
   "metadata": {},
   "outputs": [],
   "source": [
    "# generar mapa de similaridad\n",
    "from difflib import SequenceMatcher\n",
    "import numpy as np\n",
    "import pandas as pd\n",
    "import seaborn as sns\n",
    "import matplotlib.pyplot as plt\n",
    "import statistics\n"
   ]
  },
  {
   "cell_type": "code",
   "execution_count": 66,
   "metadata": {},
   "outputs": [
    {
     "name": "stdout",
     "output_type": "stream",
     "text": [
      "20 %\n",
      "6.063839749321104 %\n",
      "Chacon Gallego David se asemeja en: 23 % a Rincon Gutierrez Daniel.\n",
      "Chacon Gallego David se asemeja en: 21 % a Sierra Guerrero Jose Francisco.\n",
      "Chacon Gallego David se asemeja en: 21 % a Vanegas Diaz Sofia.\n",
      "Chacon Gallego David se asemeja en: 21 % a White Restrepo Tomas.\n",
      "Ospina Jaramillo Pablo se asemeja en: 21 % a Rincon Gutierrez Daniel.\n",
      "Rincon Gutierrez Daniel se asemeja en: 21 % a Vanegas Diaz Sofia.\n"
     ]
    }
   ],
   "source": [
    "try:\n",
    "    print(umbral,'%')\n",
    "    print(similarStdev,'%')\n",
    "except:\n",
    "    umbral = 90 #porcentaje de similitud\n",
    "\n",
    "dimension = len(scriptPaths)\n",
    "similarity = np.zeros((dimension,dimension))\n",
    "mostSimilar = []\n",
    "flatSimilar = []\n",
    "for i,script_base in enumerate(scriptPaths):\n",
    "    for j,script_cmp in enumerate(scriptPaths):\n",
    "        with open(script_base, errors='ignore',encoding='UTF-8') as fileA,open(script_cmp, errors='ignore',encoding='UTF-8') as fileB:\n",
    "            fileAData = fileA.read()\n",
    "#             fileAData = stripComments(fileAData)\n",
    "            fileBData = fileB.read()\n",
    "#             fileBData = stripComments(fileBData)\n",
    "            similarity[[i],[j]] = int(SequenceMatcher(None, fileAData,fileBData).ratio()*100)\n",
    "            if similarity[[i],[j]]>umbral and j>i: #solo tomar a la derecha de la diagonal.\n",
    "                mostSimilar.append([script_base,script_cmp,similarity[[i],[j]][0]])\n",
    "                print( f\"{script_base.parts[-2].split('_')[0]} se asemeja en: {similarity[i][j]:.0f} % a {script_cmp.parts[-2].split('_')[0]}.\")\n",
    "            if j>i:\n",
    "                flatSimilar.append(similarity[[i],[j]][0])\n",
    "\n",
    "similarStdev = statistics.stdev(flatSimilar)\n",
    "similarMean = statistics.mean(flatSimilar)\n",
    "umbral = int(similarMean+(similarStdev)*2)\n",
    "df = pd.DataFrame(similarity, columns = nameList, index = nameList)"
   ]
  },
  {
   "cell_type": "code",
   "execution_count": 9,
   "metadata": {},
   "outputs": [],
   "source": [
    "# percSimilar = dict((i,item) for i,item in enumerate(mostSimilar))\n",
    "# print(percSimilar)    \n",
    "# print(fileAData)"
   ]
  },
  {
   "cell_type": "markdown",
   "metadata": {},
   "source": [
    "## Por hacer\n",
    "\n",
    "Generar una lista de parejas de personas con similaridad mayor a cierto umbral, luego llamar al comparador con interfaz gráfica: https://github.com/yebrahim/pydiff\n",
    "\n",
    "- Generar parejas de similares con mayor a umbral\n",
    "- Verificar uso de la herramienta llamada desde cli.\n",
    "- Sistematizar la revisión de comparación"
   ]
  },
  {
   "cell_type": "code",
   "execution_count": 69,
   "metadata": {
    "scrolled": true
   },
   "outputs": [
    {
     "data": {
      "image/png": "[encoded data removed]",
      "text/plain": [
       "<Figure size 504x432 with 2 Axes>"
      ]
     },
     "metadata": {},
     "output_type": "display_data"
    }
   ],
   "source": [
    "# print(df)\n",
    "sns.set(font_scale=0.5)\n",
    "sns.set_palette(\"coolwarm\")\n",
    "figure = plt.gcf() # get current figure\n",
    "figure.set_size_inches(7, 6)\n",
    "mapa = sns.heatmap(df, annot=True, vmin = similarMean, vmax = max(flatSimilar),cmap = \"Reds\")\n",
    "plt.savefig(rootpath/'mapaSimilaridad.pdf', dpi=300,bbox_inches='tight')"
   ]
  },
  {
   "cell_type": "markdown",
   "metadata": {},
   "source": [
    "### Crear un cuaderno con todos los códigos para comparación y verificación de fraudes"
   ]
  },
  {
   "cell_type": "code",
   "execution_count": 70,
   "metadata": {},
   "outputs": [],
   "source": [
    "import subprocess\n",
    "\n",
    "for similar in mostSimilar:\n",
    "    path1 = str(similar[0])\n",
    "    path2 = str(similar[1])\n",
    "    command = f'python pydiff.py -p \"{path1}\" \"{path2}\"'\n",
    "#     print(command)\n",
    "    try:\n",
    "        subprocess.call(command, timeout = 1, shell=True)\n",
    "    except:\n",
    "        pass\n",
    "#   os.system(command)\n",
    "# nb = nbf.v4.new_notebook()\n",
    "# for (estPath,estName,estScripts) in zip(pathList,nameList,scriptList):\n",
    "#     celdas = conformarCeldas(nb,estName,estScripts)\n",
    "    \n",
    "#     nb['cells'] += celdas\n",
    "# nbf.write(nb, 'RevisionEntregas.ipynb')"
   ]
  },
  {
   "cell_type": "markdown",
   "metadata": {},
   "source": [
    "### Refs\n",
    "\n",
    "https://nbviewer.org/gist/fperez/9716279\n",
    "\n",
    "https://github.com/yebrahim/pydiff"
   ]
  }
 ],
 "metadata": {
  "kernelspec": {
   "display_name": "Python 3",
   "language": "python",
   "name": "python3"
  },
  "language_info": {
   "codemirror_mode": {
    "name": "ipython",
    "version": 3
   },
   "file_extension": ".py",
   "mimetype": "text/x-python",
   "name": "python",
   "nbconvert_exporter": "python",
   "pygments_lexer": "ipython3",
   "version": "3.8.5"
  },
  "toc": {
   "base_numbering": 1,
   "nav_menu": {},
   "number_sections": true,
   "sideBar": true,
   "skip_h1_title": false,
   "title_cell": "Table of Contents",
   "title_sidebar": "Contents",
   "toc_cell": false,
   "toc_position": {},
   "toc_section_display": true,
   "toc_window_display": false
  },
  "varInspector": {
   "cols": {
    "lenName": 16,
    "lenType": 16,
    "lenVar": 40
   },
   "kernels_config": {
    "python": {
     "delete_cmd_postfix": "",
     "delete_cmd_prefix": "del ",
     "library": "var_list.py",
     "varRefreshCmd": "print(var_dic_list())"
    },
    "r": {
     "delete_cmd_postfix": ") ",
     "delete_cmd_prefix": "rm(",
     "library": "var_list.r",
     "varRefreshCmd": "cat(var_dic_list()) "
    }
   },
   "types_to_exclude": [
    "module",
    "function",
    "builtin_function_or_method",
    "instance",
    "_Feature"
   ],
   "window_display": false
  }
 },
 "nbformat": 4,
 "nbformat_minor": 4
}

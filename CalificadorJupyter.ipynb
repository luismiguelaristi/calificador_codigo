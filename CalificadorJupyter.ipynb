{
 "cells": [
  {
   "cell_type": "markdown",
   "metadata": {},
   "source": [
    "# Verificador Entregas\n",
    " \n",
    "1. Abrir carpetas de entrega AulaDigital\n",
    "2. Convertir cuadernos a python con nbconvert\n",
    "3. Comparar para similaridad\n",
    "\n",
    "## Uso\n",
    "\n",
    "Copiar este cuaderno en la raiz de la carpeta donde se descomprimió la entrega en Aula Digital, luego ejecutarlo todo.\n"
   ]
  },
  {
   "cell_type": "code",
   "execution_count": 1,
   "metadata": {},
   "outputs": [
    {
     "data": {
      "text/plain": [
       "''"
      ]
     },
     "execution_count": 1,
     "metadata": {},
     "output_type": "execute_result"
    }
   ],
   "source": [
    "%reset -sf\n",
    "\n",
    "extensions = [\n",
    "    '.py',\n",
    "    'otra_ext'\n",
    "]\n",
    "\n",
    "evaluacion = \"Trabajo 2\"\n",
    "enunciado = '''\n",
    "desarrollo del análisis de posición corregido en todos los aspectos (forma y fondo): a. Imagen y descripción del mecanismo b. Análisis cinemático: teoría c. Solución de las ecuaciones de posición por métodos numéricos para un rango de valores d. Presentación de la información por medio de gráficas e. Gráfica de una posición del mecanismo\t\n",
    "\n",
    "Animación del mecanismo para el rango de movimiento escogido: las barras no se deforman, la animación cumbre el rango de movimiento analizado.\t\n",
    "\n",
    "Análisis de velocidad y aceleración - teoría: Punto a, punto b (ver lineamientos).\t\n",
    "\n",
    "Análisis de velocidad - solución analítica y numérica: punto a, punto b (ver lineamientos).\t\n",
    "\n",
    "Análisis de aceleración - solución analítica y numérica: punto a, punto b (ver lineamientos).\t\n",
    "'''\n",
    "\n",
    "import os\n",
    "from pathlib import Path\n",
    "\n",
    "import tkinter as tk\n",
    "from  tkinter import filedialog\n",
    "\n",
    "root = tk.Tk()\n",
    "root.withdraw()"
   ]
  },
  {
   "cell_type": "markdown",
   "metadata": {},
   "source": [
    "## Procesar carpeta con archivos comprimidos o con carpetas descomprimidas\n",
    "\n",
    "Requiere: \n",
    "- una carpeta con los .zip generados por Aula Digital\n",
    "    - Con esta opción, descomprime los .zip y genera carpetas con consecutivos\n",
    "o\n",
    "- una carpeta con las subcarpetas de las evaluaciones.\n",
    "    - Con esta opción, solo identifica las subcarpetas\n",
    "    \n",
    "El resultado es la lista ```basepaths```"
   ]
  },
  {
   "cell_type": "code",
   "execution_count": 2,
   "metadata": {},
   "outputs": [],
   "source": [
    "rootpath = Path(filedialog.askdirectory())\n",
    "# rootpath = Path(r\"C:\\Users\\000092114\\UPB\\Fundamentos de Computacion 2022-20 - Profesores - Profesores\\_notas\\seg1\\Test\")\n",
    "basepaths = []\n",
    "content = rootpath.glob('*/')\n",
    "contList = [Path(x) for x in content]\n",
    "folders = [x for x in contList if x.is_dir()]\n",
    "files = [x for x in contList if x.is_file() and x.suffix == \".zip\"]\n",
    "# print(folders)\n",
    "# print(files)\n",
    "# generateNB = False\n",
    "if folders == [] and files != []: # si no se ha descomprimido nada y hay .zips por descomprimir\n",
    "    from zipfile import ZipFile\n",
    "    grupo = 1\n",
    "    # ahora se define el nombre de la carpeta con un consecutivo.\n",
    "    for file in files:\n",
    "        # Create a ZipFile Object and load sample.zip in it\n",
    "        with ZipFile(str(file), 'r') as zipObj:\n",
    "           # Extract all the contents of zip file in different directory\n",
    "            zipObj.extractall(file.parent/str(grupo))\n",
    "#             generateNB = True\n",
    "        basepaths.append(file.parent/str(grupo))\n",
    "        grupo += 1\n",
    "elif folders != []:\n",
    "    basepaths = folders"
   ]
  },
  {
   "cell_type": "code",
   "execution_count": 3,
   "metadata": {
    "scrolled": true
   },
   "outputs": [
    {
     "name": "stdout",
     "output_type": "stream",
     "text": [
      "C:\\Users\\LMAG\\UPB\\Mecanismos - General\\2022_20\\_notas\\Trabajo 2-1022222\n",
      "[WindowsPath('C:/Users/LMAG/UPB/Mecanismos - General/2022_20/_notas/Trabajo 2-1022222/Agudelo Feriz Valentina_2814363_assignsubmission_file_'), WindowsPath('C:/Users/LMAG/UPB/Mecanismos - General/2022_20/_notas/Trabajo 2-1022222/Calao Jimenez Valentina_2814377_assignsubmission_file_'), WindowsPath('C:/Users/LMAG/UPB/Mecanismos - General/2022_20/_notas/Trabajo 2-1022222/Chacon Gallego David_2814382_assignsubmission_file_'), WindowsPath('C:/Users/LMAG/UPB/Mecanismos - General/2022_20/_notas/Trabajo 2-1022222/Gallego Alzate Daniel_2814379_assignsubmission_file_'), WindowsPath('C:/Users/LMAG/UPB/Mecanismos - General/2022_20/_notas/Trabajo 2-1022222/Madrid Rangel Juan Manuel_2814376_assignsubmission_file_'), WindowsPath('C:/Users/LMAG/UPB/Mecanismos - General/2022_20/_notas/Trabajo 2-1022222/Ortega Castaño Sebastian_2814366_assignsubmission_file_'), WindowsPath('C:/Users/LMAG/UPB/Mecanismos - General/2022_20/_notas/Trabajo 2-1022222/Ospina Jaramillo Pablo_2814375_assignsubmission_file_'), WindowsPath('C:/Users/LMAG/UPB/Mecanismos - General/2022_20/_notas/Trabajo 2-1022222/Perez De Los Rios Leonardo_2814374_assignsubmission_file_'), WindowsPath('C:/Users/LMAG/UPB/Mecanismos - General/2022_20/_notas/Trabajo 2-1022222/Regalado Chicaiza Sebastian Mauricio_2814369_assignsubmission_file_'), WindowsPath('C:/Users/LMAG/UPB/Mecanismos - General/2022_20/_notas/Trabajo 2-1022222/Rincon Gutierrez Daniel_2814372_assignsubmission_file_'), WindowsPath('C:/Users/LMAG/UPB/Mecanismos - General/2022_20/_notas/Trabajo 2-1022222/Sierra Guerrero Jose Francisco_2814373_assignsubmission_file_'), WindowsPath('C:/Users/LMAG/UPB/Mecanismos - General/2022_20/_notas/Trabajo 2-1022222/Silva Rios Valeria_2814371_assignsubmission_file_'), WindowsPath('C:/Users/LMAG/UPB/Mecanismos - General/2022_20/_notas/Trabajo 2-1022222/Tamayo Agudelo David_2814380_assignsubmission_file_'), WindowsPath('C:/Users/LMAG/UPB/Mecanismos - General/2022_20/_notas/Trabajo 2-1022222/Vahos Serna Julio Cesar_2814364_assignsubmission_file_'), WindowsPath('C:/Users/LMAG/UPB/Mecanismos - General/2022_20/_notas/Trabajo 2-1022222/Vanegas Diaz Sofia_2814381_assignsubmission_file_'), WindowsPath('C:/Users/LMAG/UPB/Mecanismos - General/2022_20/_notas/Trabajo 2-1022222/Vega Rodriguez Santiago_2814368_assignsubmission_file_'), WindowsPath('C:/Users/LMAG/UPB/Mecanismos - General/2022_20/_notas/Trabajo 2-1022222/White Restrepo Tomas_2814383_assignsubmission_file_'), WindowsPath('C:/Users/LMAG/UPB/Mecanismos - General/2022_20/_notas/Trabajo 2-1022222/Zuluaga Aristizabal Andres_2814378_assignsubmission_file_')]\n"
     ]
    }
   ],
   "source": [
    "print(rootpath)\n",
    "print(basepaths)"
   ]
  },
  {
   "cell_type": "markdown",
   "metadata": {},
   "source": [
    "## Procesar los archivos\n",
    "\n",
    "Esta versión es solo para cuadernos de Jupyter."
   ]
  },
  {
   "cell_type": "code",
   "execution_count": 4,
   "metadata": {},
   "outputs": [
    {
     "name": "stdout",
     "output_type": "stream",
     "text": [
      "Agudelo Feriz Valentina_2814363_assignsubmission_file_\n",
      "Calao Jimenez Valentina_2814377_assignsubmission_file_\n",
      "Chacon Gallego David_2814382_assignsubmission_file_\n",
      "Gallego Alzate Daniel_2814379_assignsubmission_file_\n",
      "Madrid Rangel Juan Manuel_2814376_assignsubmission_file_\n",
      "Ortega Castaño Sebastian_2814366_assignsubmission_file_\n",
      "Ospina Jaramillo Pablo_2814375_assignsubmission_file_\n",
      "Perez De Los Rios Leonardo_2814374_assignsubmission_file_\n",
      "Regalado Chicaiza Sebastian Mauricio_2814369_assignsubmission_file_\n",
      "Rincon Gutierrez Daniel_2814372_assignsubmission_file_\n",
      "Sierra Guerrero Jose Francisco_2814373_assignsubmission_file_\n",
      "Silva Rios Valeria_2814371_assignsubmission_file_\n",
      "Tamayo Agudelo David_2814380_assignsubmission_file_\n",
      "Vahos Serna Julio Cesar_2814364_assignsubmission_file_\n",
      "Vanegas Diaz Sofia_2814381_assignsubmission_file_\n",
      "Vega Rodriguez Santiago_2814368_assignsubmission_file_\n",
      "White Restrepo Tomas_2814383_assignsubmission_file_\n",
      "Zuluaga Aristizabal Andres_2814378_assignsubmission_file_\n"
     ]
    }
   ],
   "source": [
    "pathList,nameList,nbList = list(),list(),list()\n",
    "basepath = rootpath\n",
    "# for basepath in basepaths:\n",
    "for entry in os.listdir(basepath):\n",
    "    entry = Path(entry)\n",
    "    print(entry)\n",
    "    if str(entry).endswith(\"_assignsubmission_file_\"): # Descomentar para Tareas\n",
    "#     if True:  # Descomentar para Cuestionarios\n",
    "        #recoja todos los archivos de cada entrega\n",
    "        pathList.append(basepath/entry)\n",
    "        p = pathList[-1].glob(\"**/*\")\n",
    "        for i,x in enumerate(p):\n",
    "            #solo guarde los que estén en la lista de extensiones (para evitar que coja los cuadernos)\n",
    "            if x.is_file() and x.suffix == \".ipynb\":\n",
    "                #agregue el path de la carpeta a la lista de paths\n",
    "                nbList.append(x)\n",
    "                #agregue el nombre a la lista de nombres (extraido del nombre de la entrega)\n",
    "                nameList.append(str(entry).split(\"_\")[0])\n",
    "#             nbList.append([x for x in p if x.is_file() and x.suffix == \".ipynb\"])"
   ]
  },
  {
   "cell_type": "code",
   "execution_count": 5,
   "metadata": {},
   "outputs": [
    {
     "name": "stdout",
     "output_type": "stream",
     "text": [
      "[WindowsPath('C:/Users/LMAG/UPB/Mecanismos - General/2022_20/_notas/Trabajo 2-1022222/Agudelo Feriz Valentina_2814363_assignsubmission_file_/Untitled6 - copia (2) (1).ipynb'), WindowsPath('C:/Users/LMAG/UPB/Mecanismos - General/2022_20/_notas/Trabajo 2-1022222/Calao Jimenez Valentina_2814377_assignsubmission_file_/Trabajo 2_Valentina Calao Jiménez_.ipynb'), WindowsPath('C:/Users/LMAG/UPB/Mecanismos - General/2022_20/_notas/Trabajo 2-1022222/Chacon Gallego David_2814382_assignsubmission_file_/Trabajo 2 - David Chacon.ipynb'), WindowsPath('C:/Users/LMAG/UPB/Mecanismos - General/2022_20/_notas/Trabajo 2-1022222/Gallego Alzate Daniel_2814379_assignsubmission_file_/velocidad_y_aceleracion.ipynb'), WindowsPath('C:/Users/LMAG/UPB/Mecanismos - General/2022_20/_notas/Trabajo 2-1022222/Madrid Rangel Juan Manuel_2814376_assignsubmission_file_/JuanMecanismoT2.ipynb'), WindowsPath('C:/Users/LMAG/UPB/Mecanismos - General/2022_20/_notas/Trabajo 2-1022222/Ortega Castaño Sebastian_2814366_assignsubmission_file_/Trabajo2-SebastianOrtega .ipynb'), WindowsPath('C:/Users/LMAG/UPB/Mecanismos - General/2022_20/_notas/Trabajo 2-1022222/Ospina Jaramillo Pablo_2814375_assignsubmission_file_/Trabajo 2 Pablo Ospina.ipynb'), WindowsPath('C:/Users/LMAG/UPB/Mecanismos - General/2022_20/_notas/Trabajo 2-1022222/Perez De Los Rios Leonardo_2814374_assignsubmission_file_/TALLER 4  - Copy.ipynb'), WindowsPath('C:/Users/LMAG/UPB/Mecanismos - General/2022_20/_notas/Trabajo 2-1022222/Regalado Chicaiza Sebastian Mauricio_2814369_assignsubmission_file_/Trabajo 2 final.ipynb'), WindowsPath('C:/Users/LMAG/UPB/Mecanismos - General/2022_20/_notas/Trabajo 2-1022222/Rincon Gutierrez Daniel_2814372_assignsubmission_file_/Trabajo 2 Completo DRG .ipynb'), WindowsPath('C:/Users/LMAG/UPB/Mecanismos - General/2022_20/_notas/Trabajo 2-1022222/Sierra Guerrero Jose Francisco_2814373_assignsubmission_file_/TRABAJO 2 JFSG (final).ipynb'), WindowsPath('C:/Users/LMAG/UPB/Mecanismos - General/2022_20/_notas/Trabajo 2-1022222/Silva Rios Valeria_2814371_assignsubmission_file_/Trabajo2_ValeriaSilva (1).ipynb'), WindowsPath('C:/Users/LMAG/UPB/Mecanismos - General/2022_20/_notas/Trabajo 2-1022222/Tamayo Agudelo David_2814380_assignsubmission_file_/Trabajo02_DavidTamayo.ipynb'), WindowsPath('C:/Users/LMAG/UPB/Mecanismos - General/2022_20/_notas/Trabajo 2-1022222/Vahos Serna Julio Cesar_2814364_assignsubmission_file_/TRABAJO #1 (JULIO CESAR VAHOS).ipynb'), WindowsPath('C:/Users/LMAG/UPB/Mecanismos - General/2022_20/_notas/Trabajo 2-1022222/Vanegas Diaz Sofia_2814381_assignsubmission_file_/caso volqueta.ipynb'), WindowsPath('C:/Users/LMAG/UPB/Mecanismos - General/2022_20/_notas/Trabajo 2-1022222/Vega Rodriguez Santiago_2814368_assignsubmission_file_/Taller_Analisis_Velocidad_Aceleracion_SVR .ipynb'), WindowsPath('C:/Users/LMAG/UPB/Mecanismos - General/2022_20/_notas/Trabajo 2-1022222/White Restrepo Tomas_2814383_assignsubmission_file_/Trabajo 2 - Mecanismos - Tomas White (1).ipynb'), WindowsPath('C:/Users/LMAG/UPB/Mecanismos - General/2022_20/_notas/Trabajo 2-1022222/Zuluaga Aristizabal Andres_2814378_assignsubmission_file_/Trabajo 2 Andrés Zuluaga.ipynb')] ['Agudelo Feriz Valentina', 'Calao Jimenez Valentina', 'Chacon Gallego David', 'Gallego Alzate Daniel', 'Madrid Rangel Juan Manuel', 'Ortega Castaño Sebastian', 'Ospina Jaramillo Pablo', 'Perez De Los Rios Leonardo', 'Regalado Chicaiza Sebastian Mauricio', 'Rincon Gutierrez Daniel', 'Sierra Guerrero Jose Francisco', 'Silva Rios Valeria', 'Tamayo Agudelo David', 'Vahos Serna Julio Cesar', 'Vanegas Diaz Sofia', 'Vega Rodriguez Santiago', 'White Restrepo Tomas', 'Zuluaga Aristizabal Andres'] 18 18\n"
     ]
    }
   ],
   "source": [
    "print(nbList,nameList,len(nbList),len(nameList))\n",
    "    # leer el contenido del archivo como texto\n",
    "    #print(scriptList[-1][-1].read_text())"
   ]
  },
  {
   "cell_type": "markdown",
   "metadata": {},
   "source": [
    "## Creación de scripts a partir de cuadernos"
   ]
  },
  {
   "cell_type": "code",
   "execution_count": 6,
   "metadata": {},
   "outputs": [],
   "source": [
    "from unidecode import unidecode\n",
    "\n",
    "def remover_caracteres_esp(origArchivo,nombre):\n",
    "    '''\n",
    "    reemplaza caracteres especiales por ascii, tanto del nombre como del interior. \n",
    "    Usar con cuidado.\n",
    "    '''\n",
    "    origArchivo = Path(origArchivo)\n",
    "    nombre = nombre.replace(\" \",\"\")\n",
    "    archivo =  open(origArchivo,encoding=\"UTF-8\")\n",
    "    texto = archivo.read()\n",
    "    texto = unidecode(texto)\n",
    "    archivo.close()\n",
    "    carpeta = origArchivo.parent\n",
    "    origNombre = origArchivo.parts[-1]\n",
    "    extension = origArchivo.suffix\n",
    "    nuevoArchivo = carpeta/Path(unidecode(nombre,\"utf-8\")).with_suffix(extension)\n",
    "    try:\n",
    "        archivo = open(nuevoArchivo,'w',encoding=\"UTF-8\")\n",
    "    except Exception as e:\n",
    "        print(e)\n",
    "        return None\n",
    "#     origArchivo.unlink()\n",
    "    archivo.write(texto)\n",
    "    archivo.close()\n",
    "    return nuevoArchivo\n",
    "        \n",
    "def genScripts(nombres,cuadernos,limpiar):\n",
    "    listaScripts = []\n",
    "    for cuaderno in cuadernos:\n",
    "        try:\n",
    "#             print(cuaderno)\n",
    "#                 codeText = script.read_text(encoding=\"utf8\")\n",
    "            nombre = cuaderno.parts[-2].split('_')[0]\n",
    "            fullNombre = nombre + \".py\"\n",
    "            print(fullNombre)\n",
    "            fullNombre = cuaderno.parent/fullNombre\n",
    "            if not fullNombre.exists():\n",
    "                cuaderno = remover_caracteres_esp(cuaderno,nombre)\n",
    "                if cuaderno is not None:\n",
    "                    !jupyter nbconvert --to script \"{cuaderno}\" --output \"{nombre}\"\n",
    "            else:\n",
    "                if limpiar:\n",
    "                    fullNombre.unlink()\n",
    "        except Exception as e:\n",
    "            print(f\"fallo conversion de cuaderno en {cuaderno}\")\n",
    "            print(\"error: \",e)\n",
    "            continue\n",
    "        listaScripts.append(fullNombre)        \n",
    "    return listaScripts"
   ]
  },
  {
   "cell_type": "code",
   "execution_count": 7,
   "metadata": {},
   "outputs": [
    {
     "data": {
      "text/plain": [
       "WindowsPath('C:/Users/LMAG/UPB/Mecanismos - General/2022_20/_notas/Trabajo 2-1022222/Agudelo Feriz Valentina_2814363_assignsubmission_file_/AgudeloFerizValentina.ipynb')"
      ]
     },
     "execution_count": 7,
     "metadata": {},
     "output_type": "execute_result"
    }
   ],
   "source": [
    "# Testing\n",
    "testPath = Path(r\"C:\\Users\\LMAG\\UPB\\Mecanismos - General\\2022_20\\_notas\\Trabajo 2-1022222\\Agudelo Feriz Valentina_2814363_assignsubmission_file_\\Untitled6 - copia (2) (1).ipynb\")\n",
    "testPath = remover_caracteres_esp(testPath,\"Agudelo Feriz Valentina\")\n",
    "testPath\n",
    "# scriptList = []\n",
    "# nombre = nbList[1].parts[-2].split('_')[0]\n",
    "# print(nombre)\n",
    "# fullNombre = nombre + \".py\"\n",
    "# fullNombre = nbList[1].parent/fullNombre\n",
    "# print(fullNombre)\n",
    "# scriptList.append(fullNombre)\n",
    "# print(fullNombre.exists())\n",
    "# cuaderno = remover_caracteres_esp(nbList[1])\n",
    "# cuaderno.exists()"
   ]
  },
  {
   "cell_type": "code",
   "execution_count": 8,
   "metadata": {},
   "outputs": [
    {
     "name": "stdout",
     "output_type": "stream",
     "text": [
      "Agudelo Feriz Valentina.py\n"
     ]
    },
    {
     "name": "stderr",
     "output_type": "stream",
     "text": [
      "[NbConvertApp] Converting notebook C:\\Users\\LMAG\\UPB\\Mecanismos - General\\2022_20\\_notas\\Trabajo 2-1022222\\Agudelo Feriz Valentina_2814363_assignsubmission_file_\\AgudeloFerizValentina.ipynb to script\n",
      "[NbConvertApp] Writing 32842 bytes to C:\\Users\\LMAG\\UPB\\Mecanismos - General\\2022_20\\_notas\\Trabajo 2-1022222\\Agudelo Feriz Valentina_2814363_assignsubmission_file_\\Agudelo Feriz Valentina.py\n"
     ]
    },
    {
     "name": "stdout",
     "output_type": "stream",
     "text": [
      "Calao Jimenez Valentina.py\n"
     ]
    },
    {
     "name": "stderr",
     "output_type": "stream",
     "text": [
      "[NbConvertApp] Converting notebook C:\\Users\\LMAG\\UPB\\Mecanismos - General\\2022_20\\_notas\\Trabajo 2-1022222\\Calao Jimenez Valentina_2814377_assignsubmission_file_\\CalaoJimenezValentina.ipynb to script\n",
      "[NbConvertApp] Writing 28204 bytes to C:\\Users\\LMAG\\UPB\\Mecanismos - General\\2022_20\\_notas\\Trabajo 2-1022222\\Calao Jimenez Valentina_2814377_assignsubmission_file_\\Calao Jimenez Valentina.py\n"
     ]
    },
    {
     "name": "stdout",
     "output_type": "stream",
     "text": [
      "Chacon Gallego David.py\n"
     ]
    },
    {
     "name": "stderr",
     "output_type": "stream",
     "text": [
      "[NbConvertApp] Converting notebook C:\\Users\\LMAG\\UPB\\Mecanismos - General\\2022_20\\_notas\\Trabajo 2-1022222\\Chacon Gallego David_2814382_assignsubmission_file_\\ChaconGallegoDavid.ipynb to script\n",
      "[NbConvertApp] Writing 17504 bytes to C:\\Users\\LMAG\\UPB\\Mecanismos - General\\2022_20\\_notas\\Trabajo 2-1022222\\Chacon Gallego David_2814382_assignsubmission_file_\\Chacon Gallego David.py\n"
     ]
    },
    {
     "name": "stdout",
     "output_type": "stream",
     "text": [
      "Gallego Alzate Daniel.py\n"
     ]
    },
    {
     "name": "stderr",
     "output_type": "stream",
     "text": [
      "[NbConvertApp] Converting notebook C:\\Users\\LMAG\\UPB\\Mecanismos - General\\2022_20\\_notas\\Trabajo 2-1022222\\Gallego Alzate Daniel_2814379_assignsubmission_file_\\GallegoAlzateDaniel.ipynb to script\n",
      "[NbConvertApp] Writing 22338 bytes to C:\\Users\\LMAG\\UPB\\Mecanismos - General\\2022_20\\_notas\\Trabajo 2-1022222\\Gallego Alzate Daniel_2814379_assignsubmission_file_\\Gallego Alzate Daniel.py\n"
     ]
    },
    {
     "name": "stdout",
     "output_type": "stream",
     "text": [
      "Madrid Rangel Juan Manuel.py\n"
     ]
    },
    {
     "name": "stderr",
     "output_type": "stream",
     "text": [
      "[NbConvertApp] Converting notebook C:\\Users\\LMAG\\UPB\\Mecanismos - General\\2022_20\\_notas\\Trabajo 2-1022222\\Madrid Rangel Juan Manuel_2814376_assignsubmission_file_\\MadridRangelJuanManuel.ipynb to script\n",
      "[NbConvertApp] Writing 16476 bytes to C:\\Users\\LMAG\\UPB\\Mecanismos - General\\2022_20\\_notas\\Trabajo 2-1022222\\Madrid Rangel Juan Manuel_2814376_assignsubmission_file_\\Madrid Rangel Juan Manuel.py\n"
     ]
    },
    {
     "name": "stdout",
     "output_type": "stream",
     "text": [
      "Ortega Castaño Sebastian.py\n"
     ]
    },
    {
     "name": "stderr",
     "output_type": "stream",
     "text": [
      "[NbConvertApp] Converting notebook C:\\Users\\LMAG\\UPB\\Mecanismos - General\\2022_20\\_notas\\Trabajo 2-1022222\\Ortega Castaño Sebastian_2814366_assignsubmission_file_\\OrtegaCastanoSebastian.ipynb to script\n",
      "[NbConvertApp] Writing 15417 bytes to C:\\Users\\LMAG\\UPB\\Mecanismos - General\\2022_20\\_notas\\Trabajo 2-1022222\\Ortega Castaño Sebastian_2814366_assignsubmission_file_\\Ortega Castaño Sebastian.py\n"
     ]
    },
    {
     "name": "stdout",
     "output_type": "stream",
     "text": [
      "Ospina Jaramillo Pablo.py\n"
     ]
    },
    {
     "name": "stderr",
     "output_type": "stream",
     "text": [
      "[NbConvertApp] Converting notebook C:\\Users\\LMAG\\UPB\\Mecanismos - General\\2022_20\\_notas\\Trabajo 2-1022222\\Ospina Jaramillo Pablo_2814375_assignsubmission_file_\\OspinaJaramilloPablo.ipynb to script\n",
      "[NbConvertApp] Writing 24399 bytes to C:\\Users\\LMAG\\UPB\\Mecanismos - General\\2022_20\\_notas\\Trabajo 2-1022222\\Ospina Jaramillo Pablo_2814375_assignsubmission_file_\\Ospina Jaramillo Pablo.py\n"
     ]
    },
    {
     "name": "stdout",
     "output_type": "stream",
     "text": [
      "Perez De Los Rios Leonardo.py\n"
     ]
    },
    {
     "name": "stderr",
     "output_type": "stream",
     "text": [
      "[NbConvertApp] Converting notebook C:\\Users\\LMAG\\UPB\\Mecanismos - General\\2022_20\\_notas\\Trabajo 2-1022222\\Perez De Los Rios Leonardo_2814374_assignsubmission_file_\\PerezDeLosRiosLeonardo.ipynb to script\n",
      "[NbConvertApp] Writing 20071 bytes to C:\\Users\\LMAG\\UPB\\Mecanismos - General\\2022_20\\_notas\\Trabajo 2-1022222\\Perez De Los Rios Leonardo_2814374_assignsubmission_file_\\Perez De Los Rios Leonardo.py\n"
     ]
    },
    {
     "name": "stdout",
     "output_type": "stream",
     "text": [
      "Regalado Chicaiza Sebastian Mauricio.py\n"
     ]
    },
    {
     "name": "stderr",
     "output_type": "stream",
     "text": [
      "[NbConvertApp] Converting notebook C:\\Users\\LMAG\\UPB\\Mecanismos - General\\2022_20\\_notas\\Trabajo 2-1022222\\Regalado Chicaiza Sebastian Mauricio_2814369_assignsubmission_file_\\RegaladoChicaizaSebastianMauricio.ipynb to script\n",
      "[NbConvertApp] Writing 29439 bytes to C:\\Users\\LMAG\\UPB\\Mecanismos - General\\2022_20\\_notas\\Trabajo 2-1022222\\Regalado Chicaiza Sebastian Mauricio_2814369_assignsubmission_file_\\Regalado Chicaiza Sebastian Mauricio.py\n"
     ]
    },
    {
     "name": "stdout",
     "output_type": "stream",
     "text": [
      "Rincon Gutierrez Daniel.py\n"
     ]
    },
    {
     "name": "stderr",
     "output_type": "stream",
     "text": [
      "[NbConvertApp] Converting notebook C:\\Users\\LMAG\\UPB\\Mecanismos - General\\2022_20\\_notas\\Trabajo 2-1022222\\Rincon Gutierrez Daniel_2814372_assignsubmission_file_\\RinconGutierrezDaniel.ipynb to script\n",
      "[NbConvertApp] Writing 25979 bytes to C:\\Users\\LMAG\\UPB\\Mecanismos - General\\2022_20\\_notas\\Trabajo 2-1022222\\Rincon Gutierrez Daniel_2814372_assignsubmission_file_\\Rincon Gutierrez Daniel.py\n"
     ]
    },
    {
     "name": "stdout",
     "output_type": "stream",
     "text": [
      "Sierra Guerrero Jose Francisco.py\n"
     ]
    },
    {
     "name": "stderr",
     "output_type": "stream",
     "text": [
      "[NbConvertApp] Converting notebook C:\\Users\\LMAG\\UPB\\Mecanismos - General\\2022_20\\_notas\\Trabajo 2-1022222\\Sierra Guerrero Jose Francisco_2814373_assignsubmission_file_\\SierraGuerreroJoseFrancisco.ipynb to script\n",
      "[NbConvertApp] Writing 25144 bytes to C:\\Users\\LMAG\\UPB\\Mecanismos - General\\2022_20\\_notas\\Trabajo 2-1022222\\Sierra Guerrero Jose Francisco_2814373_assignsubmission_file_\\Sierra Guerrero Jose Francisco.py\n"
     ]
    },
    {
     "name": "stdout",
     "output_type": "stream",
     "text": [
      "Silva Rios Valeria.py\n"
     ]
    },
    {
     "name": "stderr",
     "output_type": "stream",
     "text": [
      "[NbConvertApp] Converting notebook C:\\Users\\LMAG\\UPB\\Mecanismos - General\\2022_20\\_notas\\Trabajo 2-1022222\\Silva Rios Valeria_2814371_assignsubmission_file_\\SilvaRiosValeria.ipynb to script\n",
      "[NbConvertApp] Writing 19163 bytes to C:\\Users\\LMAG\\UPB\\Mecanismos - General\\2022_20\\_notas\\Trabajo 2-1022222\\Silva Rios Valeria_2814371_assignsubmission_file_\\Silva Rios Valeria.py\n"
     ]
    },
    {
     "name": "stdout",
     "output_type": "stream",
     "text": [
      "Tamayo Agudelo David.py\n"
     ]
    },
    {
     "name": "stderr",
     "output_type": "stream",
     "text": [
      "[NbConvertApp] Converting notebook C:\\Users\\LMAG\\UPB\\Mecanismos - General\\2022_20\\_notas\\Trabajo 2-1022222\\Tamayo Agudelo David_2814380_assignsubmission_file_\\TamayoAgudeloDavid.ipynb to script\n",
      "[NbConvertApp] Writing 26644 bytes to C:\\Users\\LMAG\\UPB\\Mecanismos - General\\2022_20\\_notas\\Trabajo 2-1022222\\Tamayo Agudelo David_2814380_assignsubmission_file_\\Tamayo Agudelo David.py\n"
     ]
    },
    {
     "name": "stdout",
     "output_type": "stream",
     "text": [
      "Vahos Serna Julio Cesar.py\n"
     ]
    },
    {
     "name": "stderr",
     "output_type": "stream",
     "text": [
      "[NbConvertApp] Converting notebook C:\\Users\\LMAG\\UPB\\Mecanismos - General\\2022_20\\_notas\\Trabajo 2-1022222\\Vahos Serna Julio Cesar_2814364_assignsubmission_file_\\VahosSernaJulioCesar.ipynb to script\n",
      "[NbConvertApp] Writing 8631 bytes to C:\\Users\\LMAG\\UPB\\Mecanismos - General\\2022_20\\_notas\\Trabajo 2-1022222\\Vahos Serna Julio Cesar_2814364_assignsubmission_file_\\Vahos Serna Julio Cesar.py\n"
     ]
    },
    {
     "name": "stdout",
     "output_type": "stream",
     "text": [
      "Vanegas Diaz Sofia.py\n"
     ]
    },
    {
     "name": "stderr",
     "output_type": "stream",
     "text": [
      "[NbConvertApp] Converting notebook C:\\Users\\LMAG\\UPB\\Mecanismos - General\\2022_20\\_notas\\Trabajo 2-1022222\\Vanegas Diaz Sofia_2814381_assignsubmission_file_\\VanegasDiazSofia.ipynb to script\n",
      "[NbConvertApp] Writing 23566 bytes to C:\\Users\\LMAG\\UPB\\Mecanismos - General\\2022_20\\_notas\\Trabajo 2-1022222\\Vanegas Diaz Sofia_2814381_assignsubmission_file_\\Vanegas Diaz Sofia.py\n"
     ]
    },
    {
     "name": "stdout",
     "output_type": "stream",
     "text": [
      "Vega Rodriguez Santiago.py\n"
     ]
    },
    {
     "name": "stderr",
     "output_type": "stream",
     "text": [
      "[NbConvertApp] Converting notebook C:\\Users\\LMAG\\UPB\\Mecanismos - General\\2022_20\\_notas\\Trabajo 2-1022222\\Vega Rodriguez Santiago_2814368_assignsubmission_file_\\VegaRodriguezSantiago.ipynb to script\n",
      "[NbConvertApp] Writing 19602 bytes to C:\\Users\\LMAG\\UPB\\Mecanismos - General\\2022_20\\_notas\\Trabajo 2-1022222\\Vega Rodriguez Santiago_2814368_assignsubmission_file_\\Vega Rodriguez Santiago.py\n"
     ]
    },
    {
     "name": "stdout",
     "output_type": "stream",
     "text": [
      "White Restrepo Tomas.py\n"
     ]
    },
    {
     "name": "stderr",
     "output_type": "stream",
     "text": [
      "[NbConvertApp] Converting notebook C:\\Users\\LMAG\\UPB\\Mecanismos - General\\2022_20\\_notas\\Trabajo 2-1022222\\White Restrepo Tomas_2814383_assignsubmission_file_\\WhiteRestrepoTomas.ipynb to script\n",
      "[NbConvertApp] Writing 20628 bytes to C:\\Users\\LMAG\\UPB\\Mecanismos - General\\2022_20\\_notas\\Trabajo 2-1022222\\White Restrepo Tomas_2814383_assignsubmission_file_\\White Restrepo Tomas.py\n"
     ]
    },
    {
     "name": "stdout",
     "output_type": "stream",
     "text": [
      "Zuluaga Aristizabal Andres.py\n"
     ]
    },
    {
     "name": "stderr",
     "output_type": "stream",
     "text": [
      "[NbConvertApp] Converting notebook C:\\Users\\LMAG\\UPB\\Mecanismos - General\\2022_20\\_notas\\Trabajo 2-1022222\\Zuluaga Aristizabal Andres_2814378_assignsubmission_file_\\ZuluagaAristizabalAndres.ipynb to script\n",
      "[NbConvertApp] Writing 29082 bytes to C:\\Users\\LMAG\\UPB\\Mecanismos - General\\2022_20\\_notas\\Trabajo 2-1022222\\Zuluaga Aristizabal Andres_2814378_assignsubmission_file_\\Zuluaga Aristizabal Andres.py\n"
     ]
    }
   ],
   "source": [
    "scriptPaths = genScripts(nameList,nbList,False)"
   ]
  },
  {
   "cell_type": "code",
   "execution_count": 9,
   "metadata": {},
   "outputs": [],
   "source": [
    "# !jupyter nbconvert --to script \"C:/Users/000092114/UPB/Mecanismos - General/2022_20/_notas/Taller Ecuaciones de cierre vectorial-866496/Zuluaga Aristizabal Andres_2771430_assignsubmission_file_/Zuluaga Aristizabal Andres.py\"\n",
    "# print(scriptPaths)"
   ]
  },
  {
   "cell_type": "markdown",
   "metadata": {},
   "source": [
    "### Limpiar códigos de comentarios.\n",
    "\n",
    " "
   ]
  },
  {
   "cell_type": "code",
   "execution_count": 9,
   "metadata": {
    "scrolled": true
   },
   "outputs": [],
   "source": [
    "import re\n",
    "\n",
    "\n",
    "def stripComments(code):\n",
    "    code = str(code)\n",
    "    return re.sub(r'(?m)^ *#.*\\n?', '', code)\n",
    "def stripLines(code,lines):\n",
    "    return ''.join(code.splitlines())[lines:]\n",
    "\n",
    "for i,script_base in enumerate(scriptPaths):\n",
    "    try:\n",
    "        archivo = open(script_base,encoding='UTF-8')\n",
    "    except:\n",
    "        scriptPaths.pop(i)\n",
    "        print(\"revisar: \",nameList[i])\n",
    "        nameList.pop(i)\n",
    "        continue\n",
    "    codigo = archivo.read()\n",
    "    archivo.close()\n",
    "    archivo = open(script_base,'w',encoding='UTF-8')\n",
    "    codigo = stripComments(codigo)\n",
    "    archivo.write(codigo)"
   ]
  },
  {
   "cell_type": "code",
   "execution_count": 10,
   "metadata": {},
   "outputs": [
    {
     "name": "stdout",
     "output_type": "stream",
     "text": [
      "['Agudelo Feriz Valentina', 'Calao Jimenez Valentina', 'Chacon Gallego David', 'Gallego Alzate Daniel', 'Madrid Rangel Juan Manuel', 'Ortega Castaño Sebastian', 'Ospina Jaramillo Pablo', 'Perez De Los Rios Leonardo', 'Regalado Chicaiza Sebastian Mauricio', 'Rincon Gutierrez Daniel', 'Sierra Guerrero Jose Francisco', 'Silva Rios Valeria', 'Tamayo Agudelo David', 'Vahos Serna Julio Cesar', 'Vanegas Diaz Sofia', 'Vega Rodriguez Santiago', 'White Restrepo Tomas', 'Zuluaga Aristizabal Andres'] [WindowsPath('C:/Users/LMAG/UPB/Mecanismos - General/2022_20/_notas/Trabajo 2-1022222/Agudelo Feriz Valentina_2814363_assignsubmission_file_/Agudelo Feriz Valentina.py'), WindowsPath('C:/Users/LMAG/UPB/Mecanismos - General/2022_20/_notas/Trabajo 2-1022222/Calao Jimenez Valentina_2814377_assignsubmission_file_/Calao Jimenez Valentina.py'), WindowsPath('C:/Users/LMAG/UPB/Mecanismos - General/2022_20/_notas/Trabajo 2-1022222/Chacon Gallego David_2814382_assignsubmission_file_/Chacon Gallego David.py'), WindowsPath('C:/Users/LMAG/UPB/Mecanismos - General/2022_20/_notas/Trabajo 2-1022222/Gallego Alzate Daniel_2814379_assignsubmission_file_/Gallego Alzate Daniel.py'), WindowsPath('C:/Users/LMAG/UPB/Mecanismos - General/2022_20/_notas/Trabajo 2-1022222/Madrid Rangel Juan Manuel_2814376_assignsubmission_file_/Madrid Rangel Juan Manuel.py'), WindowsPath('C:/Users/LMAG/UPB/Mecanismos - General/2022_20/_notas/Trabajo 2-1022222/Ortega Castaño Sebastian_2814366_assignsubmission_file_/Ortega Castaño Sebastian.py'), WindowsPath('C:/Users/LMAG/UPB/Mecanismos - General/2022_20/_notas/Trabajo 2-1022222/Ospina Jaramillo Pablo_2814375_assignsubmission_file_/Ospina Jaramillo Pablo.py'), WindowsPath('C:/Users/LMAG/UPB/Mecanismos - General/2022_20/_notas/Trabajo 2-1022222/Perez De Los Rios Leonardo_2814374_assignsubmission_file_/Perez De Los Rios Leonardo.py'), WindowsPath('C:/Users/LMAG/UPB/Mecanismos - General/2022_20/_notas/Trabajo 2-1022222/Regalado Chicaiza Sebastian Mauricio_2814369_assignsubmission_file_/Regalado Chicaiza Sebastian Mauricio.py'), WindowsPath('C:/Users/LMAG/UPB/Mecanismos - General/2022_20/_notas/Trabajo 2-1022222/Rincon Gutierrez Daniel_2814372_assignsubmission_file_/Rincon Gutierrez Daniel.py'), WindowsPath('C:/Users/LMAG/UPB/Mecanismos - General/2022_20/_notas/Trabajo 2-1022222/Sierra Guerrero Jose Francisco_2814373_assignsubmission_file_/Sierra Guerrero Jose Francisco.py'), WindowsPath('C:/Users/LMAG/UPB/Mecanismos - General/2022_20/_notas/Trabajo 2-1022222/Silva Rios Valeria_2814371_assignsubmission_file_/Silva Rios Valeria.py'), WindowsPath('C:/Users/LMAG/UPB/Mecanismos - General/2022_20/_notas/Trabajo 2-1022222/Tamayo Agudelo David_2814380_assignsubmission_file_/Tamayo Agudelo David.py'), WindowsPath('C:/Users/LMAG/UPB/Mecanismos - General/2022_20/_notas/Trabajo 2-1022222/Vahos Serna Julio Cesar_2814364_assignsubmission_file_/Vahos Serna Julio Cesar.py'), WindowsPath('C:/Users/LMAG/UPB/Mecanismos - General/2022_20/_notas/Trabajo 2-1022222/Vanegas Diaz Sofia_2814381_assignsubmission_file_/Vanegas Diaz Sofia.py'), WindowsPath('C:/Users/LMAG/UPB/Mecanismos - General/2022_20/_notas/Trabajo 2-1022222/Vega Rodriguez Santiago_2814368_assignsubmission_file_/Vega Rodriguez Santiago.py'), WindowsPath('C:/Users/LMAG/UPB/Mecanismos - General/2022_20/_notas/Trabajo 2-1022222/White Restrepo Tomas_2814383_assignsubmission_file_/White Restrepo Tomas.py'), WindowsPath('C:/Users/LMAG/UPB/Mecanismos - General/2022_20/_notas/Trabajo 2-1022222/Zuluaga Aristizabal Andres_2814378_assignsubmission_file_/Zuluaga Aristizabal Andres.py')]\n",
      "18 18\n"
     ]
    }
   ],
   "source": [
    "print(nameList,scriptPaths)\n",
    "\n",
    "print(len(nameList),len(scriptPaths))"
   ]
  },
  {
   "cell_type": "markdown",
   "metadata": {},
   "source": [
    "### Verificar similaridad\n",
    "\n",
    "Correr estas celdas individualmente.\n",
    "1. Conformar la lista de scripts y estudiantes consolidada\n",
    "2. correr la celda para generar el mapa de similaridad"
   ]
  },
  {
   "cell_type": "code",
   "execution_count": 11,
   "metadata": {},
   "outputs": [],
   "source": [
    "# generar mapa de similaridad\n",
    "from difflib import SequenceMatcher\n",
    "import numpy as np\n",
    "import pandas as pd\n",
    "import seaborn as sns\n",
    "import matplotlib.pyplot as plt\n",
    "import statistics\n"
   ]
  },
  {
   "cell_type": "code",
   "execution_count": 13,
   "metadata": {},
   "outputs": [
    {
     "name": "stdout",
     "output_type": "stream",
     "text": [
      "27 %\n",
      "8.213173951048962 %\n",
      "Agudelo Feriz Valentina se asemeja en: 50 % a Gallego Alzate Daniel.\n",
      "Agudelo Feriz Valentina se asemeja en: 32 % a Rincon Gutierrez Daniel.\n",
      "Gallego Alzate Daniel se asemeja en: 32 % a Rincon Gutierrez Daniel.\n",
      "Gallego Alzate Daniel se asemeja en: 46 % a Zuluaga Aristizabal Andres.\n",
      "Ortega Castaño Sebastian se asemeja en: 28 % a Sierra Guerrero Jose Francisco.\n",
      "Ortega Castaño Sebastian se asemeja en: 33 % a White Restrepo Tomas.\n",
      "Regalado Chicaiza Sebastian Mauricio se asemeja en: 31 % a Sierra Guerrero Jose Francisco.\n",
      "Rincon Gutierrez Daniel se asemeja en: 32 % a Zuluaga Aristizabal Andres.\n",
      "Sierra Guerrero Jose Francisco se asemeja en: 28 % a White Restrepo Tomas.\n",
      "11.287581699346406 8.213173951048962\n"
     ]
    }
   ],
   "source": [
    "try:\n",
    "    print(umbral,'%')\n",
    "    print(similarStdev,'%')\n",
    "except:\n",
    "    umbral = 90 #porcentaje de similitud\n",
    "\n",
    "dimension = len(scriptPaths)\n",
    "similarity = np.zeros((dimension,dimension))\n",
    "mostSimilar = []\n",
    "flatSimilar = []\n",
    "for i,script_base in enumerate(scriptPaths):\n",
    "    for j,script_cmp in enumerate(scriptPaths):\n",
    "        with open(script_base, errors='ignore',encoding='UTF-8') as fileA,open(script_cmp, errors='ignore',encoding='UTF-8') as fileB:\n",
    "            fileAData = fileA.read()\n",
    "#             fileAData = stripComments(fileAData)\n",
    "            fileBData = fileB.read()\n",
    "#             fileBData = stripComments(fileBData)\n",
    "            similarity[[i],[j]] = int(SequenceMatcher(None, fileAData,fileBData).ratio()*100)\n",
    "            if similarity[[i],[j]]>umbral and j>i: #solo tomar a la derecha de la diagonal.\n",
    "                mostSimilar.append([script_base,script_cmp,similarity[[i],[j]][0]])\n",
    "                print( f\"{script_base.parts[-2].split('_')[0]} se asemeja en: {similarity[i][j]:.0f} % a {script_cmp.parts[-2].split('_')[0]}.\")\n",
    "            if j>i:\n",
    "                flatSimilar.append(similarity[[i],[j]][0])\n",
    "\n",
    "similarStdev = statistics.stdev(flatSimilar)\n",
    "similarMean = statistics.mean(flatSimilar)\n",
    "umbral = int(similarMean+(similarStdev)*2)\n",
    "df = pd.DataFrame(similarity, columns = nameList, index = nameList)\n",
    "print(similarMean,similarStdev)"
   ]
  },
  {
   "cell_type": "code",
   "execution_count": 9,
   "metadata": {},
   "outputs": [],
   "source": [
    "# percSimilar = dict((i,item) for i,item in enumerate(mostSimilar))\n",
    "# print(percSimilar)    \n",
    "# print(fileAData)"
   ]
  },
  {
   "cell_type": "markdown",
   "metadata": {},
   "source": [
    "## Por hacer\n",
    "\n",
    "Generar una lista de parejas de personas con similaridad mayor a cierto umbral, luego llamar al comparador con interfaz gráfica: https://github.com/yebrahim/pydiff\n",
    "\n",
    "- Generar parejas de similares con mayor a umbral\n",
    "- Verificar uso de la herramienta llamada desde cli.\n",
    "- Sistematizar la revisión de comparación"
   ]
  },
  {
   "cell_type": "code",
   "execution_count": 14,
   "metadata": {
    "scrolled": true
   },
   "outputs": [
    {
     "data": {
      "image/png": "[encoded data removed]",
      "text/plain": [
       "<Figure size 504x432 with 2 Axes>"
      ]
     },
     "metadata": {},
     "output_type": "display_data"
    }
   ],
   "source": [
    "# print(df)\n",
    "sns.set(font_scale=0.5)\n",
    "sns.set_palette(\"coolwarm\")\n",
    "figure = plt.gcf() # get current figure\n",
    "figure.set_size_inches(7, 6)\n",
    "mapa = sns.heatmap(df, annot=True, vmin = similarMean, vmax = max(flatSimilar),cmap = \"Reds\")\n",
    "plt.savefig(rootpath/'mapaSimilaridad.pdf', dpi=300,bbox_inches='tight')"
   ]
  },
  {
   "cell_type": "markdown",
   "metadata": {},
   "source": [
    "### Crear un cuaderno con todos los códigos para comparación y verificación de fraudes"
   ]
  },
  {
   "cell_type": "code",
   "execution_count": 15,
   "metadata": {},
   "outputs": [],
   "source": [
    "import subprocess\n",
    "\n",
    "for similar in mostSimilar:\n",
    "    path1 = str(similar[0])\n",
    "    path2 = str(similar[1])\n",
    "    command = f'python pydiff.py -p \"{path1}\" \"{path2}\"'\n",
    "#     print(command)\n",
    "    try:\n",
    "        subprocess.call(command, timeout = 1, shell=True)\n",
    "    except:\n",
    "        pass\n",
    "#   os.system(command)\n",
    "# nb = nbf.v4.new_notebook()\n",
    "# for (estPath,estName,estScripts) in zip(pathList,nameList,scriptList):\n",
    "#     celdas = conformarCeldas(nb,estName,estScripts)\n",
    "    \n",
    "#     nb['cells'] += celdas\n",
    "# nbf.write(nb, 'RevisionEntregas.ipynb')"
   ]
  },
  {
   "cell_type": "markdown",
   "metadata": {},
   "source": [
    "### Refs\n",
    "\n",
    "https://nbviewer.org/gist/fperez/9716279\n",
    "\n",
    "https://github.com/yebrahim/pydiff"
   ]
  }
 ],
 "metadata": {
  "kernelspec": {
   "display_name": "Python 3",
   "language": "python",
   "name": "python3"
  },
  "language_info": {
   "codemirror_mode": {
    "name": "ipython",
    "version": 3
   },
   "file_extension": ".py",
   "mimetype": "text/x-python",
   "name": "python",
   "nbconvert_exporter": "python",
   "pygments_lexer": "ipython3",
   "version": "3.8.5"
  },
  "toc": {
   "base_numbering": 1,
   "nav_menu": {},
   "number_sections": true,
   "sideBar": true,
   "skip_h1_title": false,
   "title_cell": "Table of Contents",
   "title_sidebar": "Contents",
   "toc_cell": false,
   "toc_position": {},
   "toc_section_display": true,
   "toc_window_display": false
  },
  "varInspector": {
   "cols": {
    "lenName": 16,
    "lenType": 16,
    "lenVar": 40
   },
   "kernels_config": {
    "python": {
     "delete_cmd_postfix": "",
     "delete_cmd_prefix": "del ",
     "library": "var_list.py",
     "varRefreshCmd": "print(var_dic_list())"
    },
    "r": {
     "delete_cmd_postfix": ") ",
     "delete_cmd_prefix": "rm(",
     "library": "var_list.r",
     "varRefreshCmd": "cat(var_dic_list()) "
    }
   },
   "types_to_exclude": [
    "module",
    "function",
    "builtin_function_or_method",
    "instance",
    "_Feature"
   ],
   "window_display": false
  }
 },
 "nbformat": 4,
 "nbformat_minor": 4
}

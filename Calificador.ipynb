{
 "cells": [
  {
   "cell_type": "markdown",
   "metadata": {},
   "source": [
    "# Verificador Entregas\n",
    " \n",
    "1. Poner una celda de markdown por carpeta (extraer nombre)\n",
    "2. Luego copiar contenido de cada archivo .py en una celda de código.\n",
    "3. Crea un cuaderno general con todas las entregas, y uno individual para retroalimentación del estudiante\n",
    "\n",
    "## Uso\n",
    "\n",
    "Copiar este cuaderno en la raiz de la carpeta donde se descomprimió la entrega en Aula Digital, luego ejecutarlo todo.\n"
   ]
  },
  {
   "cell_type": "code",
   "execution_count": 10,
   "metadata": {},
   "outputs": [
    {
     "data": {
      "text/plain": [
       "''"
      ]
     },
     "execution_count": 10,
     "metadata": {},
     "output_type": "execute_result"
    }
   ],
   "source": [
    "%reset -sf\n",
    "\n",
    "extensions = [\n",
    "    '.py',\n",
    "    'otra_ext'\n",
    "]\n",
    "\n",
    "evaluacion = \"Examen 1\"\n",
    "enunciado = '''\n",
    "2. (35 puntos) En Colombia, toda persona natural cuyos ingresos, patrimonio, compras y consignaciones bancarias realizadas hasta diciembre 31 de 2021, superan unos topes establecidos por la DIAN, debe rendirle cuentas al gobierno sobre sus estados financieros por medio de la declaración de renta. Las condiciones y topes establecidos para determinar quién debe declarar son:\n",
    "- Patrimonio a 31 de diciembre de 2021: superior a $163’386.000\n",
    "- Ingresos brutos: iguales o superiores a $50’831.000\n",
    "- Consumos con tarjeta de crédito, compras y consignaciones: superiores a $50’831.000\n",
    "Cualquier tope que sobrepase, obliga a la persona natural a declarar renta en el año 2022.\n",
    "Estas condiciones también aplican para menores de edad (a la fecha de presentación de la declaración), cuya declaración de renta debe ser firmada por sus padres o tutores.\n",
    "La semana límite para presentar la declaración de renta está definida por los últimos dos dígitos del Número de Identificación Tributario (NIT), de acuerdo con la siguiente tabla:\n",
    "Agosto\tSeptiembre\tOctubre\n",
    "Dígitos\tSemana\tDígitos\tSemana\tDígitos\tSemana\n",
    "01 al 08\t2da\t37 al 46\t1ra\t77 al 86\t1ra\n",
    "09 al 16\t3ra\t47 al 56\t2da\t87 al 96\t2da\n",
    "17 al 26\t4ta\t57 al 66\t3ra\t97 al 00\t3ra\n",
    "27 al 36\t5ta\t67 al 76\t4ta\t\t\n",
    "Escriba un programa (script) en Python que reciba los siguientes datos:\n",
    "•\tNIT\n",
    "•\tPatrimonio\n",
    "•\tIngresos brutos\n",
    "•\tConsumos con tarjeta de crédito, compras y consignaciones \n",
    "El programa deberá entregar si debe o no declarar renta en el año 2022, y en caso afirmativo, cuál es la semana y mes límite para presentar la declaración firmada.\n",
    "'''\n",
    "\n",
    "import os\n",
    "from pathlib import Path\n",
    "\n",
    "import tkinter as tk\n",
    "from  tkinter import filedialog\n",
    "\n",
    "root = tk.Tk()\n",
    "root.withdraw()"
   ]
  },
  {
   "cell_type": "markdown",
   "metadata": {},
   "source": [
    "## Procesar carpeta con archivos comprimidos o con carpetas descomprimidas\n",
    "\n",
    "Requiere: \n",
    "- una carpeta con los .zip generados por Aula Digital\n",
    "    - Con esta opción, descomprime los .zip y genera carpetas con consecutivos\n",
    "o\n",
    "- una carpeta con las subcarpetas de las evaluaciones.\n",
    "    - Con esta opción, solo identifica las subcarpetas\n",
    "    \n",
    "El resultado es la lista ```basepaths```"
   ]
  },
  {
   "cell_type": "code",
   "execution_count": 11,
   "metadata": {
    "scrolled": true
   },
   "outputs": [
    {
     "name": "stdout",
     "output_type": "stream",
     "text": [
      "[WindowsPath('C:/Users/000092114/UPB/Fundamentos de Computacion 2022-20 - Profesores - Profesores/_notas/examen1/1')]\n"
     ]
    }
   ],
   "source": [
    "rootpath = Path(filedialog.askdirectory())\n",
    "# rootpath = Path(r\"C:\\Users\\000092114\\UPB\\Fundamentos de Computacion 2022-20 - Profesores - Profesores\\_notas\\seg1\\Test\")\n",
    "basepaths = []\n",
    "content = rootpath.glob('*/')\n",
    "contList = [Path(x) for x in content]\n",
    "folders = [x for x in contList if x.is_dir()]\n",
    "files = [x for x in contList if x.is_file() and x.suffix == \".zip\"]\n",
    "# print(folders)\n",
    "# print(files)\n",
    "generateNB = False\n",
    "if folders == [] and files != []: # si no se ha descomprimido nada y hay .zips por descomprimir\n",
    "    from zipfile import ZipFile\n",
    "    grupo = 1\n",
    "    # ahora se define el nombre de la carpeta con un consecutivo.\n",
    "    for file in files:\n",
    "        # Create a ZipFile Object and load sample.zip in it\n",
    "        with ZipFile(str(file), 'r') as zipObj:\n",
    "           # Extract all the contents of zip file in different directory\n",
    "            zipObj.extractall(file.parent/str(grupo))\n",
    "            generateNB = True\n",
    "        basepaths.append(file.parent/str(grupo))\n",
    "        grupo += 1\n",
    "elif folders != []:\n",
    "    basepaths = folders\n",
    "    \n",
    "print(basepaths)"
   ]
  },
  {
   "cell_type": "markdown",
   "metadata": {},
   "source": [
    "## Procesar los archivos"
   ]
  },
  {
   "cell_type": "code",
   "execution_count": 12,
   "metadata": {},
   "outputs": [
    {
     "name": "stdout",
     "output_type": "stream",
     "text": [
      "[[WindowsPath('C:/Users/000092114/UPB/Fundamentos de Computacion 2022-20 - Profesores - Profesores/_notas/examen1/1/Ayala Garcia Andrea_2702408_assignsubmission_file_/parcial 1 andrea.py')], [WindowsPath('C:/Users/000092114/UPB/Fundamentos de Computacion 2022-20 - Profesores - Profesores/_notas/examen1/1/Betancur Zapata Lady Estefany_2702410_assignsubmission_file_/Parcial 1 Betancur_Lady.py')], [WindowsPath('C:/Users/000092114/UPB/Fundamentos de Computacion 2022-20 - Profesores - Profesores/_notas/examen1/1/Cardona Zuluaga Angelica_2702404_assignsubmission_file_/Parcial 1.py')], [WindowsPath('C:/Users/000092114/UPB/Fundamentos de Computacion 2022-20 - Profesores - Profesores/_notas/examen1/1/Cifuentes Madrigal Andrea_2702417_assignsubmission_file_/Parcial 1_AndreaCifuentesMadrigal.py')], [WindowsPath('C:/Users/000092114/UPB/Fundamentos de Computacion 2022-20 - Profesores - Profesores/_notas/examen1/1/Correa Giraldo Andres_2702424_assignsubmission_file_/Parcial 1 - Andres Correa Giraldo.py')], [WindowsPath('C:/Users/000092114/UPB/Fundamentos de Computacion 2022-20 - Profesores - Profesores/_notas/examen1/1/Echeverry Correa Maria Catalina_2702420_assignsubmission_file_/punto examen 1.py'), WindowsPath('C:/Users/000092114/UPB/Fundamentos de Computacion 2022-20 - Profesores - Profesores/_notas/examen1/1/Echeverry Correa Maria Catalina_2702420_assignsubmission_file_/punto examen 2.py')], [WindowsPath('C:/Users/000092114/UPB/Fundamentos de Computacion 2022-20 - Profesores - Profesores/_notas/examen1/1/Garcia Arboleda Andres_2702428_assignsubmission_file_/ejercicio1.py'), WindowsPath('C:/Users/000092114/UPB/Fundamentos de Computacion 2022-20 - Profesores - Profesores/_notas/examen1/1/Garcia Arboleda Andres_2702428_assignsubmission_file_/ejercicio2.py')], [WindowsPath('C:/Users/000092114/UPB/Fundamentos de Computacion 2022-20 - Profesores - Profesores/_notas/examen1/1/Gomez Munera David_2702422_assignsubmission_file_/parcial.py')], [WindowsPath('C:/Users/000092114/UPB/Fundamentos de Computacion 2022-20 - Profesores - Profesores/_notas/examen1/1/Jaramillo Gomez Isabela_2702406_assignsubmission_file_/Parcial 1_IJG.py')], [WindowsPath('C:/Users/000092114/UPB/Fundamentos de Computacion 2022-20 - Profesores - Profesores/_notas/examen1/1/Jaramillo Londoño Andrea_2702414_assignsubmission_file_/parcial.py')], [WindowsPath('C:/Users/000092114/UPB/Fundamentos de Computacion 2022-20 - Profesores - Profesores/_notas/examen1/1/Lopera Otero David_2702411_assignsubmission_file_/parcial.py')], [WindowsPath('C:/Users/000092114/UPB/Fundamentos de Computacion 2022-20 - Profesores - Profesores/_notas/examen1/1/Naranjo Mejia Daniel_2702405_assignsubmission_file_/rr.py')], [WindowsPath('C:/Users/000092114/UPB/Fundamentos de Computacion 2022-20 - Profesores - Profesores/_notas/examen1/1/Otalvaro Saldarriaga Sofia_2702415_assignsubmission_file_/parcial_sofia_otalvaro.py')], [WindowsPath('C:/Users/000092114/UPB/Fundamentos de Computacion 2022-20 - Profesores - Profesores/_notas/examen1/1/Palomino Otero Manuela_2702418_assignsubmission_file_/Manuela Palomino.py')], [WindowsPath('C:/Users/000092114/UPB/Fundamentos de Computacion 2022-20 - Profesores - Profesores/_notas/examen1/1/Perez Rojo Felipe_2702427_assignsubmission_file_/parcial 1.py')], [WindowsPath('C:/Users/000092114/UPB/Fundamentos de Computacion 2022-20 - Profesores - Profesores/_notas/examen1/1/Quiceno Cardenas Ana Sofia_2702426_assignsubmission_file_/parcial ana sofia quiceno .py')], [WindowsPath('C:/Users/000092114/UPB/Fundamentos de Computacion 2022-20 - Profesores - Profesores/_notas/examen1/1/Ramirez Gonzalez Maria Paulina_2702423_assignsubmission_file_/PARCIAL_MARIAPAULINA.py')], [WindowsPath('C:/Users/000092114/UPB/Fundamentos de Computacion 2022-20 - Profesores - Profesores/_notas/examen1/1/Ramirez Zuluaga Tomas_2702407_assignsubmission_file_/parcial.py')], [WindowsPath('C:/Users/000092114/UPB/Fundamentos de Computacion 2022-20 - Profesores - Profesores/_notas/examen1/1/Revelo Rodriguez Dario_2702416_assignsubmission_file_/Examen Parcial Dario Revelo.py')], [WindowsPath('C:/Users/000092114/UPB/Fundamentos de Computacion 2022-20 - Profesores - Profesores/_notas/examen1/1/Salinas Bustamante Maria Alejandra_2702409_assignsubmission_file_/parcial 1.py')], [WindowsPath('C:/Users/000092114/UPB/Fundamentos de Computacion 2022-20 - Profesores - Profesores/_notas/examen1/1/Suarez Moreno Emmanuel_2702421_assignsubmission_file_/EXAMEN PARCIAL 1 - EMMANUEL - FUNDAMENTOS.py')], [WindowsPath('C:/Users/000092114/UPB/Fundamentos de Computacion 2022-20 - Profesores - Profesores/_notas/examen1/1/Taborda Martinez Vanessa Andrea_2702425_assignsubmission_file_/parcial.py')], [WindowsPath('C:/Users/000092114/UPB/Fundamentos de Computacion 2022-20 - Profesores - Profesores/_notas/examen1/1/Uribe Jaramillo Tomas_2702419_assignsubmission_file_/Examen Parcial 1.py')], [WindowsPath('C:/Users/000092114/UPB/Fundamentos de Computacion 2022-20 - Profesores - Profesores/_notas/examen1/1/Usuga Gonzalez Luisa Alejandra_2702429_assignsubmission_file_/Examen 1 - LUISA USUGA.py')], [WindowsPath('C:/Users/000092114/UPB/Fundamentos de Computacion 2022-20 - Profesores - Profesores/_notas/examen1/1/Vertel Vasco Nicol Dahiana_2702412_assignsubmission_file_/Parcial 1 - Nicol Vertel V.py')], [WindowsPath('C:/Users/000092114/UPB/Fundamentos de Computacion 2022-20 - Profesores - Profesores/_notas/examen1/1/Yepes Restrepo Simon_2702413_assignsubmission_file_/Parcial1.py')]]\n"
     ]
    }
   ],
   "source": [
    "pathList,nameList,scriptList = list(),list(),list()\n",
    "for basepath in basepaths:\n",
    "    for entry in os.listdir(basepath):\n",
    "        entry = Path(entry)\n",
    "        if str(entry).endswith(\"_assignsubmission_file_\"):\n",
    "            #agregue el path de la carpeta a la lista de paths\n",
    "            pathList.append(basepath/entry)\n",
    "            #agregue el nombre a la lista de nombres (extraido del nombre de la entrega)\n",
    "            nameList.append(str(entry).split(\"_\")[0])\n",
    "            #recoja todos los archivos de cada entrega\n",
    "            p = pathList[-1].glob(\"**/*\")\n",
    "            #solo guarde los que estén en la lista de extensiones (para evitar que coja los cuadernos)\n",
    "            scriptList.append([x for x in p if x.is_file() and x.suffix in extensions])\n",
    "    \n",
    "print(scriptList)\n",
    "    # leer el contenido del archivo como texto\n",
    "    #print(scriptList[-1][-1].read_text())"
   ]
  },
  {
   "cell_type": "markdown",
   "metadata": {},
   "source": [
    "## Creación de cuadernos individuales por estudiante con el reporte\n",
    "\n",
    "### Importar módulos y definición de funciones\n",
    "\n",
    "**Atención**: solo correr si se requiere generar los cuadernos de retroalimentación."
   ]
  },
  {
   "cell_type": "code",
   "execution_count": 13,
   "metadata": {},
   "outputs": [],
   "source": [
    "if generateNB:\n",
    "\n",
    "    import nbformat as nbf\n",
    "    import itertools \n",
    "\n",
    "    def conformarCeldas(cuaderno,nombre,scripts):\n",
    "        cellsList = list()\n",
    "        text = f\"\"\"\\\n",
    "# {nombre}\n",
    "# {evaluacion}\n",
    "# {enunciado}\n",
    "\"\"\"\n",
    "        cellsList.append(nbf.v4.new_markdown_cell(text))\n",
    "        code = f\"\"\"\\\n",
    "%%javascript\n",
    "IPython.notebook.events.off('checkpoint_created.Notebook');\n",
    "IPython.notebook.events.off('notebook_saved.Notebook');\n",
    "\"\"\"\n",
    "        cellsList.append(nbf.v4.new_code_cell(code))\n",
    "\n",
    "        for script in scripts:\n",
    "            try:\n",
    "                codeText = script.read_text(encoding=\"utf8\")\n",
    "            except:\n",
    "                print(f\"fallo lectura de codigo en {script}\")\n",
    "                return cellsList\n",
    "            code = f\"\"\"\\\n",
    "# {script.stem}\\n\n",
    "%reset -sf\\n#para correr el script desde cero, esta linea no afectara la ejecución de su codigo.\\n\n",
    "{codeText}\"\"\"\n",
    "            cellsList.append(nbf.v4.new_code_cell(code))\n",
    "        return cellsList"
   ]
  },
  {
   "cell_type": "markdown",
   "metadata": {},
   "source": [
    "### Crear cuadernos con script por celda de código\n",
    "\n",
    "Se pone el nombre del estudiante en una celda de markdown\n",
    "Luego se crea una celda de código por programa, con un comentario con el nombre del archivo."
   ]
  },
  {
   "cell_type": "code",
   "execution_count": 14,
   "metadata": {
    "scrolled": true
   },
   "outputs": [],
   "source": [
    "if generateNB:\n",
    "\n",
    "    for (estPath,estName,estScripts) in zip(pathList,nameList,scriptList):\n",
    "\n",
    "        nb = nbf.v4.new_notebook()\n",
    "\n",
    "        celdas = conformarCeldas(nb,estName,estScripts)\n",
    "\n",
    "        nb['cells'] = celdas\n",
    "        nbf.write(nb, estPath/f'{estName}.ipynb')"
   ]
  },
  {
   "cell_type": "markdown",
   "metadata": {},
   "source": [
    "### Verificar similaridad\n",
    "\n",
    "Correr estas celdas individualmente.\n",
    "1. Conformar la lista de scripts y estudiantes consolidada\n",
    "2. correr la celda para generar el mapa de similaridad"
   ]
  },
  {
   "cell_type": "code",
   "execution_count": 15,
   "metadata": {},
   "outputs": [],
   "source": [
    "# generar mapa de similaridad\n",
    "from difflib import SequenceMatcher\n",
    "import numpy as np\n",
    "import pandas as pd\n",
    "import seaborn as sns\n",
    "import matplotlib.pyplot as plt\n",
    "\n",
    "import re\n",
    "def stripComments(code):\n",
    "    code = str(code)\n",
    "    return re.sub(r'(?m)^ *#.*\\n?', '', code)"
   ]
  },
  {
   "cell_type": "code",
   "execution_count": 16,
   "metadata": {},
   "outputs": [],
   "source": [
    "umbral = 50 #porcentaje de similitud\n",
    "\n",
    "dimension = len(scriptList)\n",
    "similarity = np.zeros((dimension,dimension))\n",
    "mostSimilar = []\n",
    "for i,script_base in enumerate(scriptList):\n",
    "    for j,script_cmp in enumerate(scriptList):\n",
    "        with open(script_base[0], errors='ignore') as fileA,open(script_cmp[0], errors='ignore') as fileB:\n",
    "            fileAData = fileA.read()\n",
    "            fileAData = stripComments(fileAData)\n",
    "            fileBData = fileB.read()\n",
    "            fileBData = stripComments(fileBData)\n",
    "            similarity[[i],[j]] = int(SequenceMatcher(None, fileAData,fileBData).ratio()*100)\n",
    "            if similarity[[i],[j]]>umbral and j>i: #solo tomar a la derecha de la diagonal.\n",
    "                print( f\"{nameList[i]} se asemeja en: {similarity[i][j]:.0f} % a {nameList[j]}.\")\n",
    "                mostSimilar.append((script_base[0],script_cmp[0]))\n",
    "\n",
    "df = pd.DataFrame(similarity, columns = nameList, index = nameList)\n",
    "# print(fileAData)"
   ]
  },
  {
   "cell_type": "markdown",
   "metadata": {},
   "source": [
    "## Por hacer\n",
    "\n",
    "Generar una lista de parejas de personas con similaridad mayor a cierto umbral, luego llamar al comparador con interfaz gráfica: https://github.com/yebrahim/pydiff\n",
    "\n",
    "- Generar parejas de similares con mayor a umbral\n",
    "- Verificar uso de la herramienta llamada desde cli.\n",
    "- Sistematizar la revisión de comparación"
   ]
  },
  {
   "cell_type": "code",
   "execution_count": 17,
   "metadata": {
    "scrolled": true
   },
   "outputs": [
    {
     "data": {
      "image/png": "[encoded data removed]",
      "text/plain": [
       "<Figure size 432x432 with 2 Axes>"
      ]
     },
     "metadata": {},
     "output_type": "display_data"
    }
   ],
   "source": [
    "# print(df)\n",
    "sns.set(font_scale=0.5)\n",
    "figure = plt.gcf() # get current figure\n",
    "figure.set_size_inches(6, 6)\n",
    "mapa = sns.heatmap(df, annot=True, vmin = 10, vmax = 80)\n",
    "plt.savefig(rootpath/'mapaSimilaridad.pdf', dpi=300,bbox_inches='tight')"
   ]
  },
  {
   "cell_type": "markdown",
   "metadata": {},
   "source": [
    "### Crear un cuaderno con todos los códigos para comparación y verificación de fraudes"
   ]
  },
  {
   "cell_type": "code",
   "execution_count": 18,
   "metadata": {},
   "outputs": [],
   "source": [
    "import os\n",
    "for similar in mostSimilar:\n",
    "    path1 = str(similar[0])\n",
    "    path2 = str(similar[1])\n",
    "    command = f'python pydiff.py -p \"{path1}\" \"{path2}\"'\n",
    "    print(command)\n",
    "    os.system(command)\n",
    "# nb = nbf.v4.new_notebook()\n",
    "# for (estPath,estName,estScripts) in zip(pathList,nameList,scriptList):\n",
    "#     celdas = conformarCeldas(nb,estName,estScripts)\n",
    "    \n",
    "#     nb['cells'] += celdas\n",
    "# nbf.write(nb, 'RevisionEntregas.ipynb')"
   ]
  },
  {
   "cell_type": "markdown",
   "metadata": {},
   "source": [
    "### Refs\n",
    "\n",
    "https://nbviewer.org/gist/fperez/9716279\n",
    "\n",
    "https://github.com/yebrahim/pydiff"
   ]
  }
 ],
 "metadata": {
  "kernelspec": {
   "display_name": "Python 3 (ipykernel)",
   "language": "python",
   "name": "python3"
  },
  "language_info": {
   "codemirror_mode": {
    "name": "ipython",
    "version": 3
   },
   "file_extension": ".py",
   "mimetype": "text/x-python",
   "name": "python",
   "nbconvert_exporter": "python",
   "pygments_lexer": "ipython3",
   "version": "3.9.12"
  },
  "toc": {
   "base_numbering": 1,
   "nav_menu": {},
   "number_sections": true,
   "sideBar": true,
   "skip_h1_title": false,
   "title_cell": "Table of Contents",
   "title_sidebar": "Contents",
   "toc_cell": false,
   "toc_position": {},
   "toc_section_display": true,
   "toc_window_display": false
  },
  "varInspector": {
   "cols": {
    "lenName": 16,
    "lenType": 16,
    "lenVar": 40
   },
   "kernels_config": {
    "python": {
     "delete_cmd_postfix": "",
     "delete_cmd_prefix": "del ",
     "library": "var_list.py",
     "varRefreshCmd": "print(var_dic_list())"
    },
    "r": {
     "delete_cmd_postfix": ") ",
     "delete_cmd_prefix": "rm(",
     "library": "var_list.r",
     "varRefreshCmd": "cat(var_dic_list()) "
    }
   },
   "types_to_exclude": [
    "module",
    "function",
    "builtin_function_or_method",
    "instance",
    "_Feature"
   ],
   "window_display": false
  }
 },
 "nbformat": 4,
 "nbformat_minor": 4
}

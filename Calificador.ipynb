{
 "cells": [
  {
   "cell_type": "markdown",
   "metadata": {},
   "source": [
    "# Verificador Entregas\n",
    " \n",
    "1. Poner una celda de markdown por carpeta (extraer nombre)\n",
    "2. Luego copiar contenido de cada archivo .py en una celda de código.\n",
    "3. Crea un cuaderno general con todas las entregas, y uno individual para retroalimentación del estudiante\n",
    "\n",
    "## Uso\n",
    "\n",
    "Copiar este cuaderno en la raiz de la carpeta donde se descomprimió la entrega en Aula Digital, luego ejecutarlo todo.\n"
   ]
  },
  {
   "cell_type": "code",
   "execution_count": 1,
   "metadata": {},
   "outputs": [
    {
     "data": {
      "text/plain": [
       "''"
      ]
     },
     "execution_count": 1,
     "metadata": {},
     "output_type": "execute_result"
    }
   ],
   "source": [
    "%reset -sf\n",
    "\n",
    "extensions = [\n",
    "    '.py',\n",
    "    'otra_ext'\n",
    "]\n",
    "\n",
    "evaluacion = \"Examen 1\"\n",
    "enunciado = '''\n",
    "1. (30 puntos) Escriba una función de Python que reciba como argumento un string con el nombre de alguna de las siguientes variables de calidad del aire:\n",
    "\n",
    "co\tno\tno2\to3\n",
    "so2\tpm2_5\tpm10\tnh3\n",
    "\n",
    "La función deberá leer el archivo \"medellin_jul_ago_2022.json\" (adjunto en Aula Digital), luego calcular y retornar el valor promedio de la variable solicitada en el argumento.\n",
    "\n",
    "Escriba una función de Python sin argumentos, que le solicite al usuario (por medio de input) los siguientes datos:\n",
    "-\tNIT Completo\n",
    "En caso de que el usuario ingrese información equivocada (texto, números negativos, etc), la función debe solicitarle al usuario el dato nuevamente. \n",
    "-\tLa función no puede continuar con los cálculos si no recibe un dato valido.\n",
    "-\tSi el usuario ingresa el valor -1, la función debe finalizar su ejecución y retornar None\n",
    "-\tUna vez el usuario haya ingresado un NIT válido, la función deberá retornar un string con la semana y mes límite para presentar la declaración firmada acorde al NIT ingresado por el usuario.\n",
    "o\tEjemplo de retorno: “el NIT 1038407603 debe declarar la semana 2 del mes de agosto”\n",
    "\n",
    "'''\n",
    "\n",
    "import os\n",
    "from pathlib import Path\n",
    "\n",
    "import tkinter as tk\n",
    "from  tkinter import filedialog\n",
    "\n",
    "root = tk.Tk()\n",
    "root.withdraw()"
   ]
  },
  {
   "cell_type": "markdown",
   "metadata": {},
   "source": [
    "## Procesar carpeta con archivos comprimidos o con carpetas descomprimidas\n",
    "\n",
    "Requiere: \n",
    "- una carpeta con los .zip generados por Aula Digital\n",
    "    - Con esta opción, descomprime los .zip y genera carpetas con consecutivos\n",
    "o\n",
    "- una carpeta con las subcarpetas de las evaluaciones.\n",
    "    - Con esta opción, solo identifica las subcarpetas\n",
    "    \n",
    "El resultado es la lista ```basepaths```"
   ]
  },
  {
   "cell_type": "code",
   "execution_count": 5,
   "metadata": {
    "scrolled": true
   },
   "outputs": [
    {
     "name": "stdout",
     "output_type": "stream",
     "text": [
      "[WindowsPath('C:/Users/LMAG/UPB/Fundamentos de Computacion 2022-20 - Profesores - Profesores/_notas/seg2/S12 - copia/1')]\n"
     ]
    }
   ],
   "source": [
    "rootpath = Path(filedialog.askdirectory())\n",
    "# rootpath = Path(r\"C:\\Users\\000092114\\UPB\\Fundamentos de Computacion 2022-20 - Profesores - Profesores\\_notas\\seg1\\Test\")\n",
    "basepaths = []\n",
    "content = rootpath.glob('*/')\n",
    "contList = [Path(x) for x in content]\n",
    "folders = [x for x in contList if x.is_dir()]\n",
    "files = [x for x in contList if x.is_file() and x.suffix == \".zip\"]\n",
    "# print(folders)\n",
    "# print(files)\n",
    "generateNB = False\n",
    "if folders == [] and files != []: # si no se ha descomprimido nada y hay .zips por descomprimir\n",
    "    from zipfile import ZipFile\n",
    "    grupo = 1\n",
    "    # ahora se define el nombre de la carpeta con un consecutivo.\n",
    "    for file in files:\n",
    "        # Create a ZipFile Object and load sample.zip in it\n",
    "        with ZipFile(str(file), 'r') as zipObj:\n",
    "           # Extract all the contents of zip file in different directory\n",
    "            zipObj.extractall(file.parent/str(grupo))\n",
    "            generateNB = True\n",
    "        basepaths.append(file.parent/str(grupo))\n",
    "        grupo += 1\n",
    "elif folders != []:\n",
    "    basepaths = folders\n",
    "    \n",
    "print(basepaths)"
   ]
  },
  {
   "cell_type": "markdown",
   "metadata": {},
   "source": [
    "## Procesar los archivos"
   ]
  },
  {
   "cell_type": "code",
   "execution_count": 6,
   "metadata": {},
   "outputs": [
    {
     "name": "stdout",
     "output_type": "stream",
     "text": [
      "[[WindowsPath('C:/Users/LMAG/UPB/Fundamentos de Computacion 2022-20 - Profesores - Profesores/_notas/seg2/S12 - copia/1/Ayala Garcia Andrea_2829328_assignsubmission_file_/taller semana 12.py')], [WindowsPath('C:/Users/LMAG/UPB/Fundamentos de Computacion 2022-20 - Profesores - Profesores/_notas/seg2/S12 - copia/1/Betancur Zapata Lady Estefany_2829311_assignsubmission_file_/Taller 21 Oct_Betancur Lady.py')], [WindowsPath('C:/Users/LMAG/UPB/Fundamentos de Computacion 2022-20 - Profesores - Profesores/_notas/seg2/S12 - copia/1/Cardona Zuluaga Angelica_2829321_assignsubmission_file_/seguimiento12_angelicacardona.py')], [WindowsPath('C:/Users/LMAG/UPB/Fundamentos de Computacion 2022-20 - Profesores - Profesores/_notas/seg2/S12 - copia/1/Cifuentes Madrigal Andrea_2829310_assignsubmission_file_/TallerS12_AndreaCifuentesMadrigal.py')], [WindowsPath('C:/Users/LMAG/UPB/Fundamentos de Computacion 2022-20 - Profesores - Profesores/_notas/seg2/S12 - copia/1/Correa Giraldo Andres_2829315_assignsubmission_file_/Taller semana 12 Andrés Correa Giraldo.py')], [WindowsPath('C:/Users/LMAG/UPB/Fundamentos de Computacion 2022-20 - Profesores - Profesores/_notas/seg2/S12 - copia/1/Echeverry Correa Maria Catalina_2829325_assignsubmission_file_/taller_catalina.py')], [WindowsPath('C:/Users/LMAG/UPB/Fundamentos de Computacion 2022-20 - Profesores - Profesores/_notas/seg2/S12 - copia/1/Garcia Arboleda Andres_2829320_assignsubmission_file_/futbol12.py')], [WindowsPath('C:/Users/LMAG/UPB/Fundamentos de Computacion 2022-20 - Profesores - Profesores/_notas/seg2/S12 - copia/1/Gomez Munera David_2829323_assignsubmission_file_/estadisticas futbol.py')], [WindowsPath('C:/Users/LMAG/UPB/Fundamentos de Computacion 2022-20 - Profesores - Profesores/_notas/seg2/S12 - copia/1/Jaramillo Gomez Isabela_2829304_assignsubmission_file_/taller12_IJG.py')], [WindowsPath('C:/Users/LMAG/UPB/Fundamentos de Computacion 2022-20 - Profesores - Profesores/_notas/seg2/S12 - copia/1/Jaramillo Londoño Andrea_2829327_assignsubmission_file_/andrea_21.py')], [WindowsPath('C:/Users/LMAG/UPB/Fundamentos de Computacion 2022-20 - Profesores - Profesores/_notas/seg2/S12 - copia/1/Lopera Otero David_2829307_assignsubmission_file_/taller_s12.py')], [WindowsPath('C:/Users/LMAG/UPB/Fundamentos de Computacion 2022-20 - Profesores - Profesores/_notas/seg2/S12 - copia/1/Naranjo Mejia Daniel_2829318_assignsubmission_file_/Taller futbol semana 12.py')], [WindowsPath('C:/Users/LMAG/UPB/Fundamentos de Computacion 2022-20 - Profesores - Profesores/_notas/seg2/S12 - copia/1/Otalvaro Saldarriaga Sofia_2829329_assignsubmission_file_/tallerS14.py')], [WindowsPath('C:/Users/LMAG/UPB/Fundamentos de Computacion 2022-20 - Profesores - Profesores/_notas/seg2/S12 - copia/1/Palomino Otero Manuela_2829314_assignsubmission_file_/Taller_s12_Manuela P.py')], [WindowsPath('C:/Users/LMAG/UPB/Fundamentos de Computacion 2022-20 - Profesores - Profesores/_notas/seg2/S12 - copia/1/Perez Rojo Felipe_2829306_assignsubmission_file_/Taller 12, Felipe Pérez.py')], [WindowsPath('C:/Users/LMAG/UPB/Fundamentos de Computacion 2022-20 - Profesores - Profesores/_notas/seg2/S12 - copia/1/Quiceno Cardenas Ana Sofia_2829326_assignsubmission_file_/SEMANA12.py')], [WindowsPath('C:/Users/LMAG/UPB/Fundamentos de Computacion 2022-20 - Profesores - Profesores/_notas/seg2/S12 - copia/1/Ramirez Gonzalez Maria Paulina_2829319_assignsubmission_file_/tallersemana12.py')], [WindowsPath('C:/Users/LMAG/UPB/Fundamentos de Computacion 2022-20 - Profesores - Profesores/_notas/seg2/S12 - copia/1/Ramirez Zuluaga Tomas_2829309_assignsubmission_file_/tallerS12.py')], [WindowsPath('C:/Users/LMAG/UPB/Fundamentos de Computacion 2022-20 - Profesores - Profesores/_notas/seg2/S12 - copia/1/Revelo Rodriguez Dario_2829322_assignsubmission_file_/Taller Semana 14.py')], [WindowsPath('C:/Users/LMAG/UPB/Fundamentos de Computacion 2022-20 - Profesores - Profesores/_notas/seg2/S12 - copia/1/Suarez Moreno Emmanuel_2829313_assignsubmission_file_/TALLER SEMANA 12 EMMANUEL SUAREZ MORENO.py')], [WindowsPath('C:/Users/LMAG/UPB/Fundamentos de Computacion 2022-20 - Profesores - Profesores/_notas/seg2/S12 - copia/1/Uribe Jaramillo Tomas_2829312_assignsubmission_file_/Taller SEMANA 12 PG.py')], [WindowsPath('C:/Users/LMAG/UPB/Fundamentos de Computacion 2022-20 - Profesores - Profesores/_notas/seg2/S12 - copia/1/Usuga Gonzalez Luisa Alejandra_2829317_assignsubmission_file_/TallerFutbol.py')], [WindowsPath('C:/Users/LMAG/UPB/Fundamentos de Computacion 2022-20 - Profesores - Profesores/_notas/seg2/S12 - copia/1/Vertel Vasco Nicol Dahiana_2829305_assignsubmission_file_/Taller semana 12- Nicol Vertel .py')]]\n"
     ]
    }
   ],
   "source": [
    "pathList,nameList,scriptList = list(),list(),list()\n",
    "for basepath in basepaths:\n",
    "    for entry in os.listdir(basepath):\n",
    "        entry = Path(entry)\n",
    "        if str(entry).endswith(\"_assignsubmission_file_\"):\n",
    "            #agregue el path de la carpeta a la lista de paths\n",
    "            pathList.append(basepath/entry)\n",
    "            #agregue el nombre a la lista de nombres (extraido del nombre de la entrega)\n",
    "            nameList.append(str(entry).split(\"_\")[0])\n",
    "            #recoja todos los archivos de cada entrega\n",
    "            p = pathList[-1].glob(\"**/*\")\n",
    "            #solo guarde los que estén en la lista de extensiones (para evitar que coja los cuadernos)\n",
    "            scriptList.append([x for x in p if x.is_file() and x.suffix in extensions])\n",
    "    \n",
    "print(scriptList)\n",
    "    # leer el contenido del archivo como texto\n",
    "    #print(scriptList[-1][-1].read_text())"
   ]
  },
  {
   "cell_type": "markdown",
   "metadata": {},
   "source": [
    "## Creación de cuadernos individuales por estudiante con el reporte\n",
    "\n",
    "### Importar módulos y definición de funciones\n",
    "\n",
    "**Atención**: solo correr si se requiere generar los cuadernos de retroalimentación."
   ]
  },
  {
   "cell_type": "code",
   "execution_count": 7,
   "metadata": {},
   "outputs": [],
   "source": [
    "if generateNB:\n",
    "\n",
    "    import nbformat as nbf\n",
    "    import itertools \n",
    "\n",
    "    def conformarCeldas(cuaderno,nombre,scripts):\n",
    "        cellsList = list()\n",
    "        text = f\"\"\"\\\n",
    "# {nombre}\n",
    "# {evaluacion}\n",
    "# {enunciado}\n",
    "\"\"\"\n",
    "        cellsList.append(nbf.v4.new_markdown_cell(text))\n",
    "        code = f\"\"\"\\\n",
    "%%javascript\n",
    "IPython.notebook.events.off('checkpoint_created.Notebook');\n",
    "IPython.notebook.events.off('notebook_saved.Notebook');\n",
    "\"\"\"\n",
    "        cellsList.append(nbf.v4.new_code_cell(code))\n",
    "\n",
    "        for script in scripts:\n",
    "            try:\n",
    "                codeText = script.read_text(encoding=\"utf8\")\n",
    "            except:\n",
    "                print(f\"fallo lectura de codigo en {script}\")\n",
    "                return cellsList\n",
    "            code = f\"\"\"\\\n",
    "# {script.stem}\\n\n",
    "%reset -sf\\n#para correr el script desde cero, esta linea no afectara la ejecución de su codigo.\\n\n",
    "{codeText}\"\"\"\n",
    "            cellsList.append(nbf.v4.new_code_cell(code))\n",
    "        return cellsList"
   ]
  },
  {
   "cell_type": "markdown",
   "metadata": {},
   "source": [
    "### Crear cuadernos con script por celda de código\n",
    "\n",
    "Se pone el nombre del estudiante en una celda de markdown\n",
    "Luego se crea una celda de código por programa, con un comentario con el nombre del archivo."
   ]
  },
  {
   "cell_type": "code",
   "execution_count": 8,
   "metadata": {
    "scrolled": true
   },
   "outputs": [],
   "source": [
    "if generateNB:\n",
    "\n",
    "    for (estPath,estName,estScripts) in zip(pathList,nameList,scriptList):\n",
    "\n",
    "        nb = nbf.v4.new_notebook()\n",
    "\n",
    "        celdas = conformarCeldas(nb,estName,estScripts)\n",
    "\n",
    "        nb['cells'] = celdas\n",
    "        nbf.write(nb, estPath/f'{estName}.ipynb')"
   ]
  },
  {
   "cell_type": "markdown",
   "metadata": {},
   "source": [
    "### Verificar similaridad\n",
    "\n",
    "Correr estas celdas individualmente.\n",
    "1. Conformar la lista de scripts y estudiantes consolidada\n",
    "2. correr la celda para generar el mapa de similaridad"
   ]
  },
  {
   "cell_type": "code",
   "execution_count": 9,
   "metadata": {},
   "outputs": [],
   "source": [
    "# generar mapa de similaridad\n",
    "from difflib import SequenceMatcher\n",
    "import numpy as np\n",
    "import pandas as pd\n",
    "import seaborn as sns\n",
    "import matplotlib.pyplot as plt\n",
    "import statistics\n",
    "import re\n",
    "\n",
    "\n",
    "def stripComments(code):\n",
    "    code = str(code)\n",
    "    return re.sub(r'(?m)^ *#.*\\n?', '', code)\n",
    "def stripLines(code,lines):\n",
    "    return ''.join(code.splitlines())[lines:]"
   ]
  },
  {
   "cell_type": "code",
   "execution_count": 11,
   "metadata": {},
   "outputs": [
    {
     "name": "stdout",
     "output_type": "stream",
     "text": [
      "35 %\n",
      "9.098306952923945 %\n",
      "Betancur Zapata Lady Estefany se asemeja en: 37 % a Correa Giraldo Andres.\n",
      "Cardona Zuluaga Angelica se asemeja en: 46 % a Echeverry Correa Maria Catalina.\n",
      "Correa Giraldo Andres se asemeja en: 38 % a Usuga Gonzalez Luisa Alejandra.\n",
      "Garcia Arboleda Andres se asemeja en: 38 % a Lopera Otero David.\n",
      "Perez Rojo Felipe se asemeja en: 78 % a Uribe Jaramillo Tomas.\n",
      "Ramirez Zuluaga Tomas se asemeja en: 49 % a Uribe Jaramillo Tomas.\n",
      "Revelo Rodriguez Dario se asemeja en: 36 % a Usuga Gonzalez Luisa Alejandra.\n"
     ]
    }
   ],
   "source": [
    "try:\n",
    "    print(umbral,'%')\n",
    "    print(similarStdev,'%')\n",
    "except:\n",
    "    umbral = 90 #porcentaje de similitud\n",
    "\n",
    "dimension = len(scriptList)\n",
    "similarity = np.zeros((dimension,dimension))\n",
    "mostSimilar = []\n",
    "flatSimilar = []\n",
    "for i,script_base in enumerate(scriptList):\n",
    "    for j,script_cmp in enumerate(scriptList):\n",
    "        with open(script_base[0], errors='ignore',encoding='UTF-8') as fileA,open(script_cmp[0], errors='ignore',encoding='UTF-8') as fileB:\n",
    "            fileAData = fileA.read()\n",
    "            fileAData = stripComments(fileAData)\n",
    "            fileBData = fileB.read()\n",
    "            fileBData = stripComments(fileBData)\n",
    "            similarity[[i],[j]] = int(SequenceMatcher(None, fileAData,fileBData).ratio()*100)\n",
    "            if similarity[[i],[j]]>umbral and j>i: #solo tomar a la derecha de la diagonal.\n",
    "                mostSimilar.append([script_base[0],script_cmp[0],similarity[[i],[j]][0]])\n",
    "                print( f\"{nameList[i]} se asemeja en: {similarity[i][j]:.0f} % a {nameList[j]}.\")\n",
    "            if j>i:\n",
    "                flatSimilar.append(similarity[[i],[j]][0])\n",
    "\n",
    "similarStdev = statistics.stdev(flatSimilar)\n",
    "similarMean = statistics.mean(flatSimilar)\n",
    "umbral = int(similarMean+(similarStdev*2))\n",
    "df = pd.DataFrame(similarity, columns = nameList, index = nameList)"
   ]
  },
  {
   "cell_type": "code",
   "execution_count": 9,
   "metadata": {},
   "outputs": [],
   "source": [
    "# percSimilar = dict((i,item) for i,item in enumerate(mostSimilar))\n",
    "# print(percSimilar)    \n",
    "# print(fileAData)"
   ]
  },
  {
   "cell_type": "markdown",
   "metadata": {},
   "source": [
    "## Por hacer\n",
    "\n",
    "Generar una lista de parejas de personas con similaridad mayor a cierto umbral, luego llamar al comparador con interfaz gráfica: https://github.com/yebrahim/pydiff\n",
    "\n",
    "- Generar parejas de similares con mayor a umbral\n",
    "- Verificar uso de la herramienta llamada desde cli.\n",
    "- Sistematizar la revisión de comparación"
   ]
  },
  {
   "cell_type": "code",
   "execution_count": 12,
   "metadata": {
    "scrolled": true
   },
   "outputs": [
    {
     "data": {
      "image/png": "[encoded data removed]",
      "text/plain": [
       "<Figure size 504x432 with 2 Axes>"
      ]
     },
     "metadata": {},
     "output_type": "display_data"
    }
   ],
   "source": [
    "# print(df)\n",
    "sns.set(font_scale=0.5)\n",
    "sns.set_palette(\"coolwarm\")\n",
    "figure = plt.gcf() # get current figure\n",
    "figure.set_size_inches(7, 6)\n",
    "mapa = sns.heatmap(df, annot=True, vmin = similarMean, vmax = max(flatSimilar),cmap = \"Reds\")\n",
    "plt.savefig(rootpath/'mapaSimilaridad.pdf', dpi=300,bbox_inches='tight')"
   ]
  },
  {
   "cell_type": "markdown",
   "metadata": {},
   "source": [
    "### Crear un cuaderno con todos los códigos para comparación y verificación de fraudes"
   ]
  },
  {
   "cell_type": "code",
   "execution_count": 13,
   "metadata": {},
   "outputs": [],
   "source": [
    "import subprocess\n",
    "\n",
    "for similar in mostSimilar:\n",
    "    path1 = str(similar[0])\n",
    "    path2 = str(similar[1])\n",
    "    command = f'python pydiff.py -p \"{path1}\" \"{path2}\"'\n",
    "#     print(command)\n",
    "    try:\n",
    "        subprocess.call(command, timeout = 1, shell=True)\n",
    "    except:\n",
    "        pass\n",
    "#   os.system(command)\n",
    "# nb = nbf.v4.new_notebook()\n",
    "# for (estPath,estName,estScripts) in zip(pathList,nameList,scriptList):\n",
    "#     celdas = conformarCeldas(nb,estName,estScripts)\n",
    "    \n",
    "#     nb['cells'] += celdas\n",
    "# nbf.write(nb, 'RevisionEntregas.ipynb')"
   ]
  },
  {
   "cell_type": "markdown",
   "metadata": {},
   "source": [
    "### Refs\n",
    "\n",
    "https://nbviewer.org/gist/fperez/9716279\n",
    "\n",
    "https://github.com/yebrahim/pydiff"
   ]
  }
 ],
 "metadata": {
  "kernelspec": {
   "display_name": "Python 3",
   "language": "python",
   "name": "python3"
  },
  "language_info": {
   "codemirror_mode": {
    "name": "ipython",
    "version": 3
   },
   "file_extension": ".py",
   "mimetype": "text/x-python",
   "name": "python",
   "nbconvert_exporter": "python",
   "pygments_lexer": "ipython3",
   "version": "3.8.5"
  },
  "toc": {
   "base_numbering": 1,
   "nav_menu": {},
   "number_sections": true,
   "sideBar": true,
   "skip_h1_title": false,
   "title_cell": "Table of Contents",
   "title_sidebar": "Contents",
   "toc_cell": false,
   "toc_position": {},
   "toc_section_display": true,
   "toc_window_display": false
  },
  "varInspector": {
   "cols": {
    "lenName": 16,
    "lenType": 16,
    "lenVar": 40
   },
   "kernels_config": {
    "python": {
     "delete_cmd_postfix": "",
     "delete_cmd_prefix": "del ",
     "library": "var_list.py",
     "varRefreshCmd": "print(var_dic_list())"
    },
    "r": {
     "delete_cmd_postfix": ") ",
     "delete_cmd_prefix": "rm(",
     "library": "var_list.r",
     "varRefreshCmd": "cat(var_dic_list()) "
    }
   },
   "types_to_exclude": [
    "module",
    "function",
    "builtin_function_or_method",
    "instance",
    "_Feature"
   ],
   "window_display": false
  }
 },
 "nbformat": 4,
 "nbformat_minor": 4
}

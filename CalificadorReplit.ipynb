{
 "cells": [
  {
   "cell_type": "markdown",
   "metadata": {},
   "source": [
    "# Verificador Entregas Replit\n",
    " \n",
    "1. Descargar .zip de cada entrega asociada al proyecto seleccionado\n",
    "\n",
    "## Uso\n",
    "\n",
    "TODO\n"
   ]
  },
  {
   "cell_type": "code",
   "execution_count": null,
   "metadata": {},
   "outputs": [],
   "source": [
    "%reset -sf"
   ]
  },
  {
   "cell_type": "code",
   "execution_count": 30,
   "metadata": {},
   "outputs": [],
   "source": [
    "evaluacion = \"Examen01\"\n",
    "\n",
    "archivoMain = \"main.py\"\n",
    "\n",
    "extensions = ['.py']"
   ]
  },
  {
   "cell_type": "code",
   "execution_count": 1,
   "metadata": {},
   "outputs": [],
   "source": [
    "import csv\n",
    "\n",
    "# Key Variables\n",
    "replitCSV = \"my_replit_input.csv\" # Replit Project Summary CSV file \n",
    "replitTeamName = \"fund-comp-a2im-med\"\n",
    "usernameCSV = \"my_replit_usernames.csv\"\n",
    "myEncoding = 'latin1'\n",
    "usernameList = [] # 0 = NAME, 1 = USERNAME\n",
    "removeProjectsEndingInSolution = True \n",
    "# if project ends with \"Solution\" or \"Solutions\" in the name, don't add to HTML output.\n",
    "\n",
    "# Funciones\n",
    "\n",
    "def UsernameInput(usernameList):\n",
    "    try:\n",
    "        testCSV = open(usernameCSV, \"r\",encoding=myEncoding) # Open CSV file to reading\n",
    "        testCSV.close()\n",
    "    except:\n",
    "        print(f\"\\nFailed to open username CSV file. Ensure it's in the same directory as this script and named {usernameCSV}.\\n\\nExiting Program...\")\n",
    "        exit()\n",
    "\n",
    "    # Open file and build list of names/usernames\n",
    "    with open(usernameCSV,encoding=myEncoding) as csv_file:\n",
    "        csv_reader = csv.reader(csv_file, delimiter=',')\n",
    "        line_count = 0\n",
    "        for row in csv_reader:\n",
    "            if line_count == 0:\n",
    "                # Header row so ignore this for usernames\n",
    "                line_count += 1\n",
    "            else:\n",
    "                usernameList.append(row)\n",
    "                #print(f'\\t{usernameList[line_count-1][0]} has a username of {usernameList[line_count-1][1]}')\n",
    "\n",
    "                #print(f'\\t{row[0]} has a username of {row[1]}')\n",
    "                \n",
    "                line_count += 1\n",
    "        print(f'Processed {line_count - 1} students.\\n')\n",
    "\n",
    "    return usernameList\n",
    "\n",
    "\n",
    "\n",
    "def ProjectNames(projectNames, row):\n",
    "    # row has all project names, but we only want the ones that end in \" Status\"\n",
    "    for eachHeader in row:\n",
    "        stringLength = len(eachHeader)\n",
    "        writeAdjustString = False # Used to decide if adding project to html list or not\n",
    "        \n",
    "        if eachHeader[stringLength - 7 :] == \" Status\":\n",
    "            # Replace terms in project name with web friendly (used by Replit) characters\n",
    "            adjustedString = eachHeader[0 : -7].replace(\"&\", \"and\") \n",
    "            adjustedString = adjustedString.replace(\"<\", \"less\")\n",
    "            adjustedString = adjustedString.replace(\">\", \"greater\")\n",
    "            adjustedString = adjustedString.replace(\"'\", \"\")\n",
    "            adjustedString = adjustedString.replace(\"/\", \"\")\n",
    "            adjustedString = adjustedString.replace(\" \", \"-\")\n",
    "            \n",
    "\n",
    "            if removeProjectsEndingInSolution == True:\n",
    "                stringLength = len(adjustedString)\n",
    "                if adjustedString[stringLength - 9 :] == \"Solutions\":\n",
    "                    pass\n",
    "                elif adjustedString[stringLength - 8 :] == \"Solution\":\n",
    "                    pass\n",
    "                else:\n",
    "                    writeAdjustString = True\n",
    "            \n",
    "            if writeAdjustString == True:\n",
    "                projectNames.append(adjustedString)\n",
    "            \n",
    "            writeAdjustString = False\n",
    "\n",
    "    return projectNames\n",
    "\n",
    "\n",
    "\n",
    "def OpenReplitCSVFile(usernameList):\n",
    "    try:\n",
    "        testCSV = open(replitCSV, \"r\",encoding=myEncoding) # Open CSV file to reading\n",
    "        testCSV.close()\n",
    "    except:\n",
    "        print(f\"\\nFailed to open CSV file. Ensure it's in the same directory as this script and named {replitCSV}.\\n\\nExiting Program...\")\n",
    "        exit()\n",
    "\n",
    "    projectNames = [] # Contains only the Replit project names in a list\n",
    "\n",
    "    # Open Replit Project Summary CSV and pull data\n",
    "    with open(replitCSV,encoding=myEncoding) as csv_file:\n",
    "        csv_reader = csv.reader(csv_file, delimiter=',')\n",
    "        line_count = 0\n",
    "        for row in csv_reader:\n",
    "            if line_count == 0:\n",
    "                projectNames = ProjectNames(projectNames, row)\n",
    "                \n",
    "                line_count += 1\n",
    "            else:\n",
    "                #print(f'\\t{row[0]} works in the {row[1]} department, and was born in {row[2]}.')\n",
    "                line_count += 1 # just increment here. Nothing else to do\n",
    "    \n",
    "    return projectNames"
   ]
  },
  {
   "cell_type": "markdown",
   "metadata": {},
   "source": [
    "## Prueba de funciones"
   ]
  },
  {
   "cell_type": "code",
   "execution_count": 10,
   "metadata": {
    "scrolled": true
   },
   "outputs": [
    {
     "name": "stdout",
     "output_type": "stream",
     "text": [
      "\n",
      "Importing from username CSV file...\n",
      "Processed 18 students.\n",
      "\n",
      "[['Maria Alejandra Alejandra', 'Maria-Alejan173'], ['Paola Garces', 'PaolaGarces'], ['María Clara Gaviria', 'mariaclaragaviria'], ['Santiago Hoyos', 'SantiagoHoyos6'], ['Federico Juris', 'FedericoJuris'], ['labdinamica', 'labdinamica'], ['Esteban Mora', 'estebanmora5'], ['natalianeira', 'natalianeira'], ['Juan Ossa', 'JuanOssa3'], ['Tomas Ramírez', 'TomasRamirez10'], ['Juan Rivera', 'JuanRivera44'], ['Leandra S', 'LeandraS'], ['saidtellez', 'saidtellez'], ['SaraUribeU', 'SaraUribeU'], ['Vanessa Taborda', 'vanessataborda'], ['valenbetancur4', 'valenbetancur4'], ['Valeria Vallejo', 'valeriavallejo'], ['vprvrjd8jq', 'vprvrjd8jq']]\n",
      "Importing from replit CSV file...\n",
      "Project names are:\n",
      "['TestProject', '0---PrÃ¡ctica', 'Condicionales-Caso-1', 'Condicionales-Caso-2', 'Condicionales-Caso-3', 'Practiquemos-Funciones', 'Funciones-Caso-1', 'Funciones-Caso-2', 'Funciones-Caso-3', 'PracticaExamen01', 'Examen01', 'Examen01_a']\n",
      "\n",
      "https://replit.com/@fund-comp-a2im-med/Examen01-Maria-Alejan173.zip\n",
      "https://replit.com/@fund-comp-a2im-med/Examen01-PaolaGarces.zip\n",
      "https://replit.com/@fund-comp-a2im-med/Examen01-mariaclaragaviria.zip\n",
      "https://replit.com/@fund-comp-a2im-med/Examen01-SantiagoHoyos6.zip\n",
      "https://replit.com/@fund-comp-a2im-med/Examen01-FedericoJuris.zip\n",
      "https://replit.com/@fund-comp-a2im-med/Examen01-labdinamica.zip\n",
      "https://replit.com/@fund-comp-a2im-med/Examen01-estebanmora5.zip\n",
      "https://replit.com/@fund-comp-a2im-med/Examen01-natalianeira.zip\n",
      "https://replit.com/@fund-comp-a2im-med/Examen01-JuanOssa3.zip\n",
      "https://replit.com/@fund-comp-a2im-med/Examen01-TomasRamirez10.zip\n",
      "https://replit.com/@fund-comp-a2im-med/Examen01-JuanRivera44.zip\n",
      "https://replit.com/@fund-comp-a2im-med/Examen01-LeandraS.zip\n",
      "https://replit.com/@fund-comp-a2im-med/Examen01-saidtellez.zip\n",
      "https://replit.com/@fund-comp-a2im-med/Examen01-SaraUribeU.zip\n",
      "https://replit.com/@fund-comp-a2im-med/Examen01-vanessataborda.zip\n",
      "https://replit.com/@fund-comp-a2im-med/Examen01-valenbetancur4.zip\n",
      "https://replit.com/@fund-comp-a2im-med/Examen01-valeriavallejo.zip\n",
      "https://replit.com/@fund-comp-a2im-med/Examen01-vprvrjd8jq.zip\n"
     ]
    }
   ],
   "source": [
    "usernameList = []\n",
    "print(\"\\nImporting from username CSV file...\")\n",
    "usernameList = UsernameInput(usernameList)\n",
    "print(usernameList)\n",
    "\n",
    "print(\"Importing from replit CSV file...\")\n",
    "projectNames = OpenReplitCSVFile(usernameList)\n",
    "print(f\"Project names are:\\n{projectNames}\\n\")\n",
    "\n",
    "\n",
    "# project = projectNames[projectNames.index(evaluacion)]\n",
    "# print(project)\n",
    "ziplinks = []\n",
    "\n",
    "for eachStudentZipLink in usernameList:\n",
    "    ziplinks.append(\"https://replit.com/@\" + replitTeamName + \"/\" + evaluacion + \"-\" + eachStudentZipLink[1] + \".zip\")\n",
    "    print(ziplinks[-1])\n",
    "# print(ziplinks)"
   ]
  },
  {
   "cell_type": "markdown",
   "metadata": {},
   "source": [
    "Ahora descargamos los .zip con Simple Mass Downloader, o cualquier otro gestor de descargas masivas:\n",
    "\n",
    "https://chrome.google.com/webstore/detail/simple-mass-downloader/abdkkegmcbiomijcbdaodaflgehfffed"
   ]
  },
  {
   "cell_type": "code",
   "execution_count": 11,
   "metadata": {},
   "outputs": [],
   "source": [
    "# wget no funciona porque se requiere tener la sesión activa, habrá que explorarlo mejor.\n",
    "# import wget\n",
    "\n",
    "# wgetb.download(ziplinks[0],usernameList[0][0] + '.zip')"
   ]
  },
  {
   "cell_type": "markdown",
   "metadata": {},
   "source": [
    "## Extracción de los archivos desde los .zip\n",
    "\n",
    "1. se requiere indicar los archivos solicitados, usualmente estaría main.py.\n",
    "2. indicar la carpeta donde están los .zip\n",
    "3. Ciclo para iterar por cada archivo .zip\n",
    "    1. crear una carpeta con el nombre del .zip\n",
    "    2. extraer los archivos solicitados en dicha carpeta\n",
    "    3. agregar enlace de archivo main.py a lista"
   ]
  },
  {
   "cell_type": "code",
   "execution_count": 12,
   "metadata": {},
   "outputs": [
    {
     "data": {
      "text/plain": [
       "''"
      ]
     },
     "execution_count": 12,
     "metadata": {},
     "output_type": "execute_result"
    }
   ],
   "source": [
    "import os\n",
    "from pathlib import Path\n",
    "\n",
    "import tkinter as tk\n",
    "from  tkinter import filedialog\n",
    "\n",
    "root = tk.Tk()\n",
    "root.withdraw()"
   ]
  },
  {
   "cell_type": "markdown",
   "metadata": {},
   "source": [
    "## Procesar carpeta con archivos comprimidos o con carpetas descomprimidas\n",
    "\n",
    "Requiere: \n",
    "- una carpeta con los .zip generados por Aula Digital\n",
    "    - Con esta opción, descomprime los .zip y genera carpetas con consecutivos\n",
    "o\n",
    "- una carpeta con las subcarpetas de las evaluaciones.\n",
    "    - Con esta opción, solo identifica las subcarpetas\n",
    "    \n",
    "El resultado es la lista ```basepaths```"
   ]
  },
  {
   "cell_type": "code",
   "execution_count": 24,
   "metadata": {
    "scrolled": true
   },
   "outputs": [
    {
     "name": "stdout",
     "output_type": "stream",
     "text": [
      "[WindowsPath('C:/Users/000092114/Downloads/_REPLIT/Examen01-estebanmora5'), WindowsPath('C:/Users/000092114/Downloads/_REPLIT/Examen01-FedericoJuris'), WindowsPath('C:/Users/000092114/Downloads/_REPLIT/Examen01-JuanOssa3'), WindowsPath('C:/Users/000092114/Downloads/_REPLIT/Examen01-JuanRivera44'), WindowsPath('C:/Users/000092114/Downloads/_REPLIT/Examen01-LeandraS'), WindowsPath('C:/Users/000092114/Downloads/_REPLIT/Examen01-Maria-Alejan173'), WindowsPath('C:/Users/000092114/Downloads/_REPLIT/Examen01-mariaclaragaviria'), WindowsPath('C:/Users/000092114/Downloads/_REPLIT/Examen01-natalianeira'), WindowsPath('C:/Users/000092114/Downloads/_REPLIT/Examen01-PaolaGarces'), WindowsPath('C:/Users/000092114/Downloads/_REPLIT/Examen01-saidtellez'), WindowsPath('C:/Users/000092114/Downloads/_REPLIT/Examen01-SantiagoHoyos6'), WindowsPath('C:/Users/000092114/Downloads/_REPLIT/Examen01-TomasRamirez10'), WindowsPath('C:/Users/000092114/Downloads/_REPLIT/Examen01-valenbetancur4'), WindowsPath('C:/Users/000092114/Downloads/_REPLIT/Examen01-valeriavallejo'), WindowsPath('C:/Users/000092114/Downloads/_REPLIT/Examen01-vanessataborda')]\n"
     ]
    }
   ],
   "source": [
    "rootpath = Path(filedialog.askdirectory())\n",
    "# rootpath = Path(r\"C:\\Users\\000092114\\UPB\\Fundamentos de Computacion 2022-20 - Profesores - Profesores\\_notas\\seg1\\Test\")\n",
    "basepaths = []\n",
    "content = rootpath.glob('*/')\n",
    "contList = [Path(x) for x in content]\n",
    "folders = [x for x in contList if x.is_dir()]\n",
    "files = [x for x in contList if x.is_file() and x.suffix == \".zip\"]\n",
    "# print(folders)\n",
    "# print(files)\n",
    "generateNB = False\n",
    "if folders == [] and files != []: # si no se ha descomprimido nada y hay .zips por descomprimir\n",
    "    from zipfile import ZipFile\n",
    "#     grupo = 1\n",
    "    # ahora se define el nombre de la carpeta con un consecutivo.\n",
    "    for file in files:\n",
    "        # Create a ZipFile Object and load each file\n",
    "        folderName = file.name.split('.')[0]\n",
    "        with ZipFile(str(file), 'r') as zipObj:\n",
    "           # Extract all the contents of zip file in different directory\n",
    "            zipObj.extract(archivoMain,path=file.parent/folderName)\n",
    "            generateNB = True\n",
    "        basepaths.append(file.parent/folderName)\n",
    "#         grupo += 1\n",
    "elif folders != []:\n",
    "    basepaths = folders\n",
    "    generateNB = True\n",
    "    \n",
    "print(basepaths)"
   ]
  },
  {
   "cell_type": "markdown",
   "metadata": {},
   "source": [
    "## Procesar los archivos"
   ]
  },
  {
   "cell_type": "code",
   "execution_count": 34,
   "metadata": {},
   "outputs": [],
   "source": [
    "nameList,scriptList = list(),list()\n",
    "pathList = basepaths\n",
    "for basepath in basepaths:\n",
    "#     for entry in os.listdir(basepath):\n",
    "    #agregue el nombre a la lista de nombres (extraido del nombre de la entrega)\n",
    "    nameList.append(basepath.name.split(\"-\")[1])\n",
    "    #recoja todos los archivos de cada entrega\n",
    "    p = basepath.glob(\"**/*\")\n",
    "    #solo guarde los que estén en la lista de extensiones (para evitar que coja los cuadernos)\n",
    "    scriptList.append([x for x in p if x.is_file() and x.suffix in extensions])\n",
    "    \n"
   ]
  },
  {
   "cell_type": "code",
   "execution_count": 35,
   "metadata": {},
   "outputs": [
    {
     "name": "stdout",
     "output_type": "stream",
     "text": [
      "\n",
      " estebanmora5\n",
      "C:\\Users\\000092114\\Downloads\\_REPLIT\\Examen01-estebanmora5\n",
      "[WindowsPath('C:/Users/000092114/Downloads/_REPLIT/Examen01-estebanmora5/main.py')]\n",
      "\n",
      " FedericoJuris\n",
      "C:\\Users\\000092114\\Downloads\\_REPLIT\\Examen01-FedericoJuris\n",
      "[WindowsPath('C:/Users/000092114/Downloads/_REPLIT/Examen01-FedericoJuris/main.py')]\n",
      "\n",
      " JuanOssa3\n",
      "C:\\Users\\000092114\\Downloads\\_REPLIT\\Examen01-JuanOssa3\n",
      "[WindowsPath('C:/Users/000092114/Downloads/_REPLIT/Examen01-JuanOssa3/main.py')]\n",
      "\n",
      " JuanRivera44\n",
      "C:\\Users\\000092114\\Downloads\\_REPLIT\\Examen01-JuanRivera44\n",
      "[WindowsPath('C:/Users/000092114/Downloads/_REPLIT/Examen01-JuanRivera44/main.py')]\n",
      "\n",
      " LeandraS\n",
      "C:\\Users\\000092114\\Downloads\\_REPLIT\\Examen01-LeandraS\n",
      "[WindowsPath('C:/Users/000092114/Downloads/_REPLIT/Examen01-LeandraS/main.py')]\n",
      "\n",
      " Maria\n",
      "C:\\Users\\000092114\\Downloads\\_REPLIT\\Examen01-Maria-Alejan173\n",
      "[WindowsPath('C:/Users/000092114/Downloads/_REPLIT/Examen01-Maria-Alejan173/main.py')]\n",
      "\n",
      " mariaclaragaviria\n",
      "C:\\Users\\000092114\\Downloads\\_REPLIT\\Examen01-mariaclaragaviria\n",
      "[WindowsPath('C:/Users/000092114/Downloads/_REPLIT/Examen01-mariaclaragaviria/main.py')]\n",
      "\n",
      " natalianeira\n",
      "C:\\Users\\000092114\\Downloads\\_REPLIT\\Examen01-natalianeira\n",
      "[WindowsPath('C:/Users/000092114/Downloads/_REPLIT/Examen01-natalianeira/main.py')]\n",
      "\n",
      " PaolaGarces\n",
      "C:\\Users\\000092114\\Downloads\\_REPLIT\\Examen01-PaolaGarces\n",
      "[WindowsPath('C:/Users/000092114/Downloads/_REPLIT/Examen01-PaolaGarces/main.py')]\n",
      "\n",
      " saidtellez\n",
      "C:\\Users\\000092114\\Downloads\\_REPLIT\\Examen01-saidtellez\n",
      "[WindowsPath('C:/Users/000092114/Downloads/_REPLIT/Examen01-saidtellez/main.py')]\n",
      "\n",
      " SantiagoHoyos6\n",
      "C:\\Users\\000092114\\Downloads\\_REPLIT\\Examen01-SantiagoHoyos6\n",
      "[WindowsPath('C:/Users/000092114/Downloads/_REPLIT/Examen01-SantiagoHoyos6/main.py')]\n",
      "\n",
      " TomasRamirez10\n",
      "C:\\Users\\000092114\\Downloads\\_REPLIT\\Examen01-TomasRamirez10\n",
      "[WindowsPath('C:/Users/000092114/Downloads/_REPLIT/Examen01-TomasRamirez10/main.py')]\n",
      "\n",
      " valenbetancur4\n",
      "C:\\Users\\000092114\\Downloads\\_REPLIT\\Examen01-valenbetancur4\n",
      "[WindowsPath('C:/Users/000092114/Downloads/_REPLIT/Examen01-valenbetancur4/main.py')]\n",
      "\n",
      " valeriavallejo\n",
      "C:\\Users\\000092114\\Downloads\\_REPLIT\\Examen01-valeriavallejo\n",
      "[WindowsPath('C:/Users/000092114/Downloads/_REPLIT/Examen01-valeriavallejo/main.py')]\n",
      "\n",
      " vanessataborda\n",
      "C:\\Users\\000092114\\Downloads\\_REPLIT\\Examen01-vanessataborda\n",
      "[WindowsPath('C:/Users/000092114/Downloads/_REPLIT/Examen01-vanessataborda/main.py')]\n"
     ]
    }
   ],
   "source": [
    "for pat,nam,scr in zip(pathList,nameList,scriptList):\n",
    "    print(\"\\n\",nam)\n",
    "    print(pat)\n",
    "    print(scr)\n",
    "    if scr == []:\n",
    "        print(f\"\\n\\nError de archivos con {nam}, no se encontraron archivos para revisar en {pat}\\n\\n\")\n",
    "    # leer el contenido del archivo como texto\n",
    "    #print(scriptList[-1][-1].read_text())"
   ]
  },
  {
   "cell_type": "markdown",
   "metadata": {},
   "source": [
    "## Creación de cuadernos individuales por estudiante con el reporte\n",
    "\n",
    "### Importar módulos y definición de funciones\n",
    "\n",
    "**Atención**: solo correr si se requiere generar los cuadernos de retroalimentación."
   ]
  },
  {
   "cell_type": "code",
   "execution_count": 38,
   "metadata": {},
   "outputs": [],
   "source": [
    "if generateNB:\n",
    "\n",
    "    import nbformat as nbf\n",
    "    import itertools \n",
    "\n",
    "    def conformarCeldas(cuaderno,nombre,scripts):\n",
    "        cellsList = list()\n",
    "        text = f\"\"\"\\\n",
    "# {nombre}\n",
    "# {evaluacion}\n",
    "\"\"\"\n",
    "        cellsList.append(nbf.v4.new_markdown_cell(text))\n",
    "        code = f\"\"\"\\\n",
    "%%javascript\n",
    "IPython.notebook.events.off('checkpoint_created.Notebook');\n",
    "IPython.notebook.events.off('notebook_saved.Notebook');\n",
    "\"\"\"\n",
    "        cellsList.append(nbf.v4.new_code_cell(code))\n",
    "\n",
    "        for script in scripts:\n",
    "            try:\n",
    "                codeText = script.read_text(encoding=\"utf8\")\n",
    "            except:\n",
    "                print(f\"fallo lectura de codigo en {script}\")\n",
    "                return cellsList\n",
    "            code = f\"\"\"\\\n",
    "# {script.stem}\\n\n",
    "%reset -sf\\n#para correr el script desde cero, esta linea no afectara la ejecución de su codigo.\\n\n",
    "{codeText}\"\"\"\n",
    "            cellsList.append(nbf.v4.new_code_cell(code))\n",
    "        return cellsList"
   ]
  },
  {
   "cell_type": "markdown",
   "metadata": {},
   "source": [
    "### Crear cuadernos con script por celda de código\n",
    "\n",
    "Se pone el nombre del estudiante en una celda de markdown\n",
    "Luego se crea una celda de código por programa, con un comentario con el nombre del archivo."
   ]
  },
  {
   "cell_type": "code",
   "execution_count": 39,
   "metadata": {
    "scrolled": true
   },
   "outputs": [],
   "source": [
    "if generateNB:\n",
    "\n",
    "    for (estPath,estName,estScripts) in zip(pathList,nameList,scriptList):\n",
    "\n",
    "        nb = nbf.v4.new_notebook()\n",
    "\n",
    "        celdas = conformarCeldas(nb,estName,estScripts)\n",
    "\n",
    "        nb['cells'] = celdas\n",
    "        nbf.write(nb, estPath/f'{estName}.ipynb')"
   ]
  },
  {
   "cell_type": "markdown",
   "metadata": {},
   "source": [
    "### Verificar similaridad\n",
    "\n",
    "Correr estas celdas individualmente.\n",
    "1. Conformar la lista de scripts y estudiantes consolidada\n",
    "2. correr la celda para generar el mapa de similaridad"
   ]
  },
  {
   "cell_type": "code",
   "execution_count": 40,
   "metadata": {},
   "outputs": [],
   "source": [
    "# generar mapa de similaridad\n",
    "from difflib import SequenceMatcher\n",
    "import numpy as np\n",
    "import pandas as pd\n",
    "import seaborn as sns\n",
    "import matplotlib.pyplot as plt\n",
    "import statistics\n",
    "import re\n",
    "\n",
    "\n",
    "def stripComments(code):\n",
    "    code = str(code)\n",
    "    return re.sub(r'(?m)^ *#.*\\n?', '', code)\n",
    "def stripLines(code,lines):\n",
    "    return ''.join(code.splitlines())[lines:]"
   ]
  },
  {
   "cell_type": "code",
   "execution_count": 42,
   "metadata": {},
   "outputs": [
    {
     "name": "stdout",
     "output_type": "stream",
     "text": [
      "35 %\n",
      "10.315090833390606 %\n",
      "FedericoJuris se asemeja en: 52 % a PaolaGarces.\n",
      "Maria se asemeja en: 55 % a saidtellez.\n",
      "mariaclaragaviria se asemeja en: 47 % a saidtellez.\n"
     ]
    }
   ],
   "source": [
    "try:\n",
    "    print(umbral,'%')\n",
    "    print(similarStdev,'%')\n",
    "except:\n",
    "    umbral = 90 #porcentaje de similitud\n",
    "\n",
    "dimension = len(scriptList)\n",
    "similarity = np.zeros((dimension,dimension))\n",
    "mostSimilar = []\n",
    "flatSimilar = []\n",
    "for i,script_base in enumerate(scriptList):\n",
    "    for j,script_cmp in enumerate(scriptList):\n",
    "        with open(script_base[0], errors='ignore',encoding='UTF-8') as fileA,open(script_cmp[0], errors='ignore',encoding='UTF-8') as fileB:\n",
    "            fileAData = fileA.read()\n",
    "            fileAData = stripComments(fileAData)\n",
    "            fileBData = fileB.read()\n",
    "            fileBData = stripComments(fileBData)\n",
    "            similarity[[i],[j]] = int(SequenceMatcher(None, fileAData,fileBData).ratio()*100)\n",
    "            if similarity[[i],[j]]>umbral and j>i: #solo tomar a la derecha de la diagonal.\n",
    "                mostSimilar.append([script_base[0],script_cmp[0],similarity[[i],[j]][0]])\n",
    "                print( f\"{nameList[i]} se asemeja en: {similarity[i][j]:.0f} % a {nameList[j]}.\")\n",
    "            if j>i:\n",
    "                flatSimilar.append(similarity[[i],[j]][0])\n",
    "\n",
    "similarStdev = statistics.stdev(flatSimilar)\n",
    "similarMean = statistics.mean(flatSimilar)\n",
    "umbral = int(similarMean+(similarStdev*2))\n",
    "df = pd.DataFrame(similarity, columns = nameList, index = nameList)"
   ]
  },
  {
   "cell_type": "code",
   "execution_count": 9,
   "metadata": {},
   "outputs": [],
   "source": [
    "# percSimilar = dict((i,item) for i,item in enumerate(mostSimilar))\n",
    "# print(percSimilar)    \n",
    "# print(fileAData)"
   ]
  },
  {
   "cell_type": "markdown",
   "metadata": {},
   "source": [
    "## Por hacer\n",
    "\n",
    "Generar una lista de parejas de personas con similaridad mayor a cierto umbral, luego llamar al comparador con interfaz gráfica: https://github.com/yebrahim/pydiff\n",
    "\n",
    "- Generar parejas de similares con mayor a umbral\n",
    "- Verificar uso de la herramienta llamada desde cli.\n",
    "- Sistematizar la revisión de comparación"
   ]
  },
  {
   "cell_type": "code",
   "execution_count": 43,
   "metadata": {
    "scrolled": false
   },
   "outputs": [
    {
     "data": {
      "image/png": "[encoded data removed]",
      "text/plain": [
       "<Figure size 504x432 with 2 Axes>"
      ]
     },
     "metadata": {},
     "output_type": "display_data"
    }
   ],
   "source": [
    "# print(df)\n",
    "sns.set(font_scale=0.5)\n",
    "sns.set_palette(\"coolwarm\")\n",
    "figure = plt.gcf() # get current figure\n",
    "figure.set_size_inches(7, 6)\n",
    "mapa = sns.heatmap(df, annot=True, vmin = similarMean, vmax = max(flatSimilar),cmap = \"Reds\")\n",
    "plt.savefig(rootpath/'mapaSimilaridad.pdf', dpi=300,bbox_inches='tight')"
   ]
  },
  {
   "cell_type": "markdown",
   "metadata": {},
   "source": [
    "#### Pendientes mapa de calor\n",
    "\n",
    "convertir en mapa de calor diagonal, seleccionar el máximo y hacer la gráfica como se indica aquí:\n",
    "https://seaborn.pydata.org/examples/many_pairwise_correlations.html"
   ]
  },
  {
   "cell_type": "markdown",
   "metadata": {},
   "source": [
    "### Crear un cuaderno con todos los códigos para comparación y verificación de fraudes"
   ]
  },
  {
   "cell_type": "code",
   "execution_count": 44,
   "metadata": {},
   "outputs": [],
   "source": [
    "import subprocess\n",
    "\n",
    "for similar in mostSimilar:\n",
    "    path1 = str(similar[0])\n",
    "    path2 = str(similar[1])\n",
    "    command = f'python pydiff.py -p \"{path1}\" \"{path2}\"'\n",
    "#     print(command)\n",
    "    try:\n",
    "        subprocess.call(command, timeout = 1, shell=True)\n",
    "    except:\n",
    "        pass\n",
    "#   os.system(command)\n",
    "# nb = nbf.v4.new_notebook()\n",
    "# for (estPath,estName,estScripts) in zip(pathList,nameList,scriptList):\n",
    "#     celdas = conformarCeldas(nb,estName,estScripts)\n",
    "    \n",
    "#     nb['cells'] += celdas\n",
    "# nbf.write(nb, 'RevisionEntregas.ipynb')"
   ]
  },
  {
   "cell_type": "markdown",
   "metadata": {},
   "source": [
    "### Refs\n",
    "\n",
    "https://nbviewer.org/gist/fperez/9716279\n",
    "\n",
    "https://github.com/yebrahim/pydiff"
   ]
  }
 ],
 "metadata": {
  "kernelspec": {
   "display_name": "Python 3 (ipykernel)",
   "language": "python",
   "name": "python3"
  },
  "language_info": {
   "codemirror_mode": {
    "name": "ipython",
    "version": 3
   },
   "file_extension": ".py",
   "mimetype": "text/x-python",
   "name": "python",
   "nbconvert_exporter": "python",
   "pygments_lexer": "ipython3",
   "version": "3.9.12"
  },
  "toc": {
   "base_numbering": 1,
   "nav_menu": {},
   "number_sections": true,
   "sideBar": true,
   "skip_h1_title": false,
   "title_cell": "Table of Contents",
   "title_sidebar": "Contents",
   "toc_cell": false,
   "toc_position": {},
   "toc_section_display": true,
   "toc_window_display": false
  },
  "varInspector": {
   "cols": {
    "lenName": 16,
    "lenType": 16,
    "lenVar": 40
   },
   "kernels_config": {
    "python": {
     "delete_cmd_postfix": "",
     "delete_cmd_prefix": "del ",
     "library": "var_list.py",
     "varRefreshCmd": "print(var_dic_list())"
    },
    "r": {
     "delete_cmd_postfix": ") ",
     "delete_cmd_prefix": "rm(",
     "library": "var_list.r",
     "varRefreshCmd": "cat(var_dic_list()) "
    }
   },
   "types_to_exclude": [
    "module",
    "function",
    "builtin_function_or_method",
    "instance",
    "_Feature"
   ],
   "window_display": false
  }
 },
 "nbformat": 4,
 "nbformat_minor": 4
}
